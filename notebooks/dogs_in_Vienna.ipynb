{
 "cells": [
  {
   "cell_type": "markdown",
   "metadata": {},
   "source": [
    "# Dogs in Vienna: Sample Open Data Analysis Script\n",
    "This is a sample script showing how an open data datasets can be analysed and demonstrated using [Jupiter Notebooks](http://jupyter.org). Similar examples can be found on [Kaggle web-site](https://www.kaggle.com/kernels).\n",
    "\n",
    "## Acknowledgments\n",
    "1. Inspired by [Detail Analysis of various Hospital factors](https://www.kaggle.com/nirajvermafcb/d/cms/hospital-general-information/detail-analysis-of-various-hospital-factors)"
   ]
  },
  {
   "cell_type": "markdown",
   "metadata": {},
   "source": [
    "## Open Data Story"
   ]
  },
  {
   "cell_type": "code",
   "execution_count": 13,
   "metadata": {
    "collapsed": false
   },
   "outputs": [],
   "source": [
    "# Load libraries\n",
    "import pandas as pd # CSV file processing\n",
    "import numpy as np # vector and matrix manipulation\n",
    "import matplotlib.pyplot as plt # visualisation\n",
    "import seaborn as sns # visualisation\n",
    "%matplotlib inline"
   ]
  },
  {
   "cell_type": "markdown",
   "metadata": {},
   "source": [
    "### Get the Data\n",
    "Let's load a dataset and make sure it is loaded correctly, so that we can use it for our analysis. It is often not that trivial as it may seem and involves a lot of data wrangling and debugging in order to find and eliminate possible errors or inconsistences in the dataset. \n",
    "\n",
    "This step should not be underestimated since it defines the final result of our data analysis.\n",
    "Remember: \"Garbage in,  garbage out!\""
   ]
  },
  {
   "cell_type": "code",
   "execution_count": 14,
   "metadata": {
    "collapsed": false
   },
   "outputs": [],
   "source": [
    "# Load the csv file from the open data portal\n",
    "# dataset description: https://www.data.gv.at/katalog/dataset/stadt-wien_anzahlderhundeprobezirkderstadtwien/resource/b8d97349-c993-486d-b273-362e0524f98c\n",
    "data_path = 'https://www.wien.gv.at/finanzen/ogd/hunde-wien.csv'\n",
    "# Look up the row file and specify the dataset format, e.g. delimiters\n",
    "data = pd.read_csv(data_path, delimiter=';', encoding='latin-1')\n"
   ]
  },
  {
   "cell_type": "markdown",
   "metadata": {},
   "source": [
    "Oops the first row of our CSV file contains the name of the table, which we should skip."
   ]
  },
  {
   "cell_type": "code",
   "execution_count": 27,
   "metadata": {
    "collapsed": false
   },
   "outputs": [
    {
     "data": {
      "text/html": [
       "<div>\n",
       "<table border=\"1\" class=\"dataframe\">\n",
       "  <thead>\n",
       "    <tr style=\"text-align: right;\">\n",
       "      <th></th>\n",
       "      <th>NUTS1</th>\n",
       "      <th>NUTS2</th>\n",
       "      <th>NUTS3</th>\n",
       "      <th>DISTRICT_CODE</th>\n",
       "      <th>SUB_DISTRICT_CODE</th>\n",
       "      <th>Postal_CODE</th>\n",
       "      <th>Dog Breed</th>\n",
       "      <th>Anzahl</th>\n",
       "      <th>Ref_Date</th>\n",
       "    </tr>\n",
       "  </thead>\n",
       "  <tbody>\n",
       "    <tr>\n",
       "      <th>0</th>\n",
       "      <td>AT1</td>\n",
       "      <td>AT13</td>\n",
       "      <td>AT113</td>\n",
       "      <td>90100</td>\n",
       "      <td>.</td>\n",
       "      <td>1010</td>\n",
       "      <td>Afghanischer Windhund</td>\n",
       "      <td>1</td>\n",
       "      <td>20161201</td>\n",
       "    </tr>\n",
       "    <tr>\n",
       "      <th>1</th>\n",
       "      <td>AT1</td>\n",
       "      <td>AT13</td>\n",
       "      <td>AT113</td>\n",
       "      <td>90100</td>\n",
       "      <td>.</td>\n",
       "      <td>1010</td>\n",
       "      <td>Amerikanischer Pit-Bullterrier</td>\n",
       "      <td>1</td>\n",
       "      <td>20161201</td>\n",
       "    </tr>\n",
       "    <tr>\n",
       "      <th>2</th>\n",
       "      <td>AT1</td>\n",
       "      <td>AT13</td>\n",
       "      <td>AT113</td>\n",
       "      <td>90100</td>\n",
       "      <td>.</td>\n",
       "      <td>1010</td>\n",
       "      <td>Amerikanischer Staffordshire-Terrier</td>\n",
       "      <td>4</td>\n",
       "      <td>20161201</td>\n",
       "    </tr>\n",
       "    <tr>\n",
       "      <th>3</th>\n",
       "      <td>AT1</td>\n",
       "      <td>AT13</td>\n",
       "      <td>AT113</td>\n",
       "      <td>90100</td>\n",
       "      <td>.</td>\n",
       "      <td>1010</td>\n",
       "      <td>Amerikanischer Staffordshire-Terrier / Mischling</td>\n",
       "      <td>1</td>\n",
       "      <td>20161201</td>\n",
       "    </tr>\n",
       "    <tr>\n",
       "      <th>4</th>\n",
       "      <td>AT1</td>\n",
       "      <td>AT13</td>\n",
       "      <td>AT113</td>\n",
       "      <td>90100</td>\n",
       "      <td>.</td>\n",
       "      <td>1010</td>\n",
       "      <td>Australian Shepherd Dog</td>\n",
       "      <td>3</td>\n",
       "      <td>20161201</td>\n",
       "    </tr>\n",
       "  </tbody>\n",
       "</table>\n",
       "</div>"
      ],
      "text/plain": [
       "  NUTS1 NUTS2  NUTS3  DISTRICT_CODE SUB_DISTRICT_CODE  Postal_CODE  \\\n",
       "0   AT1  AT13  AT113          90100                 .         1010   \n",
       "1   AT1  AT13  AT113          90100                 .         1010   \n",
       "2   AT1  AT13  AT113          90100                 .         1010   \n",
       "3   AT1  AT13  AT113          90100                 .         1010   \n",
       "4   AT1  AT13  AT113          90100                 .         1010   \n",
       "\n",
       "                                          Dog Breed Anzahl  Ref_Date  \n",
       "0                             Afghanischer Windhund      1  20161201  \n",
       "1                    Amerikanischer Pit-Bullterrier      1  20161201  \n",
       "2              Amerikanischer Staffordshire-Terrier      4  20161201  \n",
       "3  Amerikanischer Staffordshire-Terrier / Mischling      1  20161201  \n",
       "4                           Australian Shepherd Dog      3  20161201  "
      ]
     },
     "execution_count": 27,
     "metadata": {},
     "output_type": "execute_result"
    }
   ],
   "source": [
    "# Reload dataset\n",
    "data = pd.read_csv(data_path, delimiter=';', skiprows=1, encoding='latin-1')\n",
    "# Check the top of the table to make sure the dataset is loaded correctly \n",
    "data.head()"
   ]
  },
  {
   "cell_type": "markdown",
   "metadata": {},
   "source": [
    "The top rows look just fine. But what about the rest?"
   ]
  },
  {
   "cell_type": "code",
   "execution_count": 28,
   "metadata": {
    "collapsed": false
   },
   "outputs": [
    {
     "data": {
      "text/plain": [
       "(5740, 9)"
      ]
     },
     "execution_count": 28,
     "metadata": {},
     "output_type": "execute_result"
    }
   ],
   "source": [
    "data.shape"
   ]
  },
  {
   "cell_type": "markdown",
   "metadata": {},
   "source": [
    "Our dataset contains 5740 rows and 9 columns."
   ]
  },
  {
   "cell_type": "code",
   "execution_count": 29,
   "metadata": {
    "collapsed": false
   },
   "outputs": [
    {
     "data": {
      "text/plain": [
       "NUTS1                object\n",
       "NUTS2                object\n",
       "NUTS3                object\n",
       "DISTRICT_CODE         int64\n",
       "SUB_DISTRICT_CODE    object\n",
       "Postal_CODE           int64\n",
       "Dog Breed            object\n",
       "Anzahl               object\n",
       "Ref_Date              int64\n",
       "dtype: object"
      ]
     },
     "execution_count": 29,
     "metadata": {},
     "output_type": "execute_result"
    }
   ],
   "source": [
    "# Check the column types to make sure the dataset is loaded correctly\n",
    "data.dtypes"
   ]
  },
  {
   "cell_type": "markdown",
   "metadata": {},
   "source": [
    "Count (Anzahl) is not recognized as numeric data. We shall fix this!"
   ]
  },
  {
   "cell_type": "code",
   "execution_count": 30,
   "metadata": {
    "collapsed": false
   },
   "outputs": [
    {
     "data": {
      "text/html": [
       "<div>\n",
       "<table border=\"1\" class=\"dataframe\">\n",
       "  <thead>\n",
       "    <tr style=\"text-align: right;\">\n",
       "      <th></th>\n",
       "      <th>NUTS1</th>\n",
       "      <th>NUTS2</th>\n",
       "      <th>NUTS3</th>\n",
       "      <th>DISTRICT_CODE</th>\n",
       "      <th>SUB_DISTRICT_CODE</th>\n",
       "      <th>Postal_CODE</th>\n",
       "      <th>Dog Breed</th>\n",
       "      <th>Anzahl</th>\n",
       "      <th>Ref_Date</th>\n",
       "    </tr>\n",
       "  </thead>\n",
       "  <tbody>\n",
       "    <tr>\n",
       "      <th>1914</th>\n",
       "      <td>AT1</td>\n",
       "      <td>AT13</td>\n",
       "      <td>AT113</td>\n",
       "      <td>91000</td>\n",
       "      <td>.</td>\n",
       "      <td>1100</td>\n",
       "      <td>Unbekannt</td>\n",
       "      <td>1,51</td>\n",
       "      <td>20161201</td>\n",
       "    </tr>\n",
       "    <tr>\n",
       "      <th>2210</th>\n",
       "      <td>AT1</td>\n",
       "      <td>AT13</td>\n",
       "      <td>AT113</td>\n",
       "      <td>91100</td>\n",
       "      <td>.</td>\n",
       "      <td>1110</td>\n",
       "      <td>Unbekannt</td>\n",
       "      <td>1,029</td>\n",
       "      <td>20161201</td>\n",
       "    </tr>\n",
       "    <tr>\n",
       "      <th>4879</th>\n",
       "      <td>AT1</td>\n",
       "      <td>AT13</td>\n",
       "      <td>AT113</td>\n",
       "      <td>92100</td>\n",
       "      <td>.</td>\n",
       "      <td>1210</td>\n",
       "      <td>Unbekannt</td>\n",
       "      <td>2,066</td>\n",
       "      <td>20161201</td>\n",
       "    </tr>\n",
       "    <tr>\n",
       "      <th>5347</th>\n",
       "      <td>AT1</td>\n",
       "      <td>AT13</td>\n",
       "      <td>AT113</td>\n",
       "      <td>92200</td>\n",
       "      <td>.</td>\n",
       "      <td>1220</td>\n",
       "      <td>Unbekannt</td>\n",
       "      <td>2,46</td>\n",
       "      <td>20161201</td>\n",
       "    </tr>\n",
       "    <tr>\n",
       "      <th>5715</th>\n",
       "      <td>AT1</td>\n",
       "      <td>AT13</td>\n",
       "      <td>AT113</td>\n",
       "      <td>92300</td>\n",
       "      <td>.</td>\n",
       "      <td>1230</td>\n",
       "      <td>Unbekannt</td>\n",
       "      <td>1,215</td>\n",
       "      <td>20161201</td>\n",
       "    </tr>\n",
       "  </tbody>\n",
       "</table>\n",
       "</div>"
      ],
      "text/plain": [
       "     NUTS1 NUTS2  NUTS3  DISTRICT_CODE SUB_DISTRICT_CODE  Postal_CODE  \\\n",
       "1914   AT1  AT13  AT113          91000                 .         1100   \n",
       "2210   AT1  AT13  AT113          91100                 .         1110   \n",
       "4879   AT1  AT13  AT113          92100                 .         1210   \n",
       "5347   AT1  AT13  AT113          92200                 .         1220   \n",
       "5715   AT1  AT13  AT113          92300                 .         1230   \n",
       "\n",
       "      Dog Breed Anzahl  Ref_Date  \n",
       "1914  Unbekannt   1,51  20161201  \n",
       "2210  Unbekannt  1,029  20161201  \n",
       "4879  Unbekannt  2,066  20161201  \n",
       "5347  Unbekannt   2,46  20161201  \n",
       "5715  Unbekannt  1,215  20161201  "
      ]
     },
     "execution_count": 30,
     "metadata": {},
     "output_type": "execute_result"
    }
   ],
   "source": [
    "# Check the rows that are not recognized as numeric\n",
    "data[data.Anzahl.apply(lambda x: not x.isnumeric())]"
   ]
  },
  {
   "cell_type": "markdown",
   "metadata": {},
   "source": [
    "Hmmm that looks interesting. 1,51 of a dog. What could that possibly mean?\n",
    "\n",
    "Maybe 0s in the end of thousands got accidentally droped?\n",
    "This does indeed look like a plausible explanation for these numbers. Lets try to fix this."
   ]
  },
  {
   "cell_type": "code",
   "execution_count": 31,
   "metadata": {
    "collapsed": false
   },
   "outputs": [
    {
     "name": "stdout",
     "output_type": "stream",
     "text": [
      "<class 'pandas.core.frame.DataFrame'>\n",
      "RangeIndex: 5740 entries, 0 to 5739\n",
      "Data columns (total 9 columns):\n",
      "NUTS1                5740 non-null object\n",
      "NUTS2                5740 non-null object\n",
      "NUTS3                5740 non-null object\n",
      "DISTRICT_CODE        5740 non-null int64\n",
      "SUB_DISTRICT_CODE    5740 non-null object\n",
      "Postal_CODE          5740 non-null int64\n",
      "Dog Breed            5740 non-null object\n",
      "Anzahl               5740 non-null int64\n",
      "Ref_Date             5740 non-null int64\n",
      "dtypes: int64(4), object(5)\n",
      "memory usage: 403.7+ KB\n"
     ]
    }
   ],
   "source": [
    "# Reload dataset\n",
    "data = pd.read_csv(data_path, delimiter=';', skiprows=1, thousands=',', encoding='latin-1')\n",
    "# Check the column types to make sure the dataset is loaded correctly\n",
    "data.info()"
   ]
  },
  {
   "cell_type": "markdown",
   "metadata": {},
   "source": [
    "Looks good: count is recognized as integer (Anzahl int64).\n",
    "But I want to make sure the numbers were translated correctly. Lets find these rows."
   ]
  },
  {
   "cell_type": "code",
   "execution_count": 32,
   "metadata": {
    "collapsed": false
   },
   "outputs": [
    {
     "data": {
      "text/html": [
       "<div>\n",
       "<table border=\"1\" class=\"dataframe\">\n",
       "  <thead>\n",
       "    <tr style=\"text-align: right;\">\n",
       "      <th></th>\n",
       "      <th>NUTS1</th>\n",
       "      <th>NUTS2</th>\n",
       "      <th>NUTS3</th>\n",
       "      <th>DISTRICT_CODE</th>\n",
       "      <th>SUB_DISTRICT_CODE</th>\n",
       "      <th>Postal_CODE</th>\n",
       "      <th>Dog Breed</th>\n",
       "      <th>Anzahl</th>\n",
       "      <th>Ref_Date</th>\n",
       "    </tr>\n",
       "  </thead>\n",
       "  <tbody>\n",
       "    <tr>\n",
       "      <th>1914</th>\n",
       "      <td>AT1</td>\n",
       "      <td>AT13</td>\n",
       "      <td>AT113</td>\n",
       "      <td>91000</td>\n",
       "      <td>.</td>\n",
       "      <td>1100</td>\n",
       "      <td>Unbekannt</td>\n",
       "      <td>151</td>\n",
       "      <td>20161201</td>\n",
       "    </tr>\n",
       "  </tbody>\n",
       "</table>\n",
       "</div>"
      ],
      "text/plain": [
       "     NUTS1 NUTS2  NUTS3  DISTRICT_CODE SUB_DISTRICT_CODE  Postal_CODE  \\\n",
       "1914   AT1  AT13  AT113          91000                 .         1100   \n",
       "\n",
       "      Dog Breed  Anzahl  Ref_Date  \n",
       "1914  Unbekannt     151  20161201  "
      ]
     },
     "execution_count": 32,
     "metadata": {},
     "output_type": "execute_result"
    }
   ],
   "source": [
    "# Filter raws based on multiple columns\n",
    "data[(data['Dog Breed']=='Unbekannt') & (data['Postal_CODE']==1100)]"
   ]
  },
  {
   "cell_type": "markdown",
   "metadata": {},
   "source": [
    "Oh no that did not work magic. We need to fix these cases manually."
   ]
  },
  {
   "cell_type": "code",
   "execution_count": 33,
   "metadata": {
    "collapsed": false
   },
   "outputs": [
    {
     "name": "stderr",
     "output_type": "stream",
     "text": [
      "/anaconda/lib/python2.7/site-packages/ipykernel/__main__.py:2: SettingWithCopyWarning: \n",
      "A value is trying to be set on a copy of a slice from a DataFrame\n",
      "\n",
      "See the caveats in the documentation: http://pandas.pydata.org/pandas-docs/stable/indexing.html#indexing-view-versus-copy\n",
      "  from ipykernel import kernelapp as app\n",
      "/anaconda/lib/python2.7/site-packages/ipykernel/__main__.py:3: SettingWithCopyWarning: \n",
      "A value is trying to be set on a copy of a slice from a DataFrame\n",
      "\n",
      "See the caveats in the documentation: http://pandas.pydata.org/pandas-docs/stable/indexing.html#indexing-view-versus-copy\n",
      "  app.launch_new_instance()\n"
     ]
    },
    {
     "data": {
      "text/html": [
       "<div>\n",
       "<table border=\"1\" class=\"dataframe\">\n",
       "  <thead>\n",
       "    <tr style=\"text-align: right;\">\n",
       "      <th></th>\n",
       "      <th>NUTS1</th>\n",
       "      <th>NUTS2</th>\n",
       "      <th>NUTS3</th>\n",
       "      <th>DISTRICT_CODE</th>\n",
       "      <th>SUB_DISTRICT_CODE</th>\n",
       "      <th>Postal_CODE</th>\n",
       "      <th>Dog Breed</th>\n",
       "      <th>Anzahl</th>\n",
       "      <th>Ref_Date</th>\n",
       "    </tr>\n",
       "  </thead>\n",
       "  <tbody>\n",
       "    <tr>\n",
       "      <th>1914</th>\n",
       "      <td>AT1</td>\n",
       "      <td>AT13</td>\n",
       "      <td>AT113</td>\n",
       "      <td>91000</td>\n",
       "      <td>.</td>\n",
       "      <td>1100</td>\n",
       "      <td>Unbekannt</td>\n",
       "      <td>1510</td>\n",
       "      <td>20161201</td>\n",
       "    </tr>\n",
       "  </tbody>\n",
       "</table>\n",
       "</div>"
      ],
      "text/plain": [
       "     NUTS1 NUTS2  NUTS3  DISTRICT_CODE SUB_DISTRICT_CODE  Postal_CODE  \\\n",
       "1914   AT1  AT13  AT113          91000                 .         1100   \n",
       "\n",
       "      Dog Breed  Anzahl  Ref_Date  \n",
       "1914  Unbekannt    1510  20161201  "
      ]
     },
     "execution_count": 33,
     "metadata": {},
     "output_type": "execute_result"
    }
   ],
   "source": [
    "# Correct individual values in the dataset\n",
    "data['Anzahl'][1914] = 1510\n",
    "data['Anzahl'][5347] = 2460\n",
    "# Filter raws based on multiple columns\n",
    "data[(data['Dog Breed']=='Unbekannt') & (data['Postal_CODE']==1100)]"
   ]
  },
  {
   "cell_type": "code",
   "execution_count": 34,
   "metadata": {
    "collapsed": false
   },
   "outputs": [
    {
     "data": {
      "text/html": [
       "<div>\n",
       "<table border=\"1\" class=\"dataframe\">\n",
       "  <thead>\n",
       "    <tr style=\"text-align: right;\">\n",
       "      <th></th>\n",
       "      <th>DISTRICT_CODE</th>\n",
       "      <th>Postal_CODE</th>\n",
       "      <th>Anzahl</th>\n",
       "      <th>Ref_Date</th>\n",
       "    </tr>\n",
       "  </thead>\n",
       "  <tbody>\n",
       "    <tr>\n",
       "      <th>count</th>\n",
       "      <td>5740.000000</td>\n",
       "      <td>5740.000000</td>\n",
       "      <td>5740.000000</td>\n",
       "      <td>5740.0</td>\n",
       "    </tr>\n",
       "    <tr>\n",
       "      <th>mean</th>\n",
       "      <td>91355.000000</td>\n",
       "      <td>1135.500000</td>\n",
       "      <td>9.743728</td>\n",
       "      <td>20161201.0</td>\n",
       "    </tr>\n",
       "    <tr>\n",
       "      <th>std</th>\n",
       "      <td>668.274742</td>\n",
       "      <td>66.827474</td>\n",
       "      <td>61.095023</td>\n",
       "      <td>0.0</td>\n",
       "    </tr>\n",
       "    <tr>\n",
       "      <th>min</th>\n",
       "      <td>90100.000000</td>\n",
       "      <td>1010.000000</td>\n",
       "      <td>1.000000</td>\n",
       "      <td>20161201.0</td>\n",
       "    </tr>\n",
       "    <tr>\n",
       "      <th>25%</th>\n",
       "      <td>90900.000000</td>\n",
       "      <td>1090.000000</td>\n",
       "      <td>1.000000</td>\n",
       "      <td>20161201.0</td>\n",
       "    </tr>\n",
       "    <tr>\n",
       "      <th>50%</th>\n",
       "      <td>91400.000000</td>\n",
       "      <td>1140.000000</td>\n",
       "      <td>2.000000</td>\n",
       "      <td>20161201.0</td>\n",
       "    </tr>\n",
       "    <tr>\n",
       "      <th>75%</th>\n",
       "      <td>92000.000000</td>\n",
       "      <td>1200.000000</td>\n",
       "      <td>5.000000</td>\n",
       "      <td>20161201.0</td>\n",
       "    </tr>\n",
       "    <tr>\n",
       "      <th>max</th>\n",
       "      <td>92300.000000</td>\n",
       "      <td>1230.000000</td>\n",
       "      <td>2460.000000</td>\n",
       "      <td>20161201.0</td>\n",
       "    </tr>\n",
       "  </tbody>\n",
       "</table>\n",
       "</div>"
      ],
      "text/plain": [
       "       DISTRICT_CODE  Postal_CODE       Anzahl    Ref_Date\n",
       "count    5740.000000  5740.000000  5740.000000      5740.0\n",
       "mean    91355.000000  1135.500000     9.743728  20161201.0\n",
       "std       668.274742    66.827474    61.095023         0.0\n",
       "min     90100.000000  1010.000000     1.000000  20161201.0\n",
       "25%     90900.000000  1090.000000     1.000000  20161201.0\n",
       "50%     91400.000000  1140.000000     2.000000  20161201.0\n",
       "75%     92000.000000  1200.000000     5.000000  20161201.0\n",
       "max     92300.000000  1230.000000  2460.000000  20161201.0"
      ]
     },
     "execution_count": 34,
     "metadata": {},
     "output_type": "execute_result"
    }
   ],
   "source": [
    "# Check descriptive statistics\n",
    "data.describe()\n",
    "# data['Ref_Date'].unique()"
   ]
  },
  {
   "cell_type": "markdown",
   "metadata": {},
   "source": [
    "The district and postal codes range from 90100 (1010) to 92300 (1230) indicating the 23 districts of Vienna (Wiener Bezirke).\n",
    "\n",
    "All rows describe the data for a single reference date: 2016 12 01. Since the date format is not explicitly specified, it is not clear though whether it is the 1st of December or the 12th of January.\n",
    "\n",
    "Essentially the dataset boils down to the information: District | Dog Breed | Dog Count\n",
    "\n",
    "Now the data is prepared to be analysed."
   ]
  },
  {
   "cell_type": "markdown",
   "metadata": {},
   "source": [
    "### Analyse the Data\n",
    "#### Column Stats"
   ]
  },
  {
   "cell_type": "code",
   "execution_count": 35,
   "metadata": {
    "collapsed": false
   },
   "outputs": [
    {
     "data": {
      "text/plain": [
       "55929"
      ]
     },
     "execution_count": 35,
     "metadata": {},
     "output_type": "execute_result"
    }
   ],
   "source": [
    "sum(data['Anzahl'])"
   ]
  },
  {
   "cell_type": "markdown",
   "metadata": {},
   "source": [
    "Almost 56 thousand dogs are registered in Vienna."
   ]
  },
  {
   "cell_type": "code",
   "execution_count": 17,
   "metadata": {
    "collapsed": false
   },
   "outputs": [
    {
     "data": {
      "text/plain": [
       "1061"
      ]
     },
     "execution_count": 17,
     "metadata": {},
     "output_type": "execute_result"
    }
   ],
   "source": [
    "# Check unique values in one of the columns\n",
    "unique_breeds = data['Dog Breed'].unique()\n",
    "len(unique_breeds)"
   ]
  },
  {
   "cell_type": "markdown",
   "metadata": {},
   "source": [
    "We have 1,061 different types of dogs living in Vienna, how cool is that!"
   ]
  },
  {
   "cell_type": "markdown",
   "metadata": {},
   "source": [
    "#### Data Slices"
   ]
  },
  {
   "cell_type": "code",
   "execution_count": 121,
   "metadata": {
    "collapsed": false
   },
   "outputs": [
    {
     "data": {
      "text/html": [
       "<div>\n",
       "<table border=\"1\" class=\"dataframe\">\n",
       "  <thead>\n",
       "    <tr style=\"text-align: right;\">\n",
       "      <th></th>\n",
       "      <th>Postal_CODE</th>\n",
       "      <th>Dog Breed</th>\n",
       "      <th>Anzahl</th>\n",
       "    </tr>\n",
       "  </thead>\n",
       "  <tbody>\n",
       "    <tr>\n",
       "      <th>5347</th>\n",
       "      <td>1220</td>\n",
       "      <td>Unbekannt</td>\n",
       "      <td>2460</td>\n",
       "    </tr>\n",
       "    <tr>\n",
       "      <th>4879</th>\n",
       "      <td>1210</td>\n",
       "      <td>Unbekannt</td>\n",
       "      <td>2066</td>\n",
       "    </tr>\n",
       "    <tr>\n",
       "      <th>1914</th>\n",
       "      <td>1100</td>\n",
       "      <td>Unbekannt</td>\n",
       "      <td>1510</td>\n",
       "    </tr>\n",
       "    <tr>\n",
       "      <th>5715</th>\n",
       "      <td>1230</td>\n",
       "      <td>Unbekannt</td>\n",
       "      <td>1215</td>\n",
       "    </tr>\n",
       "    <tr>\n",
       "      <th>2210</th>\n",
       "      <td>1110</td>\n",
       "      <td>Unbekannt</td>\n",
       "      <td>1029</td>\n",
       "    </tr>\n",
       "  </tbody>\n",
       "</table>\n",
       "</div>"
      ],
      "text/plain": [
       "      Postal_CODE  Dog Breed  Anzahl\n",
       "5347         1220  Unbekannt    2460\n",
       "4879         1210  Unbekannt    2066\n",
       "1914         1100  Unbekannt    1510\n",
       "5715         1230  Unbekannt    1215\n",
       "2210         1110  Unbekannt    1029"
      ]
     },
     "execution_count": 121,
     "metadata": {},
     "output_type": "execute_result"
    }
   ],
   "source": [
    "# Check the top counts\n",
    "sorted_count = data.sort_values(['Anzahl'], ascending=False)\n",
    "sorted_count[['Postal_CODE','Dog Breed', 'Anzahl']].head()"
   ]
  },
  {
   "cell_type": "markdown",
   "metadata": {},
   "source": [
    "Most of the dog breeds is unfortunately unknown (Unbekannt). It is not clear though, whether we do not know the breed of a dog or they do not know their breed themselves.\n",
    "\n",
    "Let's exclude the unknown to see the most popular breeds per district."
   ]
  },
  {
   "cell_type": "code",
   "execution_count": 120,
   "metadata": {
    "collapsed": false
   },
   "outputs": [
    {
     "ename": "NameError",
     "evalue": "name 'sorted_count' is not defined",
     "output_type": "error",
     "traceback": [
      "\u001b[0;31m---------------------------------------------------------------------------\u001b[0m",
      "\u001b[0;31mNameError\u001b[0m                                 Traceback (most recent call last)",
      "\u001b[0;32m<ipython-input-120-ea198d36c224>\u001b[0m in \u001b[0;36m<module>\u001b[0;34m()\u001b[0m\n\u001b[1;32m      1\u001b[0m \u001b[0;31m# Filter out specific rows\u001b[0m\u001b[0;34m\u001b[0m\u001b[0;34m\u001b[0m\u001b[0m\n\u001b[0;32m----> 2\u001b[0;31m \u001b[0msorted_count\u001b[0m\u001b[0;34m[\u001b[0m\u001b[0;34m(\u001b[0m\u001b[0mdata\u001b[0m\u001b[0;34m[\u001b[0m\u001b[0;34m'Dog Breed'\u001b[0m\u001b[0;34m]\u001b[0m\u001b[0;34m!=\u001b[0m\u001b[0;34m'Unbekannt'\u001b[0m\u001b[0;34m)\u001b[0m\u001b[0;34m]\u001b[0m\u001b[0;34m[\u001b[0m\u001b[0;34m[\u001b[0m\u001b[0;34m'Postal_CODE'\u001b[0m\u001b[0;34m,\u001b[0m\u001b[0;34m'Dog Breed'\u001b[0m\u001b[0;34m,\u001b[0m \u001b[0;34m'Anzahl'\u001b[0m\u001b[0;34m]\u001b[0m\u001b[0;34m]\u001b[0m\u001b[0;34m.\u001b[0m\u001b[0mhead\u001b[0m\u001b[0;34m(\u001b[0m\u001b[0;34m)\u001b[0m\u001b[0;34m\u001b[0m\u001b[0m\n\u001b[0m",
      "\u001b[0;31mNameError\u001b[0m: name 'sorted_count' is not defined"
     ]
    }
   ],
   "source": [
    "# Filter out specific rows\n",
    "sorted_count[(data['Dog Breed']!='Unbekannt')][['Postal_CODE','Dog Breed', 'Anzahl']].head()"
   ]
  },
  {
   "cell_type": "markdown",
   "metadata": {},
   "source": [
    "\"Chihuahua here. Chihuahua there. Everybody wants it everywhere.\"\n",
    "\n",
    "Indeed, especially in the 10th, 21st and 22nd districts of Vienna. The inhabitants of the 22nd district also turned out to be huge fans of Labradors and Golden Retrievers. \n",
    "\n",
    "Now you know where to go if you enjoy dog-watching!"
   ]
  },
  {
   "cell_type": "markdown",
   "metadata": {},
   "source": [
    "#### Aggregate\n",
    "##### Dog Breeds in Vienna\n",
    "Now let's get rid of the district specific counts by summing up over all districts of Vienna to see which are the most popular breeds in whole Vienna."
   ]
  },
  {
   "cell_type": "code",
   "execution_count": 36,
   "metadata": {
    "collapsed": false
   },
   "outputs": [
    {
     "data": {
      "text/plain": [
       "Dog Breed\n",
       "Unbekannt                         16348\n",
       "Chihuahua kurzhaariger Schlag      2496\n",
       "Labrador Retriever / Mischling     1764\n",
       "Golden Retriever                   1520\n",
       "Malteser                           1421\n",
       "Name: Anzahl, dtype: int64"
      ]
     },
     "execution_count": 36,
     "metadata": {},
     "output_type": "execute_result"
    }
   ],
   "source": [
    "breeds = data.groupby('Dog Breed')['Anzahl'].aggregate(np.sum)\n",
    "breeds.sort_values(ascending=False).head()"
   ]
  },
  {
   "cell_type": "code",
   "execution_count": 37,
   "metadata": {
    "collapsed": false
   },
   "outputs": [
    {
     "data": {
      "text/plain": [
       "[<matplotlib.text.Text at 0x118c70390>, <matplotlib.text.Text at 0x118c436d0>]"
      ]
     },
     "execution_count": 37,
     "metadata": {},
     "output_type": "execute_result"
    },
    {
     "data": {
      "image/png": "[encoded data removed]",
      "text/plain": [
       "<matplotlib.figure.Figure at 0x117ea9a10>"
      ]
     },
     "metadata": {},
     "output_type": "display_data"
    }
   ],
   "source": [
    "# Filter, sort and trim pandas Series\n",
    "top_dogs = breeds[(breeds.index!='Unbekannt')].sort_values(ascending=False)[:10]\n",
    "# Plot pandas Series\n",
    "ax = sns.barplot(palette='colorblind', x=top_dogs.values, y=list(top_dogs.index))\n",
    "ax.set(ylabel='Breed', xlabel='Number of  dogs')"
   ]
  },
  {
   "cell_type": "markdown",
   "metadata": {},
   "source": [
    "Indeed, it seems that Chihuahuas (~2,500) and Labradors (~1,770) are the top pets among Viennese people. \n",
    "\n",
    "Wiener dog (Dackel) reaches only to position #8 in our Viennese dogs ranking. Sad... :("
   ]
  },
  {
   "cell_type": "markdown",
   "metadata": {},
   "source": [
    "##### Dogs per District\n",
    "Now let's do the same trick but on the level of districts instead of breeds. Instead we want to aggregate dogs of all breeds for each of the districts of Vienna separately."
   ]
  },
  {
   "cell_type": "code",
   "execution_count": 40,
   "metadata": {
    "collapsed": false
   },
   "outputs": [
    {
     "data": {
      "text/plain": [
       "[<matplotlib.text.Text at 0x118ba9f90>, <matplotlib.text.Text at 0x11b47b390>]"
      ]
     },
     "execution_count": 40,
     "metadata": {},
     "output_type": "execute_result"
    },
    {
     "data": {
      "image/png": "[encoded data removed]",
      "text/plain": [
       "<matplotlib.figure.Figure at 0x11b4a2650>"
      ]
     },
     "metadata": {},
     "output_type": "display_data"
    }
   ],
   "source": [
    "district_dogs = data.groupby('DISTRICT_CODE')['Anzahl'].aggregate(np.sum)\n",
    "# Filter, sort and trim pandas Series\n",
    "top_dogs = district_dogs.sort_values(ascending=False)\n",
    "# Plot pandas Series\n",
    "ax = sns.barplot(palette='colorblind', y=list(top_dogs.index), x=top_dogs.values, orient='h', order=list(top_dogs.index))\n",
    "ax.set(ylabel='District', xlabel='Number of  dogs')"
   ]
  },
  {
   "cell_type": "markdown",
   "metadata": {},
   "source": [
    "OK. 22nd and 21st district of Vienna are the most rich in dogs (8,5 and 7 thousands respectively). 10th, 23rd and 11th districts follow in the dog ranking. \n",
    "\n",
    "You are least likely to meet a dog, when visiting 1st and 8th districts of Vienna.\n",
    "\n",
    "What could be the possible reasons for such variation in the number of dogs in different districts of Vienna (500-8,500 dogs per district)? We shall need more data to analyse these trends..."
   ]
  },
  {
   "cell_type": "markdown",
   "metadata": {},
   "source": [
    "### Get More Data\n",
    "Districts of any city (town) are not homogeneous in terms of area and population. Also in Vienna some districts are bigger in terms of territory, more densely populated or wealthier than other district. These factors shall also have an effect on the dog population within the specified regions. \n",
    "\n",
    "Now we need to fetch this kind of data (population, area and average income per district in Vienna) in order to check its correlation with our dog stats data. https://www.data.gv.at is the biggest Austrian open data portal. Let's have a look there! "
   ]
  },
  {
   "cell_type": "markdown",
   "metadata": {},
   "source": [
    "#### Population Statistics per District\n",
    "Population (Bevölkerung) seems just right for the general category, filtering on Vienna, CSV data format and community districts (Gemeindebezirke) boils down the search results to a single dataset!\n",
    "\n",
    "Next, we just repeat the same steps we used previously to obtain the dog data:"
   ]
  },
  {
   "cell_type": "code",
   "execution_count": 4,
   "metadata": {
    "collapsed": false
   },
   "outputs": [
    {
     "data": {
      "text/html": [
       "<div>\n",
       "<table border=\"1\" class=\"dataframe\">\n",
       "  <thead>\n",
       "    <tr style=\"text-align: right;\">\n",
       "      <th></th>\n",
       "      <th>NUTS1</th>\n",
       "      <th>NUTS2</th>\n",
       "      <th>NUTS3</th>\n",
       "      <th>DISTRICT_CODE</th>\n",
       "      <th>SUB_DISTRICT_CODE</th>\n",
       "      <th>POP_TOTAL</th>\n",
       "      <th>POP_MEN</th>\n",
       "      <th>POP_WOMEN</th>\n",
       "      <th>REF_DATE</th>\n",
       "    </tr>\n",
       "  </thead>\n",
       "  <tbody>\n",
       "    <tr>\n",
       "      <th>0</th>\n",
       "      <td>AT1</td>\n",
       "      <td>AT13</td>\n",
       "      <td>AT130</td>\n",
       "      <td>90100</td>\n",
       "      <td>.</td>\n",
       "      <td>68079</td>\n",
       "      <td>.</td>\n",
       "      <td>.</td>\n",
       "      <td>18691231</td>\n",
       "    </tr>\n",
       "    <tr>\n",
       "      <th>1</th>\n",
       "      <td>AT1</td>\n",
       "      <td>AT13</td>\n",
       "      <td>AT130</td>\n",
       "      <td>90200</td>\n",
       "      <td>.</td>\n",
       "      <td>68442</td>\n",
       "      <td>.</td>\n",
       "      <td>.</td>\n",
       "      <td>18691231</td>\n",
       "    </tr>\n",
       "    <tr>\n",
       "      <th>2</th>\n",
       "      <td>AT1</td>\n",
       "      <td>AT13</td>\n",
       "      <td>AT130</td>\n",
       "      <td>90300</td>\n",
       "      <td>.</td>\n",
       "      <td>88678</td>\n",
       "      <td>.</td>\n",
       "      <td>.</td>\n",
       "      <td>18691231</td>\n",
       "    </tr>\n",
       "    <tr>\n",
       "      <th>3</th>\n",
       "      <td>AT1</td>\n",
       "      <td>AT13</td>\n",
       "      <td>AT130</td>\n",
       "      <td>90400</td>\n",
       "      <td>.</td>\n",
       "      <td>55682</td>\n",
       "      <td>.</td>\n",
       "      <td>.</td>\n",
       "      <td>18691231</td>\n",
       "    </tr>\n",
       "    <tr>\n",
       "      <th>4</th>\n",
       "      <td>AT1</td>\n",
       "      <td>AT13</td>\n",
       "      <td>AT130</td>\n",
       "      <td>90500</td>\n",
       "      <td>.</td>\n",
       "      <td>54010</td>\n",
       "      <td>.</td>\n",
       "      <td>.</td>\n",
       "      <td>18691231</td>\n",
       "    </tr>\n",
       "  </tbody>\n",
       "</table>\n",
       "</div>"
      ],
      "text/plain": [
       "  NUTS1 NUTS2  NUTS3  DISTRICT_CODE SUB_DISTRICT_CODE  POP_TOTAL POP_MEN  \\\n",
       "0   AT1  AT13  AT130          90100                 .      68079       .   \n",
       "1   AT1  AT13  AT130          90200                 .      68442       .   \n",
       "2   AT1  AT13  AT130          90300                 .      88678       .   \n",
       "3   AT1  AT13  AT130          90400                 .      55682       .   \n",
       "4   AT1  AT13  AT130          90500                 .      54010       .   \n",
       "\n",
       "  POP_WOMEN  REF_DATE  \n",
       "0         .  18691231  \n",
       "1         .  18691231  \n",
       "2         .  18691231  \n",
       "3         .  18691231  \n",
       "4         .  18691231  "
      ]
     },
     "execution_count": 4,
     "metadata": {},
     "output_type": "execute_result"
    }
   ],
   "source": [
    "# Load the csv file from the open data portal\n",
    "# Dataset description: https://www.data.gv.at/katalog/dataset/stadt-wien_viebevlkerungseit1869wien/resource/c9e9d0cc-8f71-4521-b598-17d71fab2f59\n",
    "data_path = 'https://www.wien.gv.at/statistik/ogd/vie_101.csv'\n",
    "# Look up the row file and specify the dataset format, e.g. delimiters\n",
    "data_population = pd.read_csv(data_path, delimiter=';', skiprows=1)\n",
    "# Check the top of the table to make sure the dataset is loaded correctly \n",
    "data_population.head()"
   ]
  },
  {
   "cell_type": "markdown",
   "metadata": {},
   "source": [
    "We would prefer the most recent population data to be able to compare with the dog stats from 2016 12 01. \n",
    "\n",
    "It is not clear from the description of the dataset which time periods are covered either:\n",
    "\"VIE-Bevölkerung in den 23 Wiener Gemeindebezirken nach Geschlecht seit 1869\n",
    "    Zuletzt aktualisiert\t31. März 2016\n",
    "    Erstellt\t31. März 2016\""
   ]
  },
  {
   "cell_type": "code",
   "execution_count": 184,
   "metadata": {
    "collapsed": false
   },
   "outputs": [
    {
     "data": {
      "text/plain": [
       "array([18691231, 18801231, 19001231, 19101231, 19230307, 19340322,\n",
       "       19390517, 19510601, 19610321, 19710512, 19810512, 19910515,\n",
       "       20010515, 20020101, 20030101, 20040101, 20050101, 20060101,\n",
       "       20070101, 20080101, 20090101, 20100101, 20110101, 20120101,\n",
       "       20130101, 20140101, 20150101])"
      ]
     },
     "execution_count": 184,
     "metadata": {},
     "output_type": "execute_result"
    }
   ],
   "source": [
    "# Check unique column values\n",
    "data_population['REF_DATE'].unique()"
   ]
  },
  {
   "cell_type": "markdown",
   "metadata": {},
   "source": [
    "The last measurement is from 2015 (same as on Wikipedia: https://de.wikipedia.org/wiki/Wiener_Gemeindebezirke#cite_note-11). Let's take it."
   ]
  },
  {
   "cell_type": "code",
   "execution_count": 78,
   "metadata": {
    "collapsed": false
   },
   "outputs": [
    {
     "data": {
      "text/html": [
       "<div>\n",
       "<table border=\"1\" class=\"dataframe\">\n",
       "  <thead>\n",
       "    <tr style=\"text-align: right;\">\n",
       "      <th></th>\n",
       "      <th>DISTRICT_CODE</th>\n",
       "      <th>POP_TOTAL</th>\n",
       "    </tr>\n",
       "  </thead>\n",
       "  <tbody>\n",
       "    <tr>\n",
       "      <th>630</th>\n",
       "      <td>91000</td>\n",
       "      <td>189713</td>\n",
       "    </tr>\n",
       "    <tr>\n",
       "      <th>642</th>\n",
       "      <td>92200</td>\n",
       "      <td>172978</td>\n",
       "    </tr>\n",
       "    <tr>\n",
       "      <th>641</th>\n",
       "      <td>92100</td>\n",
       "      <td>151844</td>\n",
       "    </tr>\n",
       "    <tr>\n",
       "      <th>622</th>\n",
       "      <td>90200</td>\n",
       "      <td>101702</td>\n",
       "    </tr>\n",
       "    <tr>\n",
       "      <th>636</th>\n",
       "      <td>91600</td>\n",
       "      <td>100738</td>\n",
       "    </tr>\n",
       "  </tbody>\n",
       "</table>\n",
       "</div>"
      ],
      "text/plain": [
       "     DISTRICT_CODE  POP_TOTAL\n",
       "630          91000     189713\n",
       "642          92200     172978\n",
       "641          92100     151844\n",
       "622          90200     101702\n",
       "636          91600     100738"
      ]
     },
     "execution_count": 78,
     "metadata": {},
     "output_type": "execute_result"
    }
   ],
   "source": [
    "# Slice dataset: filter specific rows and columns\n",
    "population_2015 = data_population[(data_population['REF_DATE'] == 20150101)][['DISTRICT_CODE', 'POP_TOTAL']]\n",
    "# Sort column\n",
    "population_2015.sort_values(ascending=False, by='POP_TOTAL').head()"
   ]
  },
  {
   "cell_type": "markdown",
   "metadata": {
    "collapsed": true
   },
   "source": [
    "Very good we have the population count per district. Let's compare it with the dog counts. For this we need to join the datasets on the common column, which is the DISTRICT_CODE."
   ]
  },
  {
   "cell_type": "code",
   "execution_count": 106,
   "metadata": {
    "collapsed": false
   },
   "outputs": [
    {
     "data": {
      "text/html": [
       "<div>\n",
       "<table border=\"1\" class=\"dataframe\">\n",
       "  <thead>\n",
       "    <tr style=\"text-align: right;\">\n",
       "      <th></th>\n",
       "      <th>DISTRICT_CODE</th>\n",
       "      <th>POP_TOTAL</th>\n",
       "      <th>Anzahl</th>\n",
       "    </tr>\n",
       "  </thead>\n",
       "  <tbody>\n",
       "    <tr>\n",
       "      <th>630</th>\n",
       "      <td>91000</td>\n",
       "      <td>189713</td>\n",
       "      <td>5333</td>\n",
       "    </tr>\n",
       "    <tr>\n",
       "      <th>642</th>\n",
       "      <td>92200</td>\n",
       "      <td>172978</td>\n",
       "      <td>8504</td>\n",
       "    </tr>\n",
       "    <tr>\n",
       "      <th>641</th>\n",
       "      <td>92100</td>\n",
       "      <td>151844</td>\n",
       "      <td>7143</td>\n",
       "    </tr>\n",
       "    <tr>\n",
       "      <th>622</th>\n",
       "      <td>90200</td>\n",
       "      <td>101702</td>\n",
       "      <td>2545</td>\n",
       "    </tr>\n",
       "    <tr>\n",
       "      <th>636</th>\n",
       "      <td>91600</td>\n",
       "      <td>100738</td>\n",
       "      <td>2077</td>\n",
       "    </tr>\n",
       "  </tbody>\n",
       "</table>\n",
       "</div>"
      ],
      "text/plain": [
       "     DISTRICT_CODE  POP_TOTAL  Anzahl\n",
       "630          91000     189713    5333\n",
       "642          92200     172978    8504\n",
       "641          92100     151844    7143\n",
       "622          90200     101702    2545\n",
       "636          91600     100738    2077"
      ]
     },
     "execution_count": 106,
     "metadata": {},
     "output_type": "execute_result"
    }
   ],
   "source": [
    "# Join Data Frame and Series objects on the key column\n",
    "dog_vs_people = population_2015.join(top_dogs, on='DISTRICT_CODE')\n",
    "dog_vs_people.sort_values(ascending=False, by='POP_TOTAL').head()"
   ]
  },
  {
   "cell_type": "code",
   "execution_count": 107,
   "metadata": {
    "collapsed": false
   },
   "outputs": [
    {
     "data": {
      "text/html": [
       "<div>\n",
       "<table border=\"1\" class=\"dataframe\">\n",
       "  <thead>\n",
       "    <tr style=\"text-align: right;\">\n",
       "      <th></th>\n",
       "      <th>DISTRICT_CODE</th>\n",
       "      <th>POP_TOTAL</th>\n",
       "      <th>Anzahl</th>\n",
       "      <th>Dogs_per_person</th>\n",
       "    </tr>\n",
       "  </thead>\n",
       "  <tbody>\n",
       "    <tr>\n",
       "      <th>642</th>\n",
       "      <td>92200</td>\n",
       "      <td>172978</td>\n",
       "      <td>8504</td>\n",
       "      <td>0.049</td>\n",
       "    </tr>\n",
       "    <tr>\n",
       "      <th>641</th>\n",
       "      <td>92100</td>\n",
       "      <td>151844</td>\n",
       "      <td>7143</td>\n",
       "      <td>0.047</td>\n",
       "    </tr>\n",
       "    <tr>\n",
       "      <th>643</th>\n",
       "      <td>92300</td>\n",
       "      <td>96775</td>\n",
       "      <td>4136</td>\n",
       "      <td>0.043</td>\n",
       "    </tr>\n",
       "    <tr>\n",
       "      <th>639</th>\n",
       "      <td>91900</td>\n",
       "      <td>69999</td>\n",
       "      <td>2745</td>\n",
       "      <td>0.039</td>\n",
       "    </tr>\n",
       "    <tr>\n",
       "      <th>633</th>\n",
       "      <td>91300</td>\n",
       "      <td>52115</td>\n",
       "      <td>1990</td>\n",
       "      <td>0.038</td>\n",
       "    </tr>\n",
       "  </tbody>\n",
       "</table>\n",
       "</div>"
      ],
      "text/plain": [
       "     DISTRICT_CODE  POP_TOTAL  Anzahl  Dogs_per_person\n",
       "642          92200     172978    8504            0.049\n",
       "641          92100     151844    7143            0.047\n",
       "643          92300      96775    4136            0.043\n",
       "639          91900      69999    2745            0.039\n",
       "633          91300      52115    1990            0.038"
      ]
     },
     "execution_count": 107,
     "metadata": {},
     "output_type": "execute_result"
    }
   ],
   "source": [
    "dog_vs_people['Dogs_per_person'] = dog_vs_people.Anzahl / dog_vs_people.POP_TOTAL\n",
    "# Sort by column\n",
    "dog_vs_people.sort_values(ascending=False, by='Dogs_per_person').round(3).head()"
   ]
  },
  {
   "cell_type": "markdown",
   "metadata": {},
   "source": [
    "22nd and 21st districts have the biggest dog populations relative to the number of inhabitants in the district: 49 and 47 dogs per 1000 people respectively.\n",
    "\n",
    "These districts are also the largest in terms of territory. Let's get this data into play as well!"
   ]
  },
  {
   "cell_type": "markdown",
   "metadata": {},
   "source": [
    "#### Area Statistics per District\n",
    "Getting back to https://www.data.gv.at. Ok this one was not easy to find!\n",
    "TODO"
   ]
  },
  {
   "cell_type": "markdown",
   "metadata": {},
   "source": [
    "#### Income Statistics per District\n",
    "This dataset was relatively easy to find when searching with the keyword 'income' (einkommen) on https://www.data.gv.at portal."
   ]
  },
  {
   "cell_type": "code",
   "execution_count": 83,
   "metadata": {
    "collapsed": false
   },
   "outputs": [
    {
     "data": {
      "text/html": [
       "<div>\n",
       "<table border=\"1\" class=\"dataframe\">\n",
       "  <thead>\n",
       "    <tr style=\"text-align: right;\">\n",
       "      <th></th>\n",
       "      <th>NUTS1</th>\n",
       "      <th>NUTS2</th>\n",
       "      <th>NUTS3</th>\n",
       "      <th>DISTRICT_CODE</th>\n",
       "      <th>SUB_DISTRICT_CODE</th>\n",
       "      <th>INCOME_TOTAL</th>\n",
       "      <th>INCOME_MEN</th>\n",
       "      <th>INCOME_WOMEN</th>\n",
       "      <th>AVERAGE_INCOME_TOTAL</th>\n",
       "      <th>AVERAGE_INCOME_MEN</th>\n",
       "      <th>AVERAGE_INCOME_WOMEN</th>\n",
       "      <th>AVERAGE_INCOME_FULLTIME_TOTAL</th>\n",
       "      <th>AVERAGE_INCOME_FULLTIME_MEN</th>\n",
       "      <th>AVERAGE_INCOME_FULLTIME_WOMEN</th>\n",
       "      <th>REF_DATE</th>\n",
       "    </tr>\n",
       "  </thead>\n",
       "  <tbody>\n",
       "    <tr>\n",
       "      <th>0</th>\n",
       "      <td>AT1</td>\n",
       "      <td>AT13</td>\n",
       "      <td>AT130</td>\n",
       "      <td>90100</td>\n",
       "      <td>.</td>\n",
       "      <td>292.103.000</td>\n",
       "      <td>194.301.000</td>\n",
       "      <td>97.802.000</td>\n",
       "      <td>25.463</td>\n",
       "      <td>31.961</td>\n",
       "      <td>18.536</td>\n",
       "      <td>34.506</td>\n",
       "      <td>42.806</td>\n",
       "      <td>24.963</td>\n",
       "      <td>20021231</td>\n",
       "    </tr>\n",
       "    <tr>\n",
       "      <th>1</th>\n",
       "      <td>AT1</td>\n",
       "      <td>AT13</td>\n",
       "      <td>AT130</td>\n",
       "      <td>90200</td>\n",
       "      <td>.</td>\n",
       "      <td>919.962.000</td>\n",
       "      <td>559.682.000</td>\n",
       "      <td>360.280.000</td>\n",
       "      <td>16.439</td>\n",
       "      <td>18.301</td>\n",
       "      <td>14.282</td>\n",
       "      <td>22.015</td>\n",
       "      <td>24.312</td>\n",
       "      <td>19.067</td>\n",
       "      <td>20021231</td>\n",
       "    </tr>\n",
       "    <tr>\n",
       "      <th>2</th>\n",
       "      <td>AT1</td>\n",
       "      <td>AT13</td>\n",
       "      <td>AT130</td>\n",
       "      <td>90300</td>\n",
       "      <td>.</td>\n",
       "      <td>1.011.882.000</td>\n",
       "      <td>608.994.000</td>\n",
       "      <td>402.888.000</td>\n",
       "      <td>18.701</td>\n",
       "      <td>21.444</td>\n",
       "      <td>15.804</td>\n",
       "      <td>24.617</td>\n",
       "      <td>27.968</td>\n",
       "      <td>20.739</td>\n",
       "      <td>20021231</td>\n",
       "    </tr>\n",
       "    <tr>\n",
       "      <th>3</th>\n",
       "      <td>AT1</td>\n",
       "      <td>AT13</td>\n",
       "      <td>AT130</td>\n",
       "      <td>90400</td>\n",
       "      <td>.</td>\n",
       "      <td>402.479.000</td>\n",
       "      <td>243.807.000</td>\n",
       "      <td>158.672.000</td>\n",
       "      <td>20.325</td>\n",
       "      <td>23.641</td>\n",
       "      <td>16.876</td>\n",
       "      <td>27.348</td>\n",
       "      <td>31.586</td>\n",
       "      <td>22.539</td>\n",
       "      <td>20021231</td>\n",
       "    </tr>\n",
       "    <tr>\n",
       "      <th>4</th>\n",
       "      <td>AT1</td>\n",
       "      <td>AT13</td>\n",
       "      <td>AT130</td>\n",
       "      <td>90500</td>\n",
       "      <td>.</td>\n",
       "      <td>554.361.000</td>\n",
       "      <td>327.128.000</td>\n",
       "      <td>227.233.000</td>\n",
       "      <td>16.258</td>\n",
       "      <td>17.937</td>\n",
       "      <td>14.395</td>\n",
       "      <td>22.059</td>\n",
       "      <td>24.198</td>\n",
       "      <td>19.454</td>\n",
       "      <td>20021231</td>\n",
       "    </tr>\n",
       "  </tbody>\n",
       "</table>\n",
       "</div>"
      ],
      "text/plain": [
       "  NUTS1 NUTS2  NUTS3  DISTRICT_CODE SUB_DISTRICT_CODE   INCOME_TOTAL  \\\n",
       "0   AT1  AT13  AT130          90100                 .    292.103.000   \n",
       "1   AT1  AT13  AT130          90200                 .    919.962.000   \n",
       "2   AT1  AT13  AT130          90300                 .  1.011.882.000   \n",
       "3   AT1  AT13  AT130          90400                 .    402.479.000   \n",
       "4   AT1  AT13  AT130          90500                 .    554.361.000   \n",
       "\n",
       "    INCOME_MEN INCOME_WOMEN  AVERAGE_INCOME_TOTAL  AVERAGE_INCOME_MEN  \\\n",
       "0  194.301.000   97.802.000                25.463              31.961   \n",
       "1  559.682.000  360.280.000                16.439              18.301   \n",
       "2  608.994.000  402.888.000                18.701              21.444   \n",
       "3  243.807.000  158.672.000                20.325              23.641   \n",
       "4  327.128.000  227.233.000                16.258              17.937   \n",
       "\n",
       "   AVERAGE_INCOME_WOMEN  AVERAGE_INCOME_FULLTIME_TOTAL  \\\n",
       "0                18.536                         34.506   \n",
       "1                14.282                         22.015   \n",
       "2                15.804                         24.617   \n",
       "3                16.876                         27.348   \n",
       "4                14.395                         22.059   \n",
       "\n",
       "   AVERAGE_INCOME_FULLTIME_MEN  AVERAGE_INCOME_FULLTIME_WOMEN  REF_DATE  \n",
       "0                       42.806                         24.963  20021231  \n",
       "1                       24.312                         19.067  20021231  \n",
       "2                       27.968                         20.739  20021231  \n",
       "3                       31.586                         22.539  20021231  \n",
       "4                       24.198                         19.454  20021231  "
      ]
     },
     "execution_count": 83,
     "metadata": {},
     "output_type": "execute_result"
    }
   ],
   "source": [
    "# Load the csv file from the open data portal\n",
    "# Dataset description: https://www.data.gv.at/katalog/dataset/stadt-wien_viewirtschaftwienergemeindebezirke1/resource/c1ad52a3-ca5c-44fc-a945-b6459f73ed98\n",
    "data_path = 'https://www.wien.gv.at/statistik/ogd/vie_502.csv'\n",
    "# The data format seems to be consistent for all the datasets from this publisher \n",
    "data_income = pd.read_csv(data_path, delimiter=';', skiprows=1)\n",
    "# Check the top of the table to make sure the dataset is loaded correctly \n",
    "data_income.head()"
   ]
  },
  {
   "cell_type": "code",
   "execution_count": 87,
   "metadata": {
    "collapsed": false
   },
   "outputs": [
    {
     "data": {
      "text/plain": [
       "array([20021231, 20031231, 20041231, 20051231, 20061231, 20071231,\n",
       "       20081231, 20091231, 20101231, 20111231, 20121231, 20131231, 20141231])"
      ]
     },
     "execution_count": 87,
     "metadata": {},
     "output_type": "execute_result"
    }
   ],
   "source": [
    "# Check unique column values\n",
    "data_income['REF_DATE'].unique()"
   ]
  },
  {
   "cell_type": "markdown",
   "metadata": {},
   "source": [
    "The last measurement is from 2014. Let's take it."
   ]
  },
  {
   "cell_type": "code",
   "execution_count": 91,
   "metadata": {
    "collapsed": false
   },
   "outputs": [
    {
     "data": {
      "text/html": [
       "<div>\n",
       "<table border=\"1\" class=\"dataframe\">\n",
       "  <thead>\n",
       "    <tr style=\"text-align: right;\">\n",
       "      <th></th>\n",
       "      <th>DISTRICT_CODE</th>\n",
       "      <th>AVERAGE_INCOME_TOTAL</th>\n",
       "    </tr>\n",
       "  </thead>\n",
       "  <tbody>\n",
       "    <tr>\n",
       "      <th>276</th>\n",
       "      <td>90100</td>\n",
       "      <td>32.493</td>\n",
       "    </tr>\n",
       "    <tr>\n",
       "      <th>288</th>\n",
       "      <td>91300</td>\n",
       "      <td>27.604</td>\n",
       "    </tr>\n",
       "    <tr>\n",
       "      <th>294</th>\n",
       "      <td>91900</td>\n",
       "      <td>25.803</td>\n",
       "    </tr>\n",
       "    <tr>\n",
       "      <th>279</th>\n",
       "      <td>90400</td>\n",
       "      <td>24.199</td>\n",
       "    </tr>\n",
       "    <tr>\n",
       "      <th>293</th>\n",
       "      <td>91800</td>\n",
       "      <td>24.164</td>\n",
       "    </tr>\n",
       "  </tbody>\n",
       "</table>\n",
       "</div>"
      ],
      "text/plain": [
       "     DISTRICT_CODE  AVERAGE_INCOME_TOTAL\n",
       "276          90100                32.493\n",
       "288          91300                27.604\n",
       "294          91900                25.803\n",
       "279          90400                24.199\n",
       "293          91800                24.164"
      ]
     },
     "execution_count": 91,
     "metadata": {},
     "output_type": "execute_result"
    }
   ],
   "source": [
    "# Slice dataset: filter specific rows and columns\n",
    "income_2014 = data_income[(data_income['REF_DATE'] == 20141231)][['DISTRICT_CODE', 'AVERAGE_INCOME_TOTAL']]\n",
    "# Sort column\n",
    "income_2014.sort_values(ascending=False, by='AVERAGE_INCOME_TOTAL').head()"
   ]
  },
  {
   "cell_type": "markdown",
   "metadata": {},
   "source": [
    "All right this is common knowledge ;)"
   ]
  },
  {
   "cell_type": "code",
   "execution_count": 100,
   "metadata": {
    "collapsed": false
   },
   "outputs": [
    {
     "data": {
      "text/plain": [
       "[<matplotlib.text.Text at 0x11bdc8cd0>, <matplotlib.text.Text at 0x11d6c9fd0>]"
      ]
     },
     "execution_count": 100,
     "metadata": {},
     "output_type": "execute_result"
    },
    {
     "data": {
      "image/png": "[encoded data removed]",
      "text/plain": [
       "<matplotlib.figure.Figure at 0x11d6f9150>"
      ]
     },
     "metadata": {},
     "output_type": "display_data"
    }
   ],
   "source": [
    "# Plot pandas data frame\n",
    "ax = sns.barplot(data=income_2014,palette='colorblind', y='DISTRICT_CODE', x='AVERAGE_INCOME_TOTAL', orient='h')\n",
    "ax.set(ylabel='District', xlabel='Average Income (thousands)')"
   ]
  },
  {
   "cell_type": "markdown",
   "metadata": {},
   "source": [
    "Let's join our data sets with district stats."
   ]
  },
  {
   "cell_type": "code",
   "execution_count": 118,
   "metadata": {
    "collapsed": false
   },
   "outputs": [
    {
     "data": {
      "text/html": [
       "<div>\n",
       "<table border=\"1\" class=\"dataframe\">\n",
       "  <thead>\n",
       "    <tr style=\"text-align: right;\">\n",
       "      <th></th>\n",
       "      <th>DISTRICT_CODE</th>\n",
       "      <th>POP_TOTAL</th>\n",
       "      <th>Anzahl</th>\n",
       "      <th>Dogs_per_person</th>\n",
       "      <th>AVERAGE_INCOME_TOTAL</th>\n",
       "    </tr>\n",
       "  </thead>\n",
       "  <tbody>\n",
       "    <tr>\n",
       "      <th>0</th>\n",
       "      <td>90100</td>\n",
       "      <td>16339</td>\n",
       "      <td>465</td>\n",
       "      <td>0.028460</td>\n",
       "      <td>32.493</td>\n",
       "    </tr>\n",
       "    <tr>\n",
       "      <th>12</th>\n",
       "      <td>91300</td>\n",
       "      <td>52115</td>\n",
       "      <td>1990</td>\n",
       "      <td>0.038185</td>\n",
       "      <td>27.604</td>\n",
       "    </tr>\n",
       "    <tr>\n",
       "      <th>18</th>\n",
       "      <td>91900</td>\n",
       "      <td>69999</td>\n",
       "      <td>2745</td>\n",
       "      <td>0.039215</td>\n",
       "      <td>25.803</td>\n",
       "    </tr>\n",
       "    <tr>\n",
       "      <th>3</th>\n",
       "      <td>90400</td>\n",
       "      <td>31691</td>\n",
       "      <td>632</td>\n",
       "      <td>0.019943</td>\n",
       "      <td>24.199</td>\n",
       "    </tr>\n",
       "    <tr>\n",
       "      <th>17</th>\n",
       "      <td>91800</td>\n",
       "      <td>49178</td>\n",
       "      <td>1316</td>\n",
       "      <td>0.026760</td>\n",
       "      <td>24.164</td>\n",
       "    </tr>\n",
       "  </tbody>\n",
       "</table>\n",
       "</div>"
      ],
      "text/plain": [
       "    DISTRICT_CODE  POP_TOTAL  Anzahl  Dogs_per_person  AVERAGE_INCOME_TOTAL\n",
       "0           90100      16339     465         0.028460                32.493\n",
       "12          91300      52115    1990         0.038185                27.604\n",
       "18          91900      69999    2745         0.039215                25.803\n",
       "3           90400      31691     632         0.019943                24.199\n",
       "17          91800      49178    1316         0.026760                24.164"
      ]
     },
     "execution_count": 118,
     "metadata": {},
     "output_type": "execute_result"
    }
   ],
   "source": [
    "# Merge data frames on the key column\n",
    "dog_vs_people_vs_income = dog_vs_people.merge(income_2014, on='DISTRICT_CODE')\n",
    "dog_vs_people_vs_income.sort_values(ascending=False, by='AVERAGE_INCOME_TOTAL').head()"
   ]
  },
  {
   "cell_type": "markdown",
   "metadata": {},
   "source": [
    "#### Hundezonen in Wien\n",
    "TODO\n",
    "https://www.wien.gv.at/umwelt/parks/hundezonen.html\n",
    "https://www.wien.gv.at/statistik/lebensraum/tabellen/hundezonen-bez.html"
   ]
  },
  {
   "cell_type": "markdown",
   "metadata": {},
   "source": [
    "### Open Data for Local Communities"
   ]
  },
  {
   "cell_type": "code",
   "execution_count": 132,
   "metadata": {
    "collapsed": false
   },
   "outputs": [
    {
     "name": "stderr",
     "output_type": "stream",
     "text": [
      "/anaconda/lib/python2.7/site-packages/ipykernel/__main__.py:3: UserWarning: Boolean Series key will be reindexed to match DataFrame index.\n",
      "  app.launch_new_instance()\n"
     ]
    },
    {
     "data": {
      "text/html": [
       "<div>\n",
       "<table border=\"1\" class=\"dataframe\">\n",
       "  <thead>\n",
       "    <tr style=\"text-align: right;\">\n",
       "      <th></th>\n",
       "      <th>Dog Breed</th>\n",
       "      <th>Anzahl</th>\n",
       "    </tr>\n",
       "  </thead>\n",
       "  <tbody>\n",
       "    <tr>\n",
       "      <th>4127</th>\n",
       "      <td>Labrador Retriever / Mischling</td>\n",
       "      <td>102</td>\n",
       "    </tr>\n",
       "    <tr>\n",
       "      <th>4073</th>\n",
       "      <td>Golden Retriever</td>\n",
       "      <td>96</td>\n",
       "    </tr>\n",
       "    <tr>\n",
       "      <th>4118</th>\n",
       "      <td>Labrador Retriever</td>\n",
       "      <td>81</td>\n",
       "    </tr>\n",
       "    <tr>\n",
       "      <th>4023</th>\n",
       "      <td>Chihuahua kurzhaariger Schlag</td>\n",
       "      <td>77</td>\n",
       "    </tr>\n",
       "    <tr>\n",
       "      <th>4142</th>\n",
       "      <td>Malteser</td>\n",
       "      <td>57</td>\n",
       "    </tr>\n",
       "    <tr>\n",
       "      <th>4236</th>\n",
       "      <td>Yorkshire Terrier</td>\n",
       "      <td>46</td>\n",
       "    </tr>\n",
       "    <tr>\n",
       "      <th>4045</th>\n",
       "      <td>Deutscher SchÃ¤ferhund</td>\n",
       "      <td>44</td>\n",
       "    </tr>\n",
       "    <tr>\n",
       "      <th>4039</th>\n",
       "      <td>Dackel / Mischling</td>\n",
       "      <td>39</td>\n",
       "    </tr>\n",
       "    <tr>\n",
       "      <th>4104</th>\n",
       "      <td>Jack-Russell-Terrier / Mischling</td>\n",
       "      <td>35</td>\n",
       "    </tr>\n",
       "    <tr>\n",
       "      <th>4149</th>\n",
       "      <td>Mops</td>\n",
       "      <td>35</td>\n",
       "    </tr>\n",
       "  </tbody>\n",
       "</table>\n",
       "</div>"
      ],
      "text/plain": [
       "                             Dog Breed  Anzahl\n",
       "4127    Labrador Retriever / Mischling     102\n",
       "4073                  Golden Retriever      96\n",
       "4118                Labrador Retriever      81\n",
       "4023     Chihuahua kurzhaariger Schlag      77\n",
       "4142                          Malteser      57\n",
       "4236                 Yorkshire Terrier      46\n",
       "4045            Deutscher SchÃ¤ferhund      44\n",
       "4039                Dackel / Mischling      39\n",
       "4104  Jack-Russell-Terrier / Mischling      35\n",
       "4149                              Mops      35"
      ]
     },
     "execution_count": 132,
     "metadata": {},
     "output_type": "execute_result"
    }
   ],
   "source": [
    "# analyse district stats\n",
    "district = 1190\n",
    "dogs_district = data[(data['Dog Breed']!='Unbekannt')][(data['Postal_CODE']==district)][['Dog Breed', 'Anzahl']]\n",
    "top_dogs_district = dogs_district.sort_values(ascending=False, by='Anzahl')[:10]\n",
    "top_dogs_district"
   ]
  },
  {
   "cell_type": "code",
   "execution_count": 119,
   "metadata": {
    "collapsed": false
   },
   "outputs": [
    {
     "data": {
      "text/plain": [
       "[<matplotlib.text.Text at 0x123b89cd0>, <matplotlib.text.Text at 0x123b79410>]"
      ]
     },
     "execution_count": 119,
     "metadata": {},
     "output_type": "execute_result"
    },
    {
     "data": {
      "image/png": "[encoded data removed]",
      "text/plain": [
       "<matplotlib.figure.Figure at 0x122dc73d0>"
      ]
     },
     "metadata": {},
     "output_type": "display_data"
    }
   ],
   "source": [
    "ax = sns.barplot(data=top_dogs_1020,palette='colorblind', x='Anzahl', y='Dog Breed')\n",
    "ax.set(ylabel='Types of dogs', xlabel='Number of  dogs')"
   ]
  },
  {
   "cell_type": "markdown",
   "metadata": {},
   "source": [
    "## Lessons Learned\n",
    "* Open Data Quality\n",
    "    1. Descriptions\n",
    "    2. Formatting\n",
    "* Dogs in Vienna\n",
    "    1. Based on the data available"
   ]
  }
 ],
 "metadata": {
  "anaconda-cloud": {},
  "kernelspec": {
   "display_name": "Python [default]",
   "language": "python",
   "name": "python2"
  },
  "language_info": {
   "codemirror_mode": {
    "name": "ipython",
    "version": 2
   },
   "file_extension": ".py",
   "mimetype": "text/x-python",
   "name": "python",
   "nbconvert_exporter": "python",
   "pygments_lexer": "ipython2",
   "version": "2.7.12"
  }
 },
 "nbformat": 4,
 "nbformat_minor": 1
}
