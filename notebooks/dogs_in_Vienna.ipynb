{
 "cells": [
  {
   "cell_type": "markdown",
   "metadata": {},
   "source": [
    "# Dogs in Vienna: Sample Open Data Analysis Script\n",
    "This is a sample script showing how an open data datasets can be analysed and demonstrated using [Jupiter Notebooks](http://jupyter.org). Similar examples can be found on [Kaggle web-site](https://www.kaggle.com/kernels). We take the dog statistics data in Vienna as a sample use case to demonstrate common approaches to analysing open data."
   ]
  },
  {
   "cell_type": "markdown",
   "metadata": {},
   "source": [
    "## Open Data Story\n",
    "It is useful to define a set of possible research questions that define the goal of the data study and refine them along the way since the availablity of data suggests possible ways to combine and explore it.\n",
    "\n",
    "### Research Questions\n",
    "1. How many dogs are there in Vienna?\n",
    "2. Which dogs do Viennese people like?\n",
    "3. Where should I take my dog to find a couple?\n",
    "4. Where should I live if I do not like dogs?\n",
    "5. Do dog preferences vary across districts and why?\n",
    "6. Why some districts have more/less dogs than others?\n",
    "7. What is the dog situation in my district?"
   ]
  },
  {
   "cell_type": "code",
   "execution_count": 2,
   "metadata": {
    "collapsed": false
   },
   "outputs": [
    {
     "name": "stderr",
     "output_type": "stream",
     "text": [
      "//anaconda/lib/python2.7/site-packages/matplotlib/font_manager.py:273: UserWarning: Matplotlib is building the font cache using fc-list. This may take a moment.\n",
      "  warnings.warn('Matplotlib is building the font cache using fc-list. This may take a moment.')\n"
     ]
    }
   ],
   "source": [
    "# Load libraries\n",
    "import pandas as pd # CSV file processing\n",
    "import numpy as np # vector and matrix manipulation\n",
    "import matplotlib.pyplot as plt # visualisation\n",
    "import seaborn as sns # visualisation\n",
    "%matplotlib inline"
   ]
  },
  {
   "cell_type": "markdown",
   "metadata": {},
   "source": [
    "### Get the Data\n",
    "Let's load a dataset and make sure it is loaded correctly, so that we can use it for our analysis. It is often not that trivial as it may seem and involves a lot of data wrangling and debugging in order to find and eliminate possible errors or inconsistences in the dataset. \n",
    "\n",
    "This step should not be underestimated since it defines the final result of our data analysis.\n",
    "Remember: \"Garbage in,  garbage out!\""
   ]
  },
  {
   "cell_type": "code",
   "execution_count": 275,
   "metadata": {
    "collapsed": false
   },
   "outputs": [
    {
     "data": {
      "text/html": [
       "<div>\n",
       "<table border=\"1\" class=\"dataframe\">\n",
       "  <thead>\n",
       "    <tr style=\"text-align: right;\">\n",
       "      <th></th>\n",
       "      <th>Hunderassen in Wien | Breed of Dogs in Vienna</th>\n",
       "      <th>Unnamed: 1</th>\n",
       "      <th>Unnamed: 2</th>\n",
       "      <th>Unnamed: 3</th>\n",
       "      <th>Unnamed: 4</th>\n",
       "      <th>Unnamed: 5</th>\n",
       "      <th>Unnamed: 6</th>\n",
       "      <th>Unnamed: 7</th>\n",
       "      <th>Unnamed: 8</th>\n",
       "    </tr>\n",
       "  </thead>\n",
       "  <tbody>\n",
       "    <tr>\n",
       "      <th>0</th>\n",
       "      <td>NUTS1</td>\n",
       "      <td>NUTS2</td>\n",
       "      <td>NUTS3</td>\n",
       "      <td>DISTRICT_CODE</td>\n",
       "      <td>SUB_DISTRICT_CODE</td>\n",
       "      <td>Postal_CODE</td>\n",
       "      <td>Dog Breed</td>\n",
       "      <td>Anzahl</td>\n",
       "      <td>Ref_Date</td>\n",
       "    </tr>\n",
       "    <tr>\n",
       "      <th>1</th>\n",
       "      <td>AT1</td>\n",
       "      <td>AT13</td>\n",
       "      <td>AT113</td>\n",
       "      <td>90100</td>\n",
       "      <td>.</td>\n",
       "      <td>1010</td>\n",
       "      <td>Afghanischer Windhund</td>\n",
       "      <td>1</td>\n",
       "      <td>20161201</td>\n",
       "    </tr>\n",
       "    <tr>\n",
       "      <th>2</th>\n",
       "      <td>AT1</td>\n",
       "      <td>AT13</td>\n",
       "      <td>AT113</td>\n",
       "      <td>90100</td>\n",
       "      <td>.</td>\n",
       "      <td>1010</td>\n",
       "      <td>Amerikanischer Pit-Bullterrier</td>\n",
       "      <td>1</td>\n",
       "      <td>20161201</td>\n",
       "    </tr>\n",
       "    <tr>\n",
       "      <th>3</th>\n",
       "      <td>AT1</td>\n",
       "      <td>AT13</td>\n",
       "      <td>AT113</td>\n",
       "      <td>90100</td>\n",
       "      <td>.</td>\n",
       "      <td>1010</td>\n",
       "      <td>Amerikanischer Staffordshire-Terrier</td>\n",
       "      <td>4</td>\n",
       "      <td>20161201</td>\n",
       "    </tr>\n",
       "    <tr>\n",
       "      <th>4</th>\n",
       "      <td>AT1</td>\n",
       "      <td>AT13</td>\n",
       "      <td>AT113</td>\n",
       "      <td>90100</td>\n",
       "      <td>.</td>\n",
       "      <td>1010</td>\n",
       "      <td>Amerikanischer Staffordshire-Terrier / Mischling</td>\n",
       "      <td>1</td>\n",
       "      <td>20161201</td>\n",
       "    </tr>\n",
       "  </tbody>\n",
       "</table>\n",
       "</div>"
      ],
      "text/plain": [
       "  Hunderassen in Wien | Breed of Dogs in Vienna Unnamed: 1 Unnamed: 2  \\\n",
       "0                                         NUTS1      NUTS2      NUTS3   \n",
       "1                                           AT1       AT13      AT113   \n",
       "2                                           AT1       AT13      AT113   \n",
       "3                                           AT1       AT13      AT113   \n",
       "4                                           AT1       AT13      AT113   \n",
       "\n",
       "      Unnamed: 3         Unnamed: 4   Unnamed: 5  \\\n",
       "0  DISTRICT_CODE  SUB_DISTRICT_CODE  Postal_CODE   \n",
       "1          90100                  .         1010   \n",
       "2          90100                  .         1010   \n",
       "3          90100                  .         1010   \n",
       "4          90100                  .         1010   \n",
       "\n",
       "                                         Unnamed: 6 Unnamed: 7 Unnamed: 8  \n",
       "0                                         Dog Breed     Anzahl   Ref_Date  \n",
       "1                             Afghanischer Windhund          1   20161201  \n",
       "2                    Amerikanischer Pit-Bullterrier          1   20161201  \n",
       "3              Amerikanischer Staffordshire-Terrier          4   20161201  \n",
       "4  Amerikanischer Staffordshire-Terrier / Mischling          1   20161201  "
      ]
     },
     "execution_count": 275,
     "metadata": {},
     "output_type": "execute_result"
    }
   ],
   "source": [
    "# Load the csv file from the open data portal\n",
    "# dataset description: https://www.data.gv.at/katalog/dataset/stadt-wien_anzahlderhundeprobezirkderstadtwien/resource/b8d97349-c993-486d-b273-362e0524f98c\n",
    "data_path = 'https://www.wien.gv.at/finanzen/ogd/hunde-wien.csv'\n",
    "# Look up the row file and specify the dataset format, e.g. delimiters\n",
    "data = pd.read_csv(data_path, delimiter=';', encoding='latin-1')\n",
    "data.head()"
   ]
  },
  {
   "cell_type": "markdown",
   "metadata": {},
   "source": [
    "Oops the first row of our CSV file contains the name of the table, which we should skip."
   ]
  },
  {
   "cell_type": "code",
   "execution_count": 276,
   "metadata": {
    "collapsed": false
   },
   "outputs": [
    {
     "data": {
      "text/html": [
       "<div>\n",
       "<table border=\"1\" class=\"dataframe\">\n",
       "  <thead>\n",
       "    <tr style=\"text-align: right;\">\n",
       "      <th></th>\n",
       "      <th>NUTS1</th>\n",
       "      <th>NUTS2</th>\n",
       "      <th>NUTS3</th>\n",
       "      <th>DISTRICT_CODE</th>\n",
       "      <th>SUB_DISTRICT_CODE</th>\n",
       "      <th>Postal_CODE</th>\n",
       "      <th>Dog Breed</th>\n",
       "      <th>Anzahl</th>\n",
       "      <th>Ref_Date</th>\n",
       "    </tr>\n",
       "  </thead>\n",
       "  <tbody>\n",
       "    <tr>\n",
       "      <th>0</th>\n",
       "      <td>AT1</td>\n",
       "      <td>AT13</td>\n",
       "      <td>AT113</td>\n",
       "      <td>90100</td>\n",
       "      <td>.</td>\n",
       "      <td>1010</td>\n",
       "      <td>Afghanischer Windhund</td>\n",
       "      <td>1</td>\n",
       "      <td>20161201</td>\n",
       "    </tr>\n",
       "    <tr>\n",
       "      <th>1</th>\n",
       "      <td>AT1</td>\n",
       "      <td>AT13</td>\n",
       "      <td>AT113</td>\n",
       "      <td>90100</td>\n",
       "      <td>.</td>\n",
       "      <td>1010</td>\n",
       "      <td>Amerikanischer Pit-Bullterrier</td>\n",
       "      <td>1</td>\n",
       "      <td>20161201</td>\n",
       "    </tr>\n",
       "    <tr>\n",
       "      <th>2</th>\n",
       "      <td>AT1</td>\n",
       "      <td>AT13</td>\n",
       "      <td>AT113</td>\n",
       "      <td>90100</td>\n",
       "      <td>.</td>\n",
       "      <td>1010</td>\n",
       "      <td>Amerikanischer Staffordshire-Terrier</td>\n",
       "      <td>4</td>\n",
       "      <td>20161201</td>\n",
       "    </tr>\n",
       "    <tr>\n",
       "      <th>3</th>\n",
       "      <td>AT1</td>\n",
       "      <td>AT13</td>\n",
       "      <td>AT113</td>\n",
       "      <td>90100</td>\n",
       "      <td>.</td>\n",
       "      <td>1010</td>\n",
       "      <td>Amerikanischer Staffordshire-Terrier / Mischling</td>\n",
       "      <td>1</td>\n",
       "      <td>20161201</td>\n",
       "    </tr>\n",
       "    <tr>\n",
       "      <th>4</th>\n",
       "      <td>AT1</td>\n",
       "      <td>AT13</td>\n",
       "      <td>AT113</td>\n",
       "      <td>90100</td>\n",
       "      <td>.</td>\n",
       "      <td>1010</td>\n",
       "      <td>Australian Shepherd Dog</td>\n",
       "      <td>3</td>\n",
       "      <td>20161201</td>\n",
       "    </tr>\n",
       "  </tbody>\n",
       "</table>\n",
       "</div>"
      ],
      "text/plain": [
       "  NUTS1 NUTS2  NUTS3  DISTRICT_CODE SUB_DISTRICT_CODE  Postal_CODE  \\\n",
       "0   AT1  AT13  AT113          90100                 .         1010   \n",
       "1   AT1  AT13  AT113          90100                 .         1010   \n",
       "2   AT1  AT13  AT113          90100                 .         1010   \n",
       "3   AT1  AT13  AT113          90100                 .         1010   \n",
       "4   AT1  AT13  AT113          90100                 .         1010   \n",
       "\n",
       "                                          Dog Breed Anzahl  Ref_Date  \n",
       "0                             Afghanischer Windhund      1  20161201  \n",
       "1                    Amerikanischer Pit-Bullterrier      1  20161201  \n",
       "2              Amerikanischer Staffordshire-Terrier      4  20161201  \n",
       "3  Amerikanischer Staffordshire-Terrier / Mischling      1  20161201  \n",
       "4                           Australian Shepherd Dog      3  20161201  "
      ]
     },
     "execution_count": 276,
     "metadata": {},
     "output_type": "execute_result"
    }
   ],
   "source": [
    "# Reload dataset\n",
    "data = pd.read_csv(data_path, delimiter=';', skiprows=1, encoding='latin-1')\n",
    "# Check the top of the table to make sure the dataset is loaded correctly \n",
    "data.head()"
   ]
  },
  {
   "cell_type": "markdown",
   "metadata": {},
   "source": [
    "It seems that the mixed breeds are entered using sign '/', e.g. Amerikanischer Staffordshire-Terrier / Mischling\n",
    "Let's simplify it and take only the first breed in all these cases."
   ]
  },
  {
   "cell_type": "code",
   "execution_count": 277,
   "metadata": {
    "collapsed": false,
    "scrolled": true
   },
   "outputs": [
    {
     "name": "stderr",
     "output_type": "stream",
     "text": [
      "/anaconda/lib/python2.7/site-packages/ipykernel/__main__.py:1: FutureWarning: the return_type='frame' keyword is deprecated, use expand=True instead\n",
      "  if __name__ == '__main__':\n"
     ]
    },
    {
     "data": {
      "text/html": [
       "<div>\n",
       "<table border=\"1\" class=\"dataframe\">\n",
       "  <thead>\n",
       "    <tr style=\"text-align: right;\">\n",
       "      <th></th>\n",
       "      <th>NUTS1</th>\n",
       "      <th>NUTS2</th>\n",
       "      <th>NUTS3</th>\n",
       "      <th>DISTRICT_CODE</th>\n",
       "      <th>SUB_DISTRICT_CODE</th>\n",
       "      <th>Postal_CODE</th>\n",
       "      <th>Dog Breed</th>\n",
       "      <th>Anzahl</th>\n",
       "      <th>Ref_Date</th>\n",
       "      <th>Breed_1</th>\n",
       "      <th>Breed_2</th>\n",
       "      <th>Breed_3</th>\n",
       "    </tr>\n",
       "  </thead>\n",
       "  <tbody>\n",
       "    <tr>\n",
       "      <th>0</th>\n",
       "      <td>AT1</td>\n",
       "      <td>AT13</td>\n",
       "      <td>AT113</td>\n",
       "      <td>90100</td>\n",
       "      <td>.</td>\n",
       "      <td>1010</td>\n",
       "      <td>Afghanischer Windhund</td>\n",
       "      <td>1</td>\n",
       "      <td>20161201</td>\n",
       "      <td>Afghanischer Windhund</td>\n",
       "      <td>None</td>\n",
       "      <td>None</td>\n",
       "    </tr>\n",
       "    <tr>\n",
       "      <th>1</th>\n",
       "      <td>AT1</td>\n",
       "      <td>AT13</td>\n",
       "      <td>AT113</td>\n",
       "      <td>90100</td>\n",
       "      <td>.</td>\n",
       "      <td>1010</td>\n",
       "      <td>Amerikanischer Pit-Bullterrier</td>\n",
       "      <td>1</td>\n",
       "      <td>20161201</td>\n",
       "      <td>Amerikanischer Pit-Bullterrier</td>\n",
       "      <td>None</td>\n",
       "      <td>None</td>\n",
       "    </tr>\n",
       "    <tr>\n",
       "      <th>2</th>\n",
       "      <td>AT1</td>\n",
       "      <td>AT13</td>\n",
       "      <td>AT113</td>\n",
       "      <td>90100</td>\n",
       "      <td>.</td>\n",
       "      <td>1010</td>\n",
       "      <td>Amerikanischer Staffordshire-Terrier</td>\n",
       "      <td>4</td>\n",
       "      <td>20161201</td>\n",
       "      <td>Amerikanischer Staffordshire-Terrier</td>\n",
       "      <td>None</td>\n",
       "      <td>None</td>\n",
       "    </tr>\n",
       "    <tr>\n",
       "      <th>3</th>\n",
       "      <td>AT1</td>\n",
       "      <td>AT13</td>\n",
       "      <td>AT113</td>\n",
       "      <td>90100</td>\n",
       "      <td>.</td>\n",
       "      <td>1010</td>\n",
       "      <td>Amerikanischer Staffordshire-Terrier / Mischling</td>\n",
       "      <td>1</td>\n",
       "      <td>20161201</td>\n",
       "      <td>Amerikanischer Staffordshire-Terrier</td>\n",
       "      <td>Mischling</td>\n",
       "      <td>None</td>\n",
       "    </tr>\n",
       "    <tr>\n",
       "      <th>4</th>\n",
       "      <td>AT1</td>\n",
       "      <td>AT13</td>\n",
       "      <td>AT113</td>\n",
       "      <td>90100</td>\n",
       "      <td>.</td>\n",
       "      <td>1010</td>\n",
       "      <td>Australian Shepherd Dog</td>\n",
       "      <td>3</td>\n",
       "      <td>20161201</td>\n",
       "      <td>Australian Shepherd Dog</td>\n",
       "      <td>None</td>\n",
       "      <td>None</td>\n",
       "    </tr>\n",
       "  </tbody>\n",
       "</table>\n",
       "</div>"
      ],
      "text/plain": [
       "  NUTS1 NUTS2  NUTS3  DISTRICT_CODE SUB_DISTRICT_CODE  Postal_CODE  \\\n",
       "0   AT1  AT13  AT113          90100                 .         1010   \n",
       "1   AT1  AT13  AT113          90100                 .         1010   \n",
       "2   AT1  AT13  AT113          90100                 .         1010   \n",
       "3   AT1  AT13  AT113          90100                 .         1010   \n",
       "4   AT1  AT13  AT113          90100                 .         1010   \n",
       "\n",
       "                                          Dog Breed Anzahl  Ref_Date  \\\n",
       "0                             Afghanischer Windhund      1  20161201   \n",
       "1                    Amerikanischer Pit-Bullterrier      1  20161201   \n",
       "2              Amerikanischer Staffordshire-Terrier      4  20161201   \n",
       "3  Amerikanischer Staffordshire-Terrier / Mischling      1  20161201   \n",
       "4                           Australian Shepherd Dog      3  20161201   \n",
       "\n",
       "                                 Breed_1     Breed_2 Breed_3  \n",
       "0                  Afghanischer Windhund        None    None  \n",
       "1         Amerikanischer Pit-Bullterrier        None    None  \n",
       "2   Amerikanischer Staffordshire-Terrier        None    None  \n",
       "3  Amerikanischer Staffordshire-Terrier    Mischling    None  \n",
       "4                Australian Shepherd Dog        None    None  "
      ]
     },
     "execution_count": 277,
     "metadata": {},
     "output_type": "execute_result"
    }
   ],
   "source": [
    "separate_breeds = data['Dog Breed'].str.split('/', return_type='frame')\n",
    "separate_breeds.columns = [\"Breed_1\", \"Breed_2\", \"Breed_3\"]\n",
    "# data_breeds[2].unique()\n",
    "data_breeds = pd.concat([data, separate_breeds], axis=1)\n",
    "data_breeds.head()\n"
   ]
  },
  {
   "cell_type": "markdown",
   "metadata": {},
   "source": [
    "The top rows look just fine. But what about the rest?"
   ]
  },
  {
   "cell_type": "code",
   "execution_count": 278,
   "metadata": {
    "collapsed": false
   },
   "outputs": [
    {
     "data": {
      "text/plain": [
       "(5740, 9)"
      ]
     },
     "execution_count": 278,
     "metadata": {},
     "output_type": "execute_result"
    }
   ],
   "source": [
    "data.shape"
   ]
  },
  {
   "cell_type": "markdown",
   "metadata": {},
   "source": [
    "Our dataset contains 5740 rows and 9 columns."
   ]
  },
  {
   "cell_type": "code",
   "execution_count": 279,
   "metadata": {
    "collapsed": false
   },
   "outputs": [
    {
     "data": {
      "text/plain": [
       "NUTS1                object\n",
       "NUTS2                object\n",
       "NUTS3                object\n",
       "DISTRICT_CODE         int64\n",
       "SUB_DISTRICT_CODE    object\n",
       "Postal_CODE           int64\n",
       "Dog Breed            object\n",
       "Anzahl               object\n",
       "Ref_Date              int64\n",
       "dtype: object"
      ]
     },
     "execution_count": 279,
     "metadata": {},
     "output_type": "execute_result"
    }
   ],
   "source": [
    "# Check the column types to make sure the dataset is loaded correctly\n",
    "data.dtypes"
   ]
  },
  {
   "cell_type": "markdown",
   "metadata": {},
   "source": [
    "Count (Anzahl) is not recognized as numeric data. We shall fix this!"
   ]
  },
  {
   "cell_type": "code",
   "execution_count": 280,
   "metadata": {
    "collapsed": false
   },
   "outputs": [
    {
     "data": {
      "text/html": [
       "<div>\n",
       "<table border=\"1\" class=\"dataframe\">\n",
       "  <thead>\n",
       "    <tr style=\"text-align: right;\">\n",
       "      <th></th>\n",
       "      <th>NUTS1</th>\n",
       "      <th>NUTS2</th>\n",
       "      <th>NUTS3</th>\n",
       "      <th>DISTRICT_CODE</th>\n",
       "      <th>SUB_DISTRICT_CODE</th>\n",
       "      <th>Postal_CODE</th>\n",
       "      <th>Dog Breed</th>\n",
       "      <th>Anzahl</th>\n",
       "      <th>Ref_Date</th>\n",
       "    </tr>\n",
       "  </thead>\n",
       "  <tbody>\n",
       "    <tr>\n",
       "      <th>1914</th>\n",
       "      <td>AT1</td>\n",
       "      <td>AT13</td>\n",
       "      <td>AT113</td>\n",
       "      <td>91000</td>\n",
       "      <td>.</td>\n",
       "      <td>1100</td>\n",
       "      <td>Unbekannt</td>\n",
       "      <td>1,51</td>\n",
       "      <td>20161201</td>\n",
       "    </tr>\n",
       "    <tr>\n",
       "      <th>2210</th>\n",
       "      <td>AT1</td>\n",
       "      <td>AT13</td>\n",
       "      <td>AT113</td>\n",
       "      <td>91100</td>\n",
       "      <td>.</td>\n",
       "      <td>1110</td>\n",
       "      <td>Unbekannt</td>\n",
       "      <td>1,029</td>\n",
       "      <td>20161201</td>\n",
       "    </tr>\n",
       "    <tr>\n",
       "      <th>4879</th>\n",
       "      <td>AT1</td>\n",
       "      <td>AT13</td>\n",
       "      <td>AT113</td>\n",
       "      <td>92100</td>\n",
       "      <td>.</td>\n",
       "      <td>1210</td>\n",
       "      <td>Unbekannt</td>\n",
       "      <td>2,066</td>\n",
       "      <td>20161201</td>\n",
       "    </tr>\n",
       "    <tr>\n",
       "      <th>5347</th>\n",
       "      <td>AT1</td>\n",
       "      <td>AT13</td>\n",
       "      <td>AT113</td>\n",
       "      <td>92200</td>\n",
       "      <td>.</td>\n",
       "      <td>1220</td>\n",
       "      <td>Unbekannt</td>\n",
       "      <td>2,46</td>\n",
       "      <td>20161201</td>\n",
       "    </tr>\n",
       "    <tr>\n",
       "      <th>5715</th>\n",
       "      <td>AT1</td>\n",
       "      <td>AT13</td>\n",
       "      <td>AT113</td>\n",
       "      <td>92300</td>\n",
       "      <td>.</td>\n",
       "      <td>1230</td>\n",
       "      <td>Unbekannt</td>\n",
       "      <td>1,215</td>\n",
       "      <td>20161201</td>\n",
       "    </tr>\n",
       "  </tbody>\n",
       "</table>\n",
       "</div>"
      ],
      "text/plain": [
       "     NUTS1 NUTS2  NUTS3  DISTRICT_CODE SUB_DISTRICT_CODE  Postal_CODE  \\\n",
       "1914   AT1  AT13  AT113          91000                 .         1100   \n",
       "2210   AT1  AT13  AT113          91100                 .         1110   \n",
       "4879   AT1  AT13  AT113          92100                 .         1210   \n",
       "5347   AT1  AT13  AT113          92200                 .         1220   \n",
       "5715   AT1  AT13  AT113          92300                 .         1230   \n",
       "\n",
       "      Dog Breed Anzahl  Ref_Date  \n",
       "1914  Unbekannt   1,51  20161201  \n",
       "2210  Unbekannt  1,029  20161201  \n",
       "4879  Unbekannt  2,066  20161201  \n",
       "5347  Unbekannt   2,46  20161201  \n",
       "5715  Unbekannt  1,215  20161201  "
      ]
     },
     "execution_count": 280,
     "metadata": {},
     "output_type": "execute_result"
    }
   ],
   "source": [
    "# Check the rows that are not recognized as numeric\n",
    "data[data.Anzahl.apply(lambda x: not x.isnumeric())]"
   ]
  },
  {
   "cell_type": "markdown",
   "metadata": {},
   "source": [
    "Hmmm that looks interesting. 1,51 of a dog. What could that possibly mean?\n",
    "\n",
    "Maybe 0s in the end of thousands got accidentally droped?\n",
    "This does indeed look like a plausible explanation for these numbers. Lets try to fix this."
   ]
  },
  {
   "cell_type": "code",
   "execution_count": 281,
   "metadata": {
    "collapsed": false
   },
   "outputs": [
    {
     "name": "stdout",
     "output_type": "stream",
     "text": [
      "<class 'pandas.core.frame.DataFrame'>\n",
      "RangeIndex: 5740 entries, 0 to 5739\n",
      "Data columns (total 9 columns):\n",
      "NUTS1                5740 non-null object\n",
      "NUTS2                5740 non-null object\n",
      "NUTS3                5740 non-null object\n",
      "DISTRICT_CODE        5740 non-null int64\n",
      "SUB_DISTRICT_CODE    5740 non-null object\n",
      "Postal_CODE          5740 non-null int64\n",
      "Dog Breed            5740 non-null object\n",
      "Anzahl               5740 non-null int64\n",
      "Ref_Date             5740 non-null int64\n",
      "dtypes: int64(4), object(5)\n",
      "memory usage: 403.7+ KB\n"
     ]
    }
   ],
   "source": [
    "# Reload dataset\n",
    "data = pd.read_csv(data_path, delimiter=';', skiprows=1, thousands=',', encoding='latin-1')\n",
    "# Check the column types to make sure the dataset is loaded correctly\n",
    "data.info()"
   ]
  },
  {
   "cell_type": "markdown",
   "metadata": {},
   "source": [
    "Looks good: count is recognized as integer (Anzahl int64).\n",
    "But I want to make sure the numbers were translated correctly. Lets find these rows."
   ]
  },
  {
   "cell_type": "code",
   "execution_count": 282,
   "metadata": {
    "collapsed": false
   },
   "outputs": [
    {
     "data": {
      "text/html": [
       "<div>\n",
       "<table border=\"1\" class=\"dataframe\">\n",
       "  <thead>\n",
       "    <tr style=\"text-align: right;\">\n",
       "      <th></th>\n",
       "      <th>NUTS1</th>\n",
       "      <th>NUTS2</th>\n",
       "      <th>NUTS3</th>\n",
       "      <th>DISTRICT_CODE</th>\n",
       "      <th>SUB_DISTRICT_CODE</th>\n",
       "      <th>Postal_CODE</th>\n",
       "      <th>Dog Breed</th>\n",
       "      <th>Anzahl</th>\n",
       "      <th>Ref_Date</th>\n",
       "    </tr>\n",
       "  </thead>\n",
       "  <tbody>\n",
       "    <tr>\n",
       "      <th>1914</th>\n",
       "      <td>AT1</td>\n",
       "      <td>AT13</td>\n",
       "      <td>AT113</td>\n",
       "      <td>91000</td>\n",
       "      <td>.</td>\n",
       "      <td>1100</td>\n",
       "      <td>Unbekannt</td>\n",
       "      <td>151</td>\n",
       "      <td>20161201</td>\n",
       "    </tr>\n",
       "  </tbody>\n",
       "</table>\n",
       "</div>"
      ],
      "text/plain": [
       "     NUTS1 NUTS2  NUTS3  DISTRICT_CODE SUB_DISTRICT_CODE  Postal_CODE  \\\n",
       "1914   AT1  AT13  AT113          91000                 .         1100   \n",
       "\n",
       "      Dog Breed  Anzahl  Ref_Date  \n",
       "1914  Unbekannt     151  20161201  "
      ]
     },
     "execution_count": 282,
     "metadata": {},
     "output_type": "execute_result"
    }
   ],
   "source": [
    "# Filter raws based on multiple columns\n",
    "data[(data['Dog Breed']=='Unbekannt') & (data['Postal_CODE']==1100)]"
   ]
  },
  {
   "cell_type": "markdown",
   "metadata": {},
   "source": [
    "Oh no that did not work magic. We need to fix these cases manually."
   ]
  },
  {
   "cell_type": "code",
   "execution_count": 283,
   "metadata": {
    "collapsed": false,
    "scrolled": true
   },
   "outputs": [
    {
     "name": "stderr",
     "output_type": "stream",
     "text": [
      "/anaconda/lib/python2.7/site-packages/ipykernel/__main__.py:2: SettingWithCopyWarning: \n",
      "A value is trying to be set on a copy of a slice from a DataFrame\n",
      "\n",
      "See the caveats in the documentation: http://pandas.pydata.org/pandas-docs/stable/indexing.html#indexing-view-versus-copy\n",
      "  from ipykernel import kernelapp as app\n",
      "/anaconda/lib/python2.7/site-packages/ipykernel/__main__.py:3: SettingWithCopyWarning: \n",
      "A value is trying to be set on a copy of a slice from a DataFrame\n",
      "\n",
      "See the caveats in the documentation: http://pandas.pydata.org/pandas-docs/stable/indexing.html#indexing-view-versus-copy\n",
      "  app.launch_new_instance()\n"
     ]
    },
    {
     "data": {
      "text/html": [
       "<div>\n",
       "<table border=\"1\" class=\"dataframe\">\n",
       "  <thead>\n",
       "    <tr style=\"text-align: right;\">\n",
       "      <th></th>\n",
       "      <th>NUTS1</th>\n",
       "      <th>NUTS2</th>\n",
       "      <th>NUTS3</th>\n",
       "      <th>DISTRICT_CODE</th>\n",
       "      <th>SUB_DISTRICT_CODE</th>\n",
       "      <th>Postal_CODE</th>\n",
       "      <th>Dog Breed</th>\n",
       "      <th>Anzahl</th>\n",
       "      <th>Ref_Date</th>\n",
       "    </tr>\n",
       "  </thead>\n",
       "  <tbody>\n",
       "    <tr>\n",
       "      <th>1914</th>\n",
       "      <td>AT1</td>\n",
       "      <td>AT13</td>\n",
       "      <td>AT113</td>\n",
       "      <td>91000</td>\n",
       "      <td>.</td>\n",
       "      <td>1100</td>\n",
       "      <td>Unbekannt</td>\n",
       "      <td>1510</td>\n",
       "      <td>20161201</td>\n",
       "    </tr>\n",
       "  </tbody>\n",
       "</table>\n",
       "</div>"
      ],
      "text/plain": [
       "     NUTS1 NUTS2  NUTS3  DISTRICT_CODE SUB_DISTRICT_CODE  Postal_CODE  \\\n",
       "1914   AT1  AT13  AT113          91000                 .         1100   \n",
       "\n",
       "      Dog Breed  Anzahl  Ref_Date  \n",
       "1914  Unbekannt    1510  20161201  "
      ]
     },
     "execution_count": 283,
     "metadata": {},
     "output_type": "execute_result"
    }
   ],
   "source": [
    "# Correct individual values in the dataset\n",
    "data['Anzahl'][1914] = 1510\n",
    "data['Anzahl'][5347] = 2460\n",
    "# Filter raws based on multiple columns\n",
    "data[(data['Dog Breed']=='Unbekannt') & (data['Postal_CODE']==1100)]"
   ]
  },
  {
   "cell_type": "code",
   "execution_count": 312,
   "metadata": {
    "collapsed": false
   },
   "outputs": [
    {
     "name": "stderr",
     "output_type": "stream",
     "text": [
      "/anaconda/lib/python2.7/site-packages/ipykernel/__main__.py:1: FutureWarning: the return_type='frame' keyword is deprecated, use expand=True instead\n",
      "  if __name__ == '__main__':\n"
     ]
    },
    {
     "data": {
      "text/html": [
       "<div>\n",
       "<table border=\"1\" class=\"dataframe\">\n",
       "  <thead>\n",
       "    <tr style=\"text-align: right;\">\n",
       "      <th></th>\n",
       "      <th>NUTS1</th>\n",
       "      <th>NUTS2</th>\n",
       "      <th>NUTS3</th>\n",
       "      <th>DISTRICT_CODE</th>\n",
       "      <th>SUB_DISTRICT_CODE</th>\n",
       "      <th>Postal_CODE</th>\n",
       "      <th>Dog Breed</th>\n",
       "      <th>Anzahl</th>\n",
       "      <th>Ref_Date</th>\n",
       "      <th>Breed_1</th>\n",
       "      <th>Breed_2</th>\n",
       "    </tr>\n",
       "  </thead>\n",
       "  <tbody>\n",
       "    <tr>\n",
       "      <th>0</th>\n",
       "      <td>AT1</td>\n",
       "      <td>AT13</td>\n",
       "      <td>AT113</td>\n",
       "      <td>90100</td>\n",
       "      <td>.</td>\n",
       "      <td>1010</td>\n",
       "      <td>Afghanischer Windhund</td>\n",
       "      <td>1</td>\n",
       "      <td>20161201</td>\n",
       "      <td>Afghanischer Windhund</td>\n",
       "      <td>None</td>\n",
       "    </tr>\n",
       "    <tr>\n",
       "      <th>1</th>\n",
       "      <td>AT1</td>\n",
       "      <td>AT13</td>\n",
       "      <td>AT113</td>\n",
       "      <td>90100</td>\n",
       "      <td>.</td>\n",
       "      <td>1010</td>\n",
       "      <td>Amerikanischer Pit-Bullterrier</td>\n",
       "      <td>1</td>\n",
       "      <td>20161201</td>\n",
       "      <td>Amerikanischer Pit-Bullterrier</td>\n",
       "      <td>None</td>\n",
       "    </tr>\n",
       "    <tr>\n",
       "      <th>2</th>\n",
       "      <td>AT1</td>\n",
       "      <td>AT13</td>\n",
       "      <td>AT113</td>\n",
       "      <td>90100</td>\n",
       "      <td>.</td>\n",
       "      <td>1010</td>\n",
       "      <td>Amerikanischer Staffordshire-Terrier</td>\n",
       "      <td>4</td>\n",
       "      <td>20161201</td>\n",
       "      <td>Amerikanischer Staffordshire-Terrier</td>\n",
       "      <td>None</td>\n",
       "    </tr>\n",
       "    <tr>\n",
       "      <th>3</th>\n",
       "      <td>AT1</td>\n",
       "      <td>AT13</td>\n",
       "      <td>AT113</td>\n",
       "      <td>90100</td>\n",
       "      <td>.</td>\n",
       "      <td>1010</td>\n",
       "      <td>Amerikanischer Staffordshire-Terrier / Mischling</td>\n",
       "      <td>1</td>\n",
       "      <td>20161201</td>\n",
       "      <td>Amerikanischer Staffordshire-Terrier</td>\n",
       "      <td>Mischling</td>\n",
       "    </tr>\n",
       "    <tr>\n",
       "      <th>4</th>\n",
       "      <td>AT1</td>\n",
       "      <td>AT13</td>\n",
       "      <td>AT113</td>\n",
       "      <td>90100</td>\n",
       "      <td>.</td>\n",
       "      <td>1010</td>\n",
       "      <td>Australian Shepherd Dog</td>\n",
       "      <td>3</td>\n",
       "      <td>20161201</td>\n",
       "      <td>Australian Shepherd Dog</td>\n",
       "      <td>None</td>\n",
       "    </tr>\n",
       "  </tbody>\n",
       "</table>\n",
       "</div>"
      ],
      "text/plain": [
       "  NUTS1 NUTS2  NUTS3  DISTRICT_CODE SUB_DISTRICT_CODE  Postal_CODE  \\\n",
       "0   AT1  AT13  AT113          90100                 .         1010   \n",
       "1   AT1  AT13  AT113          90100                 .         1010   \n",
       "2   AT1  AT13  AT113          90100                 .         1010   \n",
       "3   AT1  AT13  AT113          90100                 .         1010   \n",
       "4   AT1  AT13  AT113          90100                 .         1010   \n",
       "\n",
       "                                          Dog Breed  Anzahl  Ref_Date  \\\n",
       "0                             Afghanischer Windhund       1  20161201   \n",
       "1                    Amerikanischer Pit-Bullterrier       1  20161201   \n",
       "2              Amerikanischer Staffordshire-Terrier       4  20161201   \n",
       "3  Amerikanischer Staffordshire-Terrier / Mischling       1  20161201   \n",
       "4                           Australian Shepherd Dog       3  20161201   \n",
       "\n",
       "                                Breed_1    Breed_2  \n",
       "0                 Afghanischer Windhund       None  \n",
       "1        Amerikanischer Pit-Bullterrier       None  \n",
       "2  Amerikanischer Staffordshire-Terrier       None  \n",
       "3  Amerikanischer Staffordshire-Terrier  Mischling  \n",
       "4               Australian Shepherd Dog       None  "
      ]
     },
     "execution_count": 312,
     "metadata": {},
     "output_type": "execute_result"
    }
   ],
   "source": [
    "# Carefully select the string separator, including spaces!\n",
    "separate_breeds = data['Dog Breed'].str.split(' / ', return_type='frame')\n",
    "separate_breeds.columns = [\"Breed_1\", \"Breed_2\"]\n",
    "# data_breeds[2].unique()\n",
    "data_breeds = pd.concat([data, separate_breeds], axis=1)\n",
    "data_breeds.head()"
   ]
  },
  {
   "cell_type": "code",
   "execution_count": 354,
   "metadata": {
    "collapsed": false
   },
   "outputs": [
    {
     "data": {
      "text/plain": [
       "array([u'Afghanischer Windhund', u'Amerikanischer Pit-Bullterrier',\n",
       "       u'Amerikanischer Staffordshire-Terrier', u'Australian Shepherd Dog',\n",
       "       u'Australian Terrier', u'Basset Hound', u'Beagle', u'Beauceron',\n",
       "       u'Bergamasker Hirtenhund', u'Berner Sennenhund', u'Bernhardiner',\n",
       "       u'Bichon Fris\\xc3\\xa9', u'Bolonka Zwetna', u'Border-Collie',\n",
       "       u'Bosnischer Rauhhaariger Laufhund', u'Boston Terrier', u'Boxer',\n",
       "       u'Bracke', u'Bulldog', u'Bullterrier', u'Cairn-Terrier',\n",
       "       u'Cao de Agua Portugues', u'Cavalier King Charles Spaniel',\n",
       "       u'Chihuahua kurzhaariger Schlag', u'Chihuahua langhaariger Schlag',\n",
       "       u'Chow-Chow', u'Cockerpoo', u'Collie', u'Dackel', u'Dalmatiner',\n",
       "       u'Deutsche Dogge', u'Deutscher Jagdterrier', u'Deutscher Pinscher',\n",
       "       u'Deutscher Sch\\xc3\\xa4ferhund', u'Deutsch Kurzhaar',\n",
       "       u'Dogo Argentino', u'Drahthaar-Foxterrier',\n",
       "       u'Englischer Cockerspaniel', u'Entlebucher Sennenhund',\n",
       "       u'Flat Coated Retriever', u'Franz\\xc3\\xb6sische Bulldogge',\n",
       "       u'Glatthaar-Foxterrier', u'Golden Retriever', u'Gordon Setter',\n",
       "       u'Grosser Schweizer Sennenhund', u'Havaneser', u'Irish Terrier',\n",
       "       u'Italienisches Windspiel', u'Jack-Russell-Terrier', u'Japan-Chin',\n",
       "       u'Labradoodle', u'Labrador Retriever', u'Lagotto Romagnolo',\n",
       "       u'Langhaardackel', u'Leonberger', u'Lhasa Apso', u'L\\xc3\\xb6wchen',\n",
       "       u'Lurcher', u'Magyar Vizsla', u'Malteser', u'Mops',\n",
       "       u'\\xc3\\x96sterreichischer Pinscher', u'Papillon',\n",
       "       u'Parson-Russell-Terrier', u'Pekinese', u'Peruanische Nackthund',\n",
       "       u'Pudel', u'Puli', u'Rauhhaardackel (Zwergdackel)',\n",
       "       u'Rhodesian Ridgeback', u'Rottweiler', u'Samojede', u'Schnauzer',\n",
       "       u'Scottish Terrier', u'Shar Pei', u'Sheltie', u'Shiba Inu',\n",
       "       u'Shih Tzu', u'Siberian Husky', u'Skye Terrier', u'Spitz',\n",
       "       u'Steirische Rauhhaarige Hochgebirgsbracke', u'Tibet-Terrier',\n",
       "       u'Toy-Pudel', u'Tschechischer Wolfshund', u'Unbekannt',\n",
       "       u'Weimaraner', u'Wei\\xc3\\x9fer Schweizer Sch\\xc3\\xa4ferhund',\n",
       "       u'Welsh Terrier', u'West Highland White Terrier', u'Whippet',\n",
       "       u'Yorkshire Terrier', u'Zwergpinscher', u'Zwergpudel',\n",
       "       u'Zwergschnauzer', u'Zwergspitz', u'Airedale-Terrier', u'Akita Inu',\n",
       "       u'Altd\\xc3\\xa4nischer Vorstehhund', u'American Akita',\n",
       "       u'American Bulldog', u'American Shepherd',\n",
       "       u'Amerikanischer Cockerspaniel', u'Anatolischer Hirtenhund',\n",
       "       u'Appenzeller Sennenhund', u'Aussiedoodle',\n",
       "       u'Australian Cattle Dog', u'Australian Kelpie', u'Barsoi',\n",
       "       u'Basenji', u'Bayerischer Gebirgsschweisshund', u'Bearded Collie',\n",
       "       u'Bedlington-Terrier', u'Belgischer Sch\\xc3\\xa4ferhund',\n",
       "       u'Berger Picard', u'Biewer Terrier', u'Bologneser',\n",
       "       u'Bordeauxdogge', u'Border-Terrier', u'Briard', u'Ca de Bestiar',\n",
       "       u'Cane Corso', u'Chinesischer Schopfhund Hairless-Schlag',\n",
       "       u'Chinesischer Schopfhund Powderpuff-Schlag', u'Cocker Spaniel',\n",
       "       u'Coton de Tulear', u'Deutsch Drahthaar',\n",
       "       u'Deutscher Sch\\xc3\\xa4ferhund Brauner langhaariger Schlag',\n",
       "       u'Deutscher Sch\\xc3\\xa4ferhund Cremefarbener langhaariger S',\n",
       "       u'Deutscher Wolfsspitz', u'Dobermann', u'Dogo Canario',\n",
       "       u'English Setter', u'Epagneul Breton', u'Eurasier',\n",
       "       u'Field Spaniel', u'Greyhound', u'Griffon Belge',\n",
       "       u'Griffon Bruxellois', u'Groenendael', u'Gr\\xc3\\xb6nlandhund',\n",
       "       u'Grosser M\\xc3\\xbcnsterl\\xc3\\xa4nder', u'Grosspudel',\n",
       "       u'Hollandse Herdershond', u'Hovawart',\n",
       "       u'Irish red-and-white Setter', u'Irish Setter',\n",
       "       u'Irish Soft Coated Wheaten Terrier', u'Irish Wolfhound',\n",
       "       u'Jagdterrier', u'Kanarische Dogge',\n",
       "       u'Katalanische Sch\\xc3\\xa4ferhund',\n",
       "       u'Kleiner M\\xc3\\xbcnsterl\\xc3\\xa4nder', u'Klein- oder Mittelpudel',\n",
       "       u'Kooikerhond', u'Kroatischer Sch\\xc3\\xa4ferhund',\n",
       "       u'Kurzhaariger Collie', u'Kuvasz', u'Lakeland-Terrier', u'Malinois',\n",
       "       u'Mastino Napoletano', u'Mudi',\n",
       "       u'Nova Scotia Duck Tolling Retriever', u'Olde English Bulldogge',\n",
       "       u'Petit Basset Griffon Vendeen', u'Podenco Canario',\n",
       "       u'Podenco Ibicenco', u'Pointer', u'Pumi', u'Russkiy Toy', u'Saluki',\n",
       "       u'Shiloh Shepherd', u'Spanischer Windhund',\n",
       "       u'Staffordshire-Bullterrier', u'Tibet-Spaniel',\n",
       "       u'Ungarischer Windhund', u'Volpino', u'Welsh Corgi Cardigan',\n",
       "       u'Welsh Corgi Pembroke', u'Welsh Springer Spaniel', u'Windhund',\n",
       "       u'Wolfsspitz', u'Barbet', u'Basset Art\\xc3\\xa9sien-Normand',\n",
       "       u'Basset Fauve de Bretagne', u'Berger de Pyr\\xc3\\xa9n\\xc3\\xa9es',\n",
       "       u'Bichon/Yorkie', u'Bobtail', u'Bullmastiff',\n",
       "       u'Catahoula Leopard Dog', u'Chesapeake Bay Retriever',\n",
       "       u'D\\xc3\\xa4nischer Bauernhund', u'Deerhound',\n",
       "       u'Deutscher Sch\\xc3\\xa4ferhund Schwarzer langhaariger Schla',\n",
       "       u'Elo', u'English Springer Spaniel', u'English Toy Terrier',\n",
       "       u'Epagneul Bleu de Picardie', u'Fila Brasileiro',\n",
       "       u'Francais Tricolore', u'Kangal', u'Kerry Blue Terrier',\n",
       "       u'King Charles Spaniel', u'Landseer', u'Maremmaner Hirtenhund',\n",
       "       u'Mastiff', u'Neufundl\\xc3\\xa4nder', u'Norfolk-Terrier',\n",
       "       u'Norwich-Terrier', u'Perro de Agua Espanol', u'Prager Rattler',\n",
       "       u'Ratero', u'Riesenschnauzer', u'Sloughi',\n",
       "       u'Soft-Coated Wheaten Terrier', u'W\\xc3\\xa4ller',\n",
       "       u'Kromfohrl\\xc3\\xa4nder', u'Mexikanischer Nackthund',\n",
       "       u'Mittelspitz', u'Tervueren', u'Alpenl\\xc3\\xa4ndische Dachsbracke',\n",
       "       u'American Hairless Terrier', u'Balkanbracke', u'Brabancon',\n",
       "       u'Japanischer Spitz', u'Kurzhaardackel',\n",
       "       u'Podengo Portugueso Pequeno',\n",
       "       u'Polnischer Niederungsh\\xc3\\xbctehund', u'Spinone',\n",
       "       u'Alaskan Malamute', u'Boerboel', u'Pudelpointer',\n",
       "       u'Ungarische Bracke', u'Basset Bleu de Gascogne',\n",
       "       u'Brasilianischer Terrier', u'Curly-Coated Retriever',\n",
       "       u'Perdigueiro Portugues', u'Istrianer Rauhhaarige Bracke',\n",
       "       u'Norwegischer Lundehund', u'Polnische Bracke',\n",
       "       u'Kaukasischer Sch\\xc3\\xa4ferhund', u'Phalene',\n",
       "       u'Schwyzer Laufhund', u'Tibetdogge', u'Tosa Inu', u'Affenpinscher',\n",
       "       u'Ainu-Hund', u'Alpinsch\\xc3\\xa4fer',\n",
       "       u'Appenzeller Gebirgsschweisshund', u'Australian Silky Terrier',\n",
       "       u'Cesky Fousek', u'Chien d\\xc2\\xb4Artois', u'Epagneul Francais',\n",
       "       u'Hannoverscher Schweisshund', u'Harzer Fuchs', u'Inka Nackthund',\n",
       "       u'Isl\\xc3\\xa4nder Spitz', u'Komondor', u'Manchester-Terrier',\n",
       "       u'Norwegischer Elchhund', u'Patterdale-Terrier',\n",
       "       u'Polnischer Berghund', u'Pyren\\xc3\\xa4enberghund',\n",
       "       u'Pyren\\xc3\\xa4enhund', u'Rat Terrier', u'Schapendoes',\n",
       "       u'Schwarzer Russischer Terrier', u'Slovensky Cuvac',\n",
       "       u'Slovensky Kopov', u'S\\xc3\\xbcdrussischer Sch\\xc3\\xa4ferhund',\n",
       "       u'Thai Ridgeback', u'American Staghound', u'Azawakh',\n",
       "       u'Chodsky Pes', u'Griffon Nivernais',\n",
       "       u'Grand Basset Griffon Vendeen', u'Petit Bleu de Gascogne',\n",
       "       u'Podengo Portugueso Medio', u'Zwergsch\\xc3\\xa4ferhund',\n",
       "       u'American Toy Terrier', u'Black-and-tan Coonhound',\n",
       "       u'Deutsch Langhaar', u'Glen of Imaal Terrier', u'Pharaonenhund',\n",
       "       u'Tiroler Bracke', u'Wachtelhund', u'American Foxhound',\n",
       "       u'Dandie-Dinmont Terrier', u'Illyrischer Sch\\xc3\\xa4ferhund',\n",
       "       u'NEU', u'Schipperke', u'Beagle-Harrier', u'Tibetischer Kyi Apso',\n",
       "       u'Bouvier des Flandres', u'Sealyham-Terrier', u'Sussex-Spaniel',\n",
       "       u'Bracco Italiano', u'Epagneul Picard',\n",
       "       u'Griffon bleue de Gascogne', u'Zentralasiatischer Owtscharka',\n",
       "       u'American Water Spaniel', u'Korea Jindo Dog', u'Lancashire-Heeler',\n",
       "       u'Otterhound', u'Stabyhond', u'Carolina Dog',\n",
       "       u'Lappl\\xc3\\xa4nder Rentierhund', u'Podhalenhund',\n",
       "       u'Amerikanischer Collie', u'Kai', u'Mastin Espanol',\n",
       "       u'Mittelasiatischer Sch\\xc3\\xa4ferhund', u'Perdiguero de Burgos',\n",
       "       u'Russisch-Europ\\xc3\\xa4ischer Laika', u'Braque Saint-Germain',\n",
       "       u'Briquet Griffon Vendeen', u'Drentse Patrijshond', u'Save-Bracke',\n",
       "       u'Broholmer', u'Cesky Terrier', u'Eskimohund'], dtype=object)"
      ]
     },
     "execution_count": 354,
     "metadata": {},
     "output_type": "execute_result"
    }
   ],
   "source": [
    "# Check unique values\n",
    "data_breeds['Breed_1'].unique()"
   ]
  },
  {
   "cell_type": "code",
   "execution_count": 317,
   "metadata": {
    "collapsed": false
   },
   "outputs": [
    {
     "data": {
      "text/html": [
       "<div>\n",
       "<table border=\"1\" class=\"dataframe\">\n",
       "  <thead>\n",
       "    <tr style=\"text-align: right;\">\n",
       "      <th></th>\n",
       "      <th>DISTRICT_CODE</th>\n",
       "      <th>Postal_CODE</th>\n",
       "      <th>Anzahl</th>\n",
       "      <th>Ref_Date</th>\n",
       "    </tr>\n",
       "  </thead>\n",
       "  <tbody>\n",
       "    <tr>\n",
       "      <th>count</th>\n",
       "      <td>5740.000000</td>\n",
       "      <td>5740.000000</td>\n",
       "      <td>5740.000000</td>\n",
       "      <td>5740.0</td>\n",
       "    </tr>\n",
       "    <tr>\n",
       "      <th>mean</th>\n",
       "      <td>91355.000000</td>\n",
       "      <td>1135.500000</td>\n",
       "      <td>9.743728</td>\n",
       "      <td>20161201.0</td>\n",
       "    </tr>\n",
       "    <tr>\n",
       "      <th>std</th>\n",
       "      <td>668.274742</td>\n",
       "      <td>66.827474</td>\n",
       "      <td>61.095023</td>\n",
       "      <td>0.0</td>\n",
       "    </tr>\n",
       "    <tr>\n",
       "      <th>min</th>\n",
       "      <td>90100.000000</td>\n",
       "      <td>1010.000000</td>\n",
       "      <td>1.000000</td>\n",
       "      <td>20161201.0</td>\n",
       "    </tr>\n",
       "    <tr>\n",
       "      <th>25%</th>\n",
       "      <td>90900.000000</td>\n",
       "      <td>1090.000000</td>\n",
       "      <td>1.000000</td>\n",
       "      <td>20161201.0</td>\n",
       "    </tr>\n",
       "    <tr>\n",
       "      <th>50%</th>\n",
       "      <td>91400.000000</td>\n",
       "      <td>1140.000000</td>\n",
       "      <td>2.000000</td>\n",
       "      <td>20161201.0</td>\n",
       "    </tr>\n",
       "    <tr>\n",
       "      <th>75%</th>\n",
       "      <td>92000.000000</td>\n",
       "      <td>1200.000000</td>\n",
       "      <td>5.000000</td>\n",
       "      <td>20161201.0</td>\n",
       "    </tr>\n",
       "    <tr>\n",
       "      <th>max</th>\n",
       "      <td>92300.000000</td>\n",
       "      <td>1230.000000</td>\n",
       "      <td>2460.000000</td>\n",
       "      <td>20161201.0</td>\n",
       "    </tr>\n",
       "  </tbody>\n",
       "</table>\n",
       "</div>"
      ],
      "text/plain": [
       "       DISTRICT_CODE  Postal_CODE       Anzahl    Ref_Date\n",
       "count    5740.000000  5740.000000  5740.000000      5740.0\n",
       "mean    91355.000000  1135.500000     9.743728  20161201.0\n",
       "std       668.274742    66.827474    61.095023         0.0\n",
       "min     90100.000000  1010.000000     1.000000  20161201.0\n",
       "25%     90900.000000  1090.000000     1.000000  20161201.0\n",
       "50%     91400.000000  1140.000000     2.000000  20161201.0\n",
       "75%     92000.000000  1200.000000     5.000000  20161201.0\n",
       "max     92300.000000  1230.000000  2460.000000  20161201.0"
      ]
     },
     "execution_count": 317,
     "metadata": {},
     "output_type": "execute_result"
    }
   ],
   "source": [
    "# Check descriptive statistics\n",
    "data_breeds.describe()\n",
    "# data['Ref_Date'].unique()"
   ]
  },
  {
   "cell_type": "markdown",
   "metadata": {},
   "source": [
    "The district and postal codes range from 90100 (1010) to 92300 (1230) indicating the 23 districts of Vienna (Wiener Bezirke).\n",
    "\n",
    "All rows describe the data for a single reference date: 2016 12 01. Since the date format is not explicitly specified, it is not clear though whether it is the 1st of December or the 12th of January.\n",
    "\n",
    "Essentially the dataset boils down to the information: District | Dog Breed | Dog Count"
   ]
  },
  {
   "cell_type": "code",
   "execution_count": 364,
   "metadata": {
    "collapsed": false
   },
   "outputs": [
    {
     "data": {
      "text/html": [
       "<div>\n",
       "<table border=\"1\" class=\"dataframe\">\n",
       "  <thead>\n",
       "    <tr style=\"text-align: right;\">\n",
       "      <th></th>\n",
       "      <th>DISTRICT_CODE</th>\n",
       "      <th>Breed_1</th>\n",
       "      <th>Anzahl</th>\n",
       "    </tr>\n",
       "  </thead>\n",
       "  <tbody>\n",
       "    <tr>\n",
       "      <th>0</th>\n",
       "      <td>90100</td>\n",
       "      <td>Afghanischer Windhund</td>\n",
       "      <td>1</td>\n",
       "    </tr>\n",
       "    <tr>\n",
       "      <th>1</th>\n",
       "      <td>90100</td>\n",
       "      <td>Amerikanischer Pit-Bullterrier</td>\n",
       "      <td>1</td>\n",
       "    </tr>\n",
       "    <tr>\n",
       "      <th>2</th>\n",
       "      <td>90100</td>\n",
       "      <td>Amerikanischer Staffordshire-Terrier</td>\n",
       "      <td>5</td>\n",
       "    </tr>\n",
       "    <tr>\n",
       "      <th>3</th>\n",
       "      <td>90100</td>\n",
       "      <td>Australian Shepherd Dog</td>\n",
       "      <td>3</td>\n",
       "    </tr>\n",
       "    <tr>\n",
       "      <th>4</th>\n",
       "      <td>90100</td>\n",
       "      <td>Australian Terrier</td>\n",
       "      <td>1</td>\n",
       "    </tr>\n",
       "    <tr>\n",
       "      <th>5</th>\n",
       "      <td>90100</td>\n",
       "      <td>Basset Hound</td>\n",
       "      <td>1</td>\n",
       "    </tr>\n",
       "    <tr>\n",
       "      <th>6</th>\n",
       "      <td>90100</td>\n",
       "      <td>Beagle</td>\n",
       "      <td>8</td>\n",
       "    </tr>\n",
       "    <tr>\n",
       "      <th>7</th>\n",
       "      <td>90100</td>\n",
       "      <td>Beauceron</td>\n",
       "      <td>1</td>\n",
       "    </tr>\n",
       "    <tr>\n",
       "      <th>8</th>\n",
       "      <td>90100</td>\n",
       "      <td>Bergamasker Hirtenhund</td>\n",
       "      <td>1</td>\n",
       "    </tr>\n",
       "    <tr>\n",
       "      <th>9</th>\n",
       "      <td>90100</td>\n",
       "      <td>Berner Sennenhund</td>\n",
       "      <td>1</td>\n",
       "    </tr>\n",
       "    <tr>\n",
       "      <th>10</th>\n",
       "      <td>90100</td>\n",
       "      <td>Bernhardiner</td>\n",
       "      <td>1</td>\n",
       "    </tr>\n",
       "    <tr>\n",
       "      <th>11</th>\n",
       "      <td>90100</td>\n",
       "      <td>Bichon FrisÃ©</td>\n",
       "      <td>1</td>\n",
       "    </tr>\n",
       "    <tr>\n",
       "      <th>12</th>\n",
       "      <td>90100</td>\n",
       "      <td>Bolonka Zwetna</td>\n",
       "      <td>3</td>\n",
       "    </tr>\n",
       "    <tr>\n",
       "      <th>13</th>\n",
       "      <td>90100</td>\n",
       "      <td>Border-Collie</td>\n",
       "      <td>5</td>\n",
       "    </tr>\n",
       "    <tr>\n",
       "      <th>14</th>\n",
       "      <td>90100</td>\n",
       "      <td>Bosnischer Rauhhaariger Laufhund</td>\n",
       "      <td>1</td>\n",
       "    </tr>\n",
       "    <tr>\n",
       "      <th>15</th>\n",
       "      <td>90100</td>\n",
       "      <td>Boston Terrier</td>\n",
       "      <td>2</td>\n",
       "    </tr>\n",
       "    <tr>\n",
       "      <th>16</th>\n",
       "      <td>90100</td>\n",
       "      <td>Boxer</td>\n",
       "      <td>5</td>\n",
       "    </tr>\n",
       "    <tr>\n",
       "      <th>17</th>\n",
       "      <td>90100</td>\n",
       "      <td>Bracke</td>\n",
       "      <td>2</td>\n",
       "    </tr>\n",
       "    <tr>\n",
       "      <th>18</th>\n",
       "      <td>90100</td>\n",
       "      <td>Bulldog</td>\n",
       "      <td>1</td>\n",
       "    </tr>\n",
       "    <tr>\n",
       "      <th>19</th>\n",
       "      <td>90100</td>\n",
       "      <td>Bullterrier</td>\n",
       "      <td>2</td>\n",
       "    </tr>\n",
       "    <tr>\n",
       "      <th>20</th>\n",
       "      <td>90100</td>\n",
       "      <td>Cairn-Terrier</td>\n",
       "      <td>1</td>\n",
       "    </tr>\n",
       "    <tr>\n",
       "      <th>21</th>\n",
       "      <td>90100</td>\n",
       "      <td>Cao de Agua Portugues</td>\n",
       "      <td>2</td>\n",
       "    </tr>\n",
       "    <tr>\n",
       "      <th>22</th>\n",
       "      <td>90100</td>\n",
       "      <td>Cavalier King Charles Spaniel</td>\n",
       "      <td>3</td>\n",
       "    </tr>\n",
       "    <tr>\n",
       "      <th>23</th>\n",
       "      <td>90100</td>\n",
       "      <td>Chihuahua kurzhaariger Schlag</td>\n",
       "      <td>12</td>\n",
       "    </tr>\n",
       "    <tr>\n",
       "      <th>24</th>\n",
       "      <td>90100</td>\n",
       "      <td>Chihuahua langhaariger Schlag</td>\n",
       "      <td>1</td>\n",
       "    </tr>\n",
       "    <tr>\n",
       "      <th>25</th>\n",
       "      <td>90100</td>\n",
       "      <td>Chow-Chow</td>\n",
       "      <td>2</td>\n",
       "    </tr>\n",
       "    <tr>\n",
       "      <th>26</th>\n",
       "      <td>90100</td>\n",
       "      <td>Cockerpoo</td>\n",
       "      <td>2</td>\n",
       "    </tr>\n",
       "    <tr>\n",
       "      <th>27</th>\n",
       "      <td>90100</td>\n",
       "      <td>Collie</td>\n",
       "      <td>2</td>\n",
       "    </tr>\n",
       "    <tr>\n",
       "      <th>28</th>\n",
       "      <td>90100</td>\n",
       "      <td>Dackel</td>\n",
       "      <td>14</td>\n",
       "    </tr>\n",
       "    <tr>\n",
       "      <th>29</th>\n",
       "      <td>90100</td>\n",
       "      <td>Dalmatiner</td>\n",
       "      <td>1</td>\n",
       "    </tr>\n",
       "    <tr>\n",
       "      <th>...</th>\n",
       "      <td>...</td>\n",
       "      <td>...</td>\n",
       "      <td>...</td>\n",
       "    </tr>\n",
       "    <tr>\n",
       "      <th>3433</th>\n",
       "      <td>92300</td>\n",
       "      <td>Sheltie</td>\n",
       "      <td>21</td>\n",
       "    </tr>\n",
       "    <tr>\n",
       "      <th>3434</th>\n",
       "      <td>92300</td>\n",
       "      <td>Shiba Inu</td>\n",
       "      <td>12</td>\n",
       "    </tr>\n",
       "    <tr>\n",
       "      <th>3435</th>\n",
       "      <td>92300</td>\n",
       "      <td>Shih Tzu</td>\n",
       "      <td>33</td>\n",
       "    </tr>\n",
       "    <tr>\n",
       "      <th>3436</th>\n",
       "      <td>92300</td>\n",
       "      <td>Siberian Husky</td>\n",
       "      <td>31</td>\n",
       "    </tr>\n",
       "    <tr>\n",
       "      <th>3437</th>\n",
       "      <td>92300</td>\n",
       "      <td>Soft-Coated Wheaten Terrier</td>\n",
       "      <td>1</td>\n",
       "    </tr>\n",
       "    <tr>\n",
       "      <th>3438</th>\n",
       "      <td>92300</td>\n",
       "      <td>Spanischer Windhund</td>\n",
       "      <td>7</td>\n",
       "    </tr>\n",
       "    <tr>\n",
       "      <th>3439</th>\n",
       "      <td>92300</td>\n",
       "      <td>Spinone</td>\n",
       "      <td>1</td>\n",
       "    </tr>\n",
       "    <tr>\n",
       "      <th>3440</th>\n",
       "      <td>92300</td>\n",
       "      <td>Spitz</td>\n",
       "      <td>21</td>\n",
       "    </tr>\n",
       "    <tr>\n",
       "      <th>3441</th>\n",
       "      <td>92300</td>\n",
       "      <td>Staffordshire-Bullterrier</td>\n",
       "      <td>16</td>\n",
       "    </tr>\n",
       "    <tr>\n",
       "      <th>3442</th>\n",
       "      <td>92300</td>\n",
       "      <td>Steirische Rauhhaarige Hochgebirgsbracke</td>\n",
       "      <td>1</td>\n",
       "    </tr>\n",
       "    <tr>\n",
       "      <th>3443</th>\n",
       "      <td>92300</td>\n",
       "      <td>Tervueren</td>\n",
       "      <td>1</td>\n",
       "    </tr>\n",
       "    <tr>\n",
       "      <th>3444</th>\n",
       "      <td>92300</td>\n",
       "      <td>Thai Ridgeback</td>\n",
       "      <td>1</td>\n",
       "    </tr>\n",
       "    <tr>\n",
       "      <th>3445</th>\n",
       "      <td>92300</td>\n",
       "      <td>Tibet-Spaniel</td>\n",
       "      <td>1</td>\n",
       "    </tr>\n",
       "    <tr>\n",
       "      <th>3446</th>\n",
       "      <td>92300</td>\n",
       "      <td>Tibet-Terrier</td>\n",
       "      <td>9</td>\n",
       "    </tr>\n",
       "    <tr>\n",
       "      <th>3447</th>\n",
       "      <td>92300</td>\n",
       "      <td>Unbekannt</td>\n",
       "      <td>1215</td>\n",
       "    </tr>\n",
       "    <tr>\n",
       "      <th>3448</th>\n",
       "      <td>92300</td>\n",
       "      <td>Weimaraner</td>\n",
       "      <td>2</td>\n",
       "    </tr>\n",
       "    <tr>\n",
       "      <th>3449</th>\n",
       "      <td>92300</td>\n",
       "      <td>WeiÃer Schweizer SchÃ¤ferhund</td>\n",
       "      <td>8</td>\n",
       "    </tr>\n",
       "    <tr>\n",
       "      <th>3450</th>\n",
       "      <td>92300</td>\n",
       "      <td>Welsh Corgi Cardigan</td>\n",
       "      <td>1</td>\n",
       "    </tr>\n",
       "    <tr>\n",
       "      <th>3451</th>\n",
       "      <td>92300</td>\n",
       "      <td>Welsh Terrier</td>\n",
       "      <td>3</td>\n",
       "    </tr>\n",
       "    <tr>\n",
       "      <th>3452</th>\n",
       "      <td>92300</td>\n",
       "      <td>West Highland White Terrier</td>\n",
       "      <td>40</td>\n",
       "    </tr>\n",
       "    <tr>\n",
       "      <th>3453</th>\n",
       "      <td>92300</td>\n",
       "      <td>Whippet</td>\n",
       "      <td>11</td>\n",
       "    </tr>\n",
       "    <tr>\n",
       "      <th>3454</th>\n",
       "      <td>92300</td>\n",
       "      <td>Windhund</td>\n",
       "      <td>1</td>\n",
       "    </tr>\n",
       "    <tr>\n",
       "      <th>3455</th>\n",
       "      <td>92300</td>\n",
       "      <td>Wolfsspitz</td>\n",
       "      <td>4</td>\n",
       "    </tr>\n",
       "    <tr>\n",
       "      <th>3456</th>\n",
       "      <td>92300</td>\n",
       "      <td>Yorkshire Terrier</td>\n",
       "      <td>87</td>\n",
       "    </tr>\n",
       "    <tr>\n",
       "      <th>3457</th>\n",
       "      <td>92300</td>\n",
       "      <td>Zwergpinscher</td>\n",
       "      <td>60</td>\n",
       "    </tr>\n",
       "    <tr>\n",
       "      <th>3458</th>\n",
       "      <td>92300</td>\n",
       "      <td>Zwergpudel</td>\n",
       "      <td>14</td>\n",
       "    </tr>\n",
       "    <tr>\n",
       "      <th>3459</th>\n",
       "      <td>92300</td>\n",
       "      <td>Zwergschnauzer</td>\n",
       "      <td>7</td>\n",
       "    </tr>\n",
       "    <tr>\n",
       "      <th>3460</th>\n",
       "      <td>92300</td>\n",
       "      <td>ZwergschÃ¤ferhund</td>\n",
       "      <td>1</td>\n",
       "    </tr>\n",
       "    <tr>\n",
       "      <th>3461</th>\n",
       "      <td>92300</td>\n",
       "      <td>Zwergspitz</td>\n",
       "      <td>24</td>\n",
       "    </tr>\n",
       "    <tr>\n",
       "      <th>3462</th>\n",
       "      <td>92300</td>\n",
       "      <td>Ãsterreichischer Pinscher</td>\n",
       "      <td>3</td>\n",
       "    </tr>\n",
       "  </tbody>\n",
       "</table>\n",
       "<p>3463 rows × 3 columns</p>\n",
       "</div>"
      ],
      "text/plain": [
       "      DISTRICT_CODE                                   Breed_1  Anzahl\n",
       "0             90100                     Afghanischer Windhund       1\n",
       "1             90100            Amerikanischer Pit-Bullterrier       1\n",
       "2             90100      Amerikanischer Staffordshire-Terrier       5\n",
       "3             90100                   Australian Shepherd Dog       3\n",
       "4             90100                        Australian Terrier       1\n",
       "5             90100                              Basset Hound       1\n",
       "6             90100                                    Beagle       8\n",
       "7             90100                                 Beauceron       1\n",
       "8             90100                    Bergamasker Hirtenhund       1\n",
       "9             90100                         Berner Sennenhund       1\n",
       "10            90100                              Bernhardiner       1\n",
       "11            90100                             Bichon FrisÃ©       1\n",
       "12            90100                            Bolonka Zwetna       3\n",
       "13            90100                             Border-Collie       5\n",
       "14            90100          Bosnischer Rauhhaariger Laufhund       1\n",
       "15            90100                            Boston Terrier       2\n",
       "16            90100                                     Boxer       5\n",
       "17            90100                                    Bracke       2\n",
       "18            90100                                   Bulldog       1\n",
       "19            90100                               Bullterrier       2\n",
       "20            90100                             Cairn-Terrier       1\n",
       "21            90100                     Cao de Agua Portugues       2\n",
       "22            90100             Cavalier King Charles Spaniel       3\n",
       "23            90100             Chihuahua kurzhaariger Schlag      12\n",
       "24            90100             Chihuahua langhaariger Schlag       1\n",
       "25            90100                                 Chow-Chow       2\n",
       "26            90100                                 Cockerpoo       2\n",
       "27            90100                                    Collie       2\n",
       "28            90100                                    Dackel      14\n",
       "29            90100                                Dalmatiner       1\n",
       "...             ...                                       ...     ...\n",
       "3433          92300                                   Sheltie      21\n",
       "3434          92300                                 Shiba Inu      12\n",
       "3435          92300                                  Shih Tzu      33\n",
       "3436          92300                            Siberian Husky      31\n",
       "3437          92300               Soft-Coated Wheaten Terrier       1\n",
       "3438          92300                       Spanischer Windhund       7\n",
       "3439          92300                                   Spinone       1\n",
       "3440          92300                                     Spitz      21\n",
       "3441          92300                 Staffordshire-Bullterrier      16\n",
       "3442          92300  Steirische Rauhhaarige Hochgebirgsbracke       1\n",
       "3443          92300                                 Tervueren       1\n",
       "3444          92300                            Thai Ridgeback       1\n",
       "3445          92300                             Tibet-Spaniel       1\n",
       "3446          92300                             Tibet-Terrier       9\n",
       "3447          92300                                 Unbekannt    1215\n",
       "3448          92300                                Weimaraner       2\n",
       "3449          92300            WeiÃer Schweizer SchÃ¤ferhund       8\n",
       "3450          92300                      Welsh Corgi Cardigan       1\n",
       "3451          92300                             Welsh Terrier       3\n",
       "3452          92300               West Highland White Terrier      40\n",
       "3453          92300                                   Whippet      11\n",
       "3454          92300                                  Windhund       1\n",
       "3455          92300                                Wolfsspitz       4\n",
       "3456          92300                         Yorkshire Terrier      87\n",
       "3457          92300                             Zwergpinscher      60\n",
       "3458          92300                                Zwergpudel      14\n",
       "3459          92300                            Zwergschnauzer       7\n",
       "3460          92300                         ZwergschÃ¤ferhund       1\n",
       "3461          92300                                Zwergspitz      24\n",
       "3462          92300                Ãsterreichischer Pinscher       3\n",
       "\n",
       "[3463 rows x 3 columns]"
      ]
     },
     "execution_count": 364,
     "metadata": {},
     "output_type": "execute_result"
    }
   ],
   "source": [
    "data_breed_1 = data_breeds.groupby(['DISTRICT_CODE', 'Breed_1'])['Anzahl'].aggregate(np.sum).reset_index()\n",
    "data_breed_1"
   ]
  },
  {
   "cell_type": "markdown",
   "metadata": {},
   "source": [
    "Now the data is ready to be analysed."
   ]
  },
  {
   "cell_type": "markdown",
   "metadata": {},
   "source": [
    "### Analyse the Data\n",
    "#### 1. How many dogs live in Vienna?\n",
    "\n",
    "This question is simple to answer using simple column statistics."
   ]
  },
  {
   "cell_type": "code",
   "execution_count": 365,
   "metadata": {
    "collapsed": false
   },
   "outputs": [
    {
     "data": {
      "text/plain": [
       "55929"
      ]
     },
     "execution_count": 365,
     "metadata": {},
     "output_type": "execute_result"
    }
   ],
   "source": [
    "sum(data_breed_1['Anzahl'])"
   ]
  },
  {
   "cell_type": "markdown",
   "metadata": {},
   "source": [
    "Almost 56 thousand dogs are registered in Vienna."
   ]
  },
  {
   "cell_type": "markdown",
   "metadata": {},
   "source": [
    "#### 2. Which dog breeds are the most popular in Vienna?\n",
    "\n",
    "Lets have a look at our dataset closer."
   ]
  },
  {
   "cell_type": "code",
   "execution_count": 366,
   "metadata": {
    "collapsed": false
   },
   "outputs": [
    {
     "data": {
      "text/html": [
       "<div>\n",
       "<table border=\"1\" class=\"dataframe\">\n",
       "  <thead>\n",
       "    <tr style=\"text-align: right;\">\n",
       "      <th></th>\n",
       "      <th>DISTRICT_CODE</th>\n",
       "      <th>Breed_1</th>\n",
       "      <th>Anzahl</th>\n",
       "    </tr>\n",
       "  </thead>\n",
       "  <tbody>\n",
       "    <tr>\n",
       "      <th>3251</th>\n",
       "      <td>92200</td>\n",
       "      <td>Unbekannt</td>\n",
       "      <td>2460</td>\n",
       "    </tr>\n",
       "    <tr>\n",
       "      <th>3025</th>\n",
       "      <td>92100</td>\n",
       "      <td>Unbekannt</td>\n",
       "      <td>2066</td>\n",
       "    </tr>\n",
       "    <tr>\n",
       "      <th>1244</th>\n",
       "      <td>91000</td>\n",
       "      <td>Unbekannt</td>\n",
       "      <td>1510</td>\n",
       "    </tr>\n",
       "    <tr>\n",
       "      <th>3447</th>\n",
       "      <td>92300</td>\n",
       "      <td>Unbekannt</td>\n",
       "      <td>1215</td>\n",
       "    </tr>\n",
       "    <tr>\n",
       "      <th>1412</th>\n",
       "      <td>91100</td>\n",
       "      <td>Unbekannt</td>\n",
       "      <td>1029</td>\n",
       "    </tr>\n",
       "  </tbody>\n",
       "</table>\n",
       "</div>"
      ],
      "text/plain": [
       "      DISTRICT_CODE    Breed_1  Anzahl\n",
       "3251          92200  Unbekannt    2460\n",
       "3025          92100  Unbekannt    2066\n",
       "1244          91000  Unbekannt    1510\n",
       "3447          92300  Unbekannt    1215\n",
       "1412          91100  Unbekannt    1029"
      ]
     },
     "execution_count": 366,
     "metadata": {},
     "output_type": "execute_result"
    }
   ],
   "source": [
    "# Check the top counts\n",
    "sorted_count = data_breed_1.sort_values(['Anzahl'], ascending=False)\n",
    "sorted_count.head()"
   ]
  },
  {
   "cell_type": "markdown",
   "metadata": {},
   "source": [
    "Most of the dog breeds is unfortunately unknown (Unbekannt). It is not clear though, whether we do not know the breed of a dog or they do not know their breed themselves.\n",
    "\n",
    "Let's exclude the unknown and check how many different breeds we have in total"
   ]
  },
  {
   "cell_type": "code",
   "execution_count": 371,
   "metadata": {
    "collapsed": false
   },
   "outputs": [
    {
     "name": "stderr",
     "output_type": "stream",
     "text": [
      "/anaconda/lib/python2.7/site-packages/ipykernel/__main__.py:2: UserWarning: Boolean Series key will be reindexed to match DataFrame index.\n",
      "  from ipykernel import kernelapp as app\n"
     ]
    },
    {
     "data": {
      "text/plain": [
       "320"
      ]
     },
     "execution_count": 371,
     "metadata": {},
     "output_type": "execute_result"
    }
   ],
   "source": [
    "# Filter out specific rows\n",
    "filtered_dogs = sorted_count[(data_breed_1['Breed_1']!='Unbekannt')]\n",
    "# Check unique values in one of the columns\n",
    "unique_breeds = filtered_dogs['Breed_1'].unique()\n",
    "len(unique_breeds)"
   ]
  },
  {
   "cell_type": "markdown",
   "metadata": {},
   "source": [
    "We have dogs of 320 different breeds living in Vienna. How cool is that!"
   ]
  },
  {
   "cell_type": "code",
   "execution_count": 373,
   "metadata": {
    "collapsed": false
   },
   "outputs": [
    {
     "data": {
      "text/html": [
       "<div>\n",
       "<table border=\"1\" class=\"dataframe\">\n",
       "  <thead>\n",
       "    <tr style=\"text-align: right;\">\n",
       "      <th></th>\n",
       "      <th>DISTRICT_CODE</th>\n",
       "      <th>Breed_1</th>\n",
       "      <th>Anzahl</th>\n",
       "    </tr>\n",
       "  </thead>\n",
       "  <tbody>\n",
       "    <tr>\n",
       "      <th>3179</th>\n",
       "      <td>92200</td>\n",
       "      <td>Labrador Retriever</td>\n",
       "      <td>481</td>\n",
       "    </tr>\n",
       "    <tr>\n",
       "      <th>3105</th>\n",
       "      <td>92200</td>\n",
       "      <td>Chihuahua kurzhaariger Schlag</td>\n",
       "      <td>473</td>\n",
       "    </tr>\n",
       "    <tr>\n",
       "      <th>2897</th>\n",
       "      <td>92100</td>\n",
       "      <td>Chihuahua kurzhaariger Schlag</td>\n",
       "      <td>450</td>\n",
       "    </tr>\n",
       "    <tr>\n",
       "      <th>2964</th>\n",
       "      <td>92100</td>\n",
       "      <td>Labrador Retriever</td>\n",
       "      <td>363</td>\n",
       "    </tr>\n",
       "    <tr>\n",
       "      <th>1111</th>\n",
       "      <td>91000</td>\n",
       "      <td>Chihuahua kurzhaariger Schlag</td>\n",
       "      <td>344</td>\n",
       "    </tr>\n",
       "  </tbody>\n",
       "</table>\n",
       "</div>"
      ],
      "text/plain": [
       "      DISTRICT_CODE                        Breed_1  Anzahl\n",
       "3179          92200             Labrador Retriever     481\n",
       "3105          92200  Chihuahua kurzhaariger Schlag     473\n",
       "2897          92100  Chihuahua kurzhaariger Schlag     450\n",
       "2964          92100             Labrador Retriever     363\n",
       "1111          91000  Chihuahua kurzhaariger Schlag     344"
      ]
     },
     "execution_count": 373,
     "metadata": {},
     "output_type": "execute_result"
    }
   ],
   "source": [
    "filtered_dogs.head()"
   ]
  },
  {
   "cell_type": "markdown",
   "metadata": {},
   "source": [
    "\"Chihuahua here. Chihuahua there. Everybody wants it everywhere.\"\n",
    "\n",
    "Indeed, especially in the 10th, 21st and 22nd districts of Vienna. And most of the Labradors live in 21st and 22nd districts.\n",
    "\n",
    "Now you know where to go if you enjoy dog-watching!"
   ]
  },
  {
   "cell_type": "code",
   "execution_count": 481,
   "metadata": {
    "collapsed": false
   },
   "outputs": [
    {
     "data": {
      "text/plain": [
       "[<matplotlib.text.Text at 0x12ee16750>, <matplotlib.text.Text at 0x12eeb4f50>]"
      ]
     },
     "execution_count": 481,
     "metadata": {},
     "output_type": "execute_result"
    },
    {
     "data": {
      "image/png": "[encoded data removed]",
      "text/plain": [
       "<matplotlib.figure.Figure at 0x12eee7450>"
      ]
     },
     "metadata": {},
     "output_type": "display_data"
    }
   ],
   "source": [
    "# Filter\n",
    "dackel = filtered_dogs[(filtered_dogs['Breed_1']=='Dackel')]\n",
    "# Sort\n",
    "dackel = dackel.sort_values(ascending=False, by='Anzahl')\n",
    "# Plot\n",
    "ax = sns.barplot(palette='colorblind', data=dackel, y=dackel.DISTRICT_CODE, x=dackel.Anzahl, orient='h')\n",
    "ax.set(ylabel='District', xlabel='Number of Wiener Dog')\n",
    "# TODO discount by number of all dogs, and number of people"
   ]
  },
  {
   "cell_type": "markdown",
   "metadata": {},
   "source": [
    "By aggregating over districts we obtain a rating for the most popular dog breeds in whole Vienna:"
   ]
  },
  {
   "cell_type": "code",
   "execution_count": 375,
   "metadata": {
    "collapsed": false
   },
   "outputs": [
    {
     "data": {
      "text/plain": [
       "Breed_1\n",
       "Labrador Retriever               3110\n",
       "Chihuahua kurzhaariger Schlag    2925\n",
       "Golden Retriever                 1798\n",
       "Malteser                         1745\n",
       "Deutscher SchÃ¤ferhund           1698\n",
       "Name: Anzahl, dtype: int64"
      ]
     },
     "execution_count": 375,
     "metadata": {},
     "output_type": "execute_result"
    }
   ],
   "source": [
    "breeds = filtered_dogs.groupby('Breed_1')['Anzahl'].aggregate(np.sum)\n",
    "breeds.sort_values(ascending=False).head()"
   ]
  },
  {
   "cell_type": "code",
   "execution_count": 376,
   "metadata": {
    "collapsed": false
   },
   "outputs": [
    {
     "data": {
      "text/plain": [
       "[<matplotlib.text.Text at 0x124768350>, <matplotlib.text.Text at 0x12475ae10>]"
      ]
     },
     "execution_count": 376,
     "metadata": {},
     "output_type": "execute_result"
    },
    {
     "data": {
      "image/png": "[encoded data removed]",
      "text/plain": [
       "<matplotlib.figure.Figure at 0x11c023850>"
      ]
     },
     "metadata": {},
     "output_type": "display_data"
    }
   ],
   "source": [
    "# Filter, sort and trim pandas Series\n",
    "top_dogs = breeds.sort_values(ascending=False)[:10]\n",
    "# Plot pandas Series\n",
    "ax = sns.barplot(palette='colorblind', x=top_dogs.values, y=list(top_dogs.index))\n",
    "ax.set(ylabel='Breed', xlabel='Number of dogs')"
   ]
  },
  {
   "cell_type": "markdown",
   "metadata": {},
   "source": [
    "Labradors and Chihuahuas are the top dog-pets among Viennese people. \n",
    "\n",
    "Wiener dog (Dackel) landed at position #8 in our Viennese dogs ranking. Sad... :("
   ]
  },
  {
   "cell_type": "markdown",
   "metadata": {},
   "source": [
    "##### Where should I take my dog to find a couple?\n",
    "What if you are a proud owner of a dog of a very rare breed? \n",
    "\n",
    "Well ... you may have serious troubles finding a good match if you ever decide to have puppies!\n",
    "\n",
    "Good news: open data can help you with this!"
   ]
  },
  {
   "cell_type": "code",
   "execution_count": 378,
   "metadata": {
    "collapsed": false
   },
   "outputs": [
    {
     "data": {
      "text/plain": [
       "Breed_1\n",
       "Ainu-Hund                    2\n",
       "AlpinschÃ¤fer                2\n",
       "AltdÃ¤nischer Vorstehhund    2\n",
       "American Foxhound            2\n",
       "American Water Spaniel       2\n",
       "Name: Anzahl, dtype: int64"
      ]
     },
     "execution_count": 378,
     "metadata": {},
     "output_type": "execute_result"
    }
   ],
   "source": [
    "# Check the outliers in the tail of the distribution\n",
    "rare_dogs = breeds[breeds == 2]\n",
    "rare_dogs.head()"
   ]
  },
  {
   "cell_type": "code",
   "execution_count": 379,
   "metadata": {
    "collapsed": false
   },
   "outputs": [
    {
     "data": {
      "text/plain": [
       "3959    91900\n",
       "4930    92200\n",
       "Name: DISTRICT_CODE, dtype: int64"
      ]
     },
     "execution_count": 379,
     "metadata": {},
     "output_type": "execute_result"
    }
   ],
   "source": [
    "data_breeds[(data_breeds['Breed_1']=='American Water Spaniel')]['DISTRICT_CODE']"
   ]
  },
  {
   "cell_type": "markdown",
   "metadata": {},
   "source": [
    "For the two beautiful American Water Spaniels to meet they need to cross the Danube comming from the 22nd to 19th district. \n",
    "\n",
    "Alas! There is no information on the dog gender in our dataset unfortunatelly so this huge effort might not pay off."
   ]
  },
  {
   "cell_type": "markdown",
   "metadata": {},
   "source": [
    "##### Where should I live if I do not like dogs?\n",
    "Now let's do the same trick but on the level of districts instead of breeds. Instead we want to aggregate dogs of all breeds for each of the districts of Vienna separately to obtain dogs per district counts."
   ]
  },
  {
   "cell_type": "code",
   "execution_count": 380,
   "metadata": {
    "collapsed": false
   },
   "outputs": [
    {
     "data": {
      "text/plain": [
       "[<matplotlib.text.Text at 0x122dbbdd0>, <matplotlib.text.Text at 0x122e2e790>]"
      ]
     },
     "execution_count": 380,
     "metadata": {},
     "output_type": "execute_result"
    },
    {
     "data": {
      "image/png": "[encoded data removed]",
      "text/plain": [
       "<matplotlib.figure.Figure at 0x126a5e890>"
      ]
     },
     "metadata": {},
     "output_type": "display_data"
    }
   ],
   "source": [
    "district_dogs = data_breeds.groupby('DISTRICT_CODE')['Anzahl'].aggregate(np.sum)\n",
    "# Filter, sort and trim pandas Series\n",
    "top_dogs = district_dogs.sort_values(ascending=False)\n",
    "# Plot pandas Series\n",
    "ax = sns.barplot(palette='colorblind', y=list(top_dogs.index), x=top_dogs.values, orient='h', order=list(top_dogs.index))\n",
    "ax.set(ylabel='District', xlabel='Number of  dogs')"
   ]
  },
  {
   "cell_type": "markdown",
   "metadata": {},
   "source": [
    "OK. 22nd and 21st district of Vienna are the most rich in dogs (8,5 and 7 thousands respectively). 10th, 23rd and 11th districts follow in the dog ranking. \n",
    "\n",
    "You are the least likely to see a dog, when visiting 1st and 8th districts of Vienna (also, 4th, 6th and 7th).\n",
    "\n",
    "What could be the possible reasons for such variation in the number of dogs in different districts of Vienna (500-8,500 dogs per district)? We shall need more data to analyse these trends..."
   ]
  },
  {
   "cell_type": "markdown",
   "metadata": {},
   "source": [
    "### Get More Data\n",
    "Districts of any city (town) are not homogeneous in terms of area and population. Also in Vienna some districts are bigger in terms of territory, more densely populated or wealthier than other district. These factors shall also have an effect on the dog population within the specified regions. \n",
    "\n",
    "Now we need to fetch this kind of data (population, area and average income per district in Vienna) in order to check its correlation with our dog stats data. https://www.data.gv.at is the biggest Austrian open data portal. Let's have a look there! "
   ]
  },
  {
   "cell_type": "markdown",
   "metadata": {},
   "source": [
    "#### Population Statistics per District\n",
    "Population (Bevölkerung) seems just right for the general category, filtering on Vienna, CSV data format and community districts (Gemeindebezirke) boils down the search results to a single dataset!\n",
    "\n",
    "Next, we just repeat the same steps we used previously to obtain the dog data:"
   ]
  },
  {
   "cell_type": "code",
   "execution_count": 327,
   "metadata": {
    "collapsed": false
   },
   "outputs": [
    {
     "data": {
      "text/html": [
       "<div>\n",
       "<table border=\"1\" class=\"dataframe\">\n",
       "  <thead>\n",
       "    <tr style=\"text-align: right;\">\n",
       "      <th></th>\n",
       "      <th>NUTS1</th>\n",
       "      <th>NUTS2</th>\n",
       "      <th>NUTS3</th>\n",
       "      <th>DISTRICT_CODE</th>\n",
       "      <th>SUB_DISTRICT_CODE</th>\n",
       "      <th>POP_TOTAL</th>\n",
       "      <th>POP_MEN</th>\n",
       "      <th>POP_WOMEN</th>\n",
       "      <th>REF_DATE</th>\n",
       "    </tr>\n",
       "  </thead>\n",
       "  <tbody>\n",
       "    <tr>\n",
       "      <th>0</th>\n",
       "      <td>AT1</td>\n",
       "      <td>AT13</td>\n",
       "      <td>AT130</td>\n",
       "      <td>90100</td>\n",
       "      <td>.</td>\n",
       "      <td>68079</td>\n",
       "      <td>.</td>\n",
       "      <td>.</td>\n",
       "      <td>18691231</td>\n",
       "    </tr>\n",
       "    <tr>\n",
       "      <th>1</th>\n",
       "      <td>AT1</td>\n",
       "      <td>AT13</td>\n",
       "      <td>AT130</td>\n",
       "      <td>90200</td>\n",
       "      <td>.</td>\n",
       "      <td>68442</td>\n",
       "      <td>.</td>\n",
       "      <td>.</td>\n",
       "      <td>18691231</td>\n",
       "    </tr>\n",
       "    <tr>\n",
       "      <th>2</th>\n",
       "      <td>AT1</td>\n",
       "      <td>AT13</td>\n",
       "      <td>AT130</td>\n",
       "      <td>90300</td>\n",
       "      <td>.</td>\n",
       "      <td>88678</td>\n",
       "      <td>.</td>\n",
       "      <td>.</td>\n",
       "      <td>18691231</td>\n",
       "    </tr>\n",
       "    <tr>\n",
       "      <th>3</th>\n",
       "      <td>AT1</td>\n",
       "      <td>AT13</td>\n",
       "      <td>AT130</td>\n",
       "      <td>90400</td>\n",
       "      <td>.</td>\n",
       "      <td>55682</td>\n",
       "      <td>.</td>\n",
       "      <td>.</td>\n",
       "      <td>18691231</td>\n",
       "    </tr>\n",
       "    <tr>\n",
       "      <th>4</th>\n",
       "      <td>AT1</td>\n",
       "      <td>AT13</td>\n",
       "      <td>AT130</td>\n",
       "      <td>90500</td>\n",
       "      <td>.</td>\n",
       "      <td>54010</td>\n",
       "      <td>.</td>\n",
       "      <td>.</td>\n",
       "      <td>18691231</td>\n",
       "    </tr>\n",
       "  </tbody>\n",
       "</table>\n",
       "</div>"
      ],
      "text/plain": [
       "  NUTS1 NUTS2  NUTS3  DISTRICT_CODE SUB_DISTRICT_CODE  POP_TOTAL POP_MEN  \\\n",
       "0   AT1  AT13  AT130          90100                 .      68079       .   \n",
       "1   AT1  AT13  AT130          90200                 .      68442       .   \n",
       "2   AT1  AT13  AT130          90300                 .      88678       .   \n",
       "3   AT1  AT13  AT130          90400                 .      55682       .   \n",
       "4   AT1  AT13  AT130          90500                 .      54010       .   \n",
       "\n",
       "  POP_WOMEN  REF_DATE  \n",
       "0         .  18691231  \n",
       "1         .  18691231  \n",
       "2         .  18691231  \n",
       "3         .  18691231  \n",
       "4         .  18691231  "
      ]
     },
     "execution_count": 327,
     "metadata": {},
     "output_type": "execute_result"
    }
   ],
   "source": [
    "# Load the csv file from the open data portal\n",
    "# Dataset description: https://www.data.gv.at/katalog/dataset/stadt-wien_viebevlkerungseit1869wien/resource/c9e9d0cc-8f71-4521-b598-17d71fab2f59\n",
    "data_path = 'https://www.wien.gv.at/statistik/ogd/vie_101.csv'\n",
    "# Look up the row file and specify the dataset format, e.g. delimiters\n",
    "data_population = pd.read_csv(data_path, delimiter=';', skiprows=1)\n",
    "# Check the top of the table to make sure the dataset is loaded correctly \n",
    "data_population.head()"
   ]
  },
  {
   "cell_type": "markdown",
   "metadata": {},
   "source": [
    "We would prefer the most recent population data to be able to compare with the dog stats from 2016 12 01. \n",
    "\n",
    "It is not clear from the description of the dataset which time periods are covered either:\n",
    "\"VIE-Bevölkerung in den 23 Wiener Gemeindebezirken nach Geschlecht seit 1869\n",
    "    Zuletzt aktualisiert\t31. März 2016\n",
    "    Erstellt\t31. März 2016\""
   ]
  },
  {
   "cell_type": "code",
   "execution_count": 328,
   "metadata": {
    "collapsed": false
   },
   "outputs": [
    {
     "data": {
      "text/plain": [
       "array([18691231, 18801231, 19001231, 19101231, 19230307, 19340322,\n",
       "       19390517, 19510601, 19610321, 19710512, 19810512, 19910515,\n",
       "       20010515, 20020101, 20030101, 20040101, 20050101, 20060101,\n",
       "       20070101, 20080101, 20090101, 20100101, 20110101, 20120101,\n",
       "       20130101, 20140101, 20150101])"
      ]
     },
     "execution_count": 328,
     "metadata": {},
     "output_type": "execute_result"
    }
   ],
   "source": [
    "# Check unique column values\n",
    "data_population['REF_DATE'].unique()"
   ]
  },
  {
   "cell_type": "markdown",
   "metadata": {},
   "source": [
    "The last measurement is from 2015 (same as on Wikipedia: https://de.wikipedia.org/wiki/Wiener_Gemeindebezirke#cite_note-11). Let's take it."
   ]
  },
  {
   "cell_type": "code",
   "execution_count": 329,
   "metadata": {
    "collapsed": false
   },
   "outputs": [
    {
     "data": {
      "text/html": [
       "<div>\n",
       "<table border=\"1\" class=\"dataframe\">\n",
       "  <thead>\n",
       "    <tr style=\"text-align: right;\">\n",
       "      <th></th>\n",
       "      <th>DISTRICT_CODE</th>\n",
       "      <th>POP_TOTAL</th>\n",
       "    </tr>\n",
       "  </thead>\n",
       "  <tbody>\n",
       "    <tr>\n",
       "      <th>630</th>\n",
       "      <td>91000</td>\n",
       "      <td>189713</td>\n",
       "    </tr>\n",
       "    <tr>\n",
       "      <th>642</th>\n",
       "      <td>92200</td>\n",
       "      <td>172978</td>\n",
       "    </tr>\n",
       "    <tr>\n",
       "      <th>641</th>\n",
       "      <td>92100</td>\n",
       "      <td>151844</td>\n",
       "    </tr>\n",
       "    <tr>\n",
       "      <th>622</th>\n",
       "      <td>90200</td>\n",
       "      <td>101702</td>\n",
       "    </tr>\n",
       "    <tr>\n",
       "      <th>636</th>\n",
       "      <td>91600</td>\n",
       "      <td>100738</td>\n",
       "    </tr>\n",
       "  </tbody>\n",
       "</table>\n",
       "</div>"
      ],
      "text/plain": [
       "     DISTRICT_CODE  POP_TOTAL\n",
       "630          91000     189713\n",
       "642          92200     172978\n",
       "641          92100     151844\n",
       "622          90200     101702\n",
       "636          91600     100738"
      ]
     },
     "execution_count": 329,
     "metadata": {},
     "output_type": "execute_result"
    }
   ],
   "source": [
    "# Slice dataset: filter specific rows and columns\n",
    "population_2015 = data_population[(data_population['REF_DATE'] == 20150101)][['DISTRICT_CODE', 'POP_TOTAL']]\n",
    "# Sort column\n",
    "population_2015.sort_values(ascending=False, by='POP_TOTAL').head()"
   ]
  },
  {
   "cell_type": "markdown",
   "metadata": {
    "collapsed": true
   },
   "source": [
    "Very good we have the population count per district. Let's compare it with the dog counts. For this we need to join the datasets on the common column, which is the DISTRICT_CODE."
   ]
  },
  {
   "cell_type": "code",
   "execution_count": 330,
   "metadata": {
    "collapsed": false
   },
   "outputs": [
    {
     "data": {
      "text/html": [
       "<div>\n",
       "<table border=\"1\" class=\"dataframe\">\n",
       "  <thead>\n",
       "    <tr style=\"text-align: right;\">\n",
       "      <th></th>\n",
       "      <th>DISTRICT_CODE</th>\n",
       "      <th>POP_TOTAL</th>\n",
       "      <th>Anzahl</th>\n",
       "    </tr>\n",
       "  </thead>\n",
       "  <tbody>\n",
       "    <tr>\n",
       "      <th>630</th>\n",
       "      <td>91000</td>\n",
       "      <td>189713</td>\n",
       "      <td>5333</td>\n",
       "    </tr>\n",
       "    <tr>\n",
       "      <th>642</th>\n",
       "      <td>92200</td>\n",
       "      <td>172978</td>\n",
       "      <td>8504</td>\n",
       "    </tr>\n",
       "    <tr>\n",
       "      <th>641</th>\n",
       "      <td>92100</td>\n",
       "      <td>151844</td>\n",
       "      <td>7143</td>\n",
       "    </tr>\n",
       "    <tr>\n",
       "      <th>622</th>\n",
       "      <td>90200</td>\n",
       "      <td>101702</td>\n",
       "      <td>2545</td>\n",
       "    </tr>\n",
       "    <tr>\n",
       "      <th>636</th>\n",
       "      <td>91600</td>\n",
       "      <td>100738</td>\n",
       "      <td>2077</td>\n",
       "    </tr>\n",
       "  </tbody>\n",
       "</table>\n",
       "</div>"
      ],
      "text/plain": [
       "     DISTRICT_CODE  POP_TOTAL  Anzahl\n",
       "630          91000     189713    5333\n",
       "642          92200     172978    8504\n",
       "641          92100     151844    7143\n",
       "622          90200     101702    2545\n",
       "636          91600     100738    2077"
      ]
     },
     "execution_count": 330,
     "metadata": {},
     "output_type": "execute_result"
    }
   ],
   "source": [
    "# Join Data Frame and Series objects on the key column\n",
    "dog_vs_people = population_2015.join(district_dogs, on='DISTRICT_CODE')\n",
    "dog_vs_people.sort_values(ascending=False, by='POP_TOTAL').head()"
   ]
  },
  {
   "cell_type": "code",
   "execution_count": 331,
   "metadata": {
    "collapsed": false
   },
   "outputs": [
    {
     "data": {
      "text/html": [
       "<div>\n",
       "<table border=\"1\" class=\"dataframe\">\n",
       "  <thead>\n",
       "    <tr style=\"text-align: right;\">\n",
       "      <th></th>\n",
       "      <th>POP_TOTAL</th>\n",
       "      <th>Anzahl</th>\n",
       "    </tr>\n",
       "  </thead>\n",
       "  <tbody>\n",
       "    <tr>\n",
       "      <th>POP_TOTAL</th>\n",
       "      <td>1.000000</td>\n",
       "      <td>0.903501</td>\n",
       "    </tr>\n",
       "    <tr>\n",
       "      <th>Anzahl</th>\n",
       "      <td>0.903501</td>\n",
       "      <td>1.000000</td>\n",
       "    </tr>\n",
       "  </tbody>\n",
       "</table>\n",
       "</div>"
      ],
      "text/plain": [
       "           POP_TOTAL    Anzahl\n",
       "POP_TOTAL   1.000000  0.903501\n",
       "Anzahl      0.903501  1.000000"
      ]
     },
     "execution_count": 331,
     "metadata": {},
     "output_type": "execute_result"
    }
   ],
   "source": [
    "dog_vs_people[['POP_TOTAL', 'Anzahl']].corr()"
   ]
  },
  {
   "cell_type": "markdown",
   "metadata": {},
   "source": [
    "As expected, dog population is positively correlated with human population (we usually live together).\n",
    "\n",
    "Therefore, estimating proportion of dogs to people is a reasonable way to compare between different districts."
   ]
  },
  {
   "cell_type": "code",
   "execution_count": 332,
   "metadata": {
    "collapsed": false
   },
   "outputs": [
    {
     "data": {
      "text/html": [
       "<div>\n",
       "<table border=\"1\" class=\"dataframe\">\n",
       "  <thead>\n",
       "    <tr style=\"text-align: right;\">\n",
       "      <th></th>\n",
       "      <th>DISTRICT_CODE</th>\n",
       "      <th>POP_TOTAL</th>\n",
       "      <th>Anzahl</th>\n",
       "      <th>Dogs_per_person</th>\n",
       "    </tr>\n",
       "  </thead>\n",
       "  <tbody>\n",
       "    <tr>\n",
       "      <th>635</th>\n",
       "      <td>91500</td>\n",
       "      <td>76320</td>\n",
       "      <td>1352</td>\n",
       "      <td>0.018</td>\n",
       "    </tr>\n",
       "    <tr>\n",
       "      <th>625</th>\n",
       "      <td>90500</td>\n",
       "      <td>54246</td>\n",
       "      <td>982</td>\n",
       "      <td>0.018</td>\n",
       "    </tr>\n",
       "    <tr>\n",
       "      <th>628</th>\n",
       "      <td>90800</td>\n",
       "      <td>24518</td>\n",
       "      <td>459</td>\n",
       "      <td>0.019</td>\n",
       "    </tr>\n",
       "    <tr>\n",
       "      <th>627</th>\n",
       "      <td>90700</td>\n",
       "      <td>31291</td>\n",
       "      <td>619</td>\n",
       "      <td>0.020</td>\n",
       "    </tr>\n",
       "    <tr>\n",
       "      <th>624</th>\n",
       "      <td>90400</td>\n",
       "      <td>31691</td>\n",
       "      <td>632</td>\n",
       "      <td>0.020</td>\n",
       "    </tr>\n",
       "  </tbody>\n",
       "</table>\n",
       "</div>"
      ],
      "text/plain": [
       "     DISTRICT_CODE  POP_TOTAL  Anzahl  Dogs_per_person\n",
       "635          91500      76320    1352            0.018\n",
       "625          90500      54246     982            0.018\n",
       "628          90800      24518     459            0.019\n",
       "627          90700      31291     619            0.020\n",
       "624          90400      31691     632            0.020"
      ]
     },
     "execution_count": 332,
     "metadata": {},
     "output_type": "execute_result"
    }
   ],
   "source": [
    "dog_vs_people['Dogs_per_person'] = dog_vs_people.Anzahl / dog_vs_people.POP_TOTAL\n",
    "# Sort by column\n",
    "dog_vs_people.sort_values(ascending=True, by='Dogs_per_person').round(3).head()"
   ]
  },
  {
   "cell_type": "markdown",
   "metadata": {},
   "source": [
    "If you prefer people to dogs you would feel better in 5th and 15th districts."
   ]
  },
  {
   "cell_type": "code",
   "execution_count": 333,
   "metadata": {
    "collapsed": false
   },
   "outputs": [
    {
     "data": {
      "text/html": [
       "<div>\n",
       "<table border=\"1\" class=\"dataframe\">\n",
       "  <thead>\n",
       "    <tr style=\"text-align: right;\">\n",
       "      <th></th>\n",
       "      <th>DISTRICT_CODE</th>\n",
       "      <th>POP_TOTAL</th>\n",
       "      <th>Anzahl</th>\n",
       "      <th>Dogs_per_person</th>\n",
       "    </tr>\n",
       "  </thead>\n",
       "  <tbody>\n",
       "    <tr>\n",
       "      <th>642</th>\n",
       "      <td>92200</td>\n",
       "      <td>172978</td>\n",
       "      <td>8504</td>\n",
       "      <td>0.049</td>\n",
       "    </tr>\n",
       "    <tr>\n",
       "      <th>641</th>\n",
       "      <td>92100</td>\n",
       "      <td>151844</td>\n",
       "      <td>7143</td>\n",
       "      <td>0.047</td>\n",
       "    </tr>\n",
       "    <tr>\n",
       "      <th>643</th>\n",
       "      <td>92300</td>\n",
       "      <td>96775</td>\n",
       "      <td>4136</td>\n",
       "      <td>0.043</td>\n",
       "    </tr>\n",
       "    <tr>\n",
       "      <th>639</th>\n",
       "      <td>91900</td>\n",
       "      <td>69999</td>\n",
       "      <td>2745</td>\n",
       "      <td>0.039</td>\n",
       "    </tr>\n",
       "    <tr>\n",
       "      <th>633</th>\n",
       "      <td>91300</td>\n",
       "      <td>52115</td>\n",
       "      <td>1990</td>\n",
       "      <td>0.038</td>\n",
       "    </tr>\n",
       "  </tbody>\n",
       "</table>\n",
       "</div>"
      ],
      "text/plain": [
       "     DISTRICT_CODE  POP_TOTAL  Anzahl  Dogs_per_person\n",
       "642          92200     172978    8504            0.049\n",
       "641          92100     151844    7143            0.047\n",
       "643          92300      96775    4136            0.043\n",
       "639          91900      69999    2745            0.039\n",
       "633          91300      52115    1990            0.038"
      ]
     },
     "execution_count": 333,
     "metadata": {},
     "output_type": "execute_result"
    }
   ],
   "source": [
    "# Sort by column\n",
    "dog_vs_people.sort_values(ascending=False, by='Dogs_per_person').round(3).head()"
   ]
  },
  {
   "cell_type": "markdown",
   "metadata": {},
   "source": [
    "22nd and 21st districts have the biggest dog populations relative to the number of inhabitants in the district: 49 and 47 dogs per 1000 people respectively.\n",
    "\n",
    "These districts are also the largest in terms of territory. Let's get this data into play as well!"
   ]
  },
  {
   "cell_type": "markdown",
   "metadata": {},
   "source": [
    "#### Area Statistics per District\n",
    "Getting back to https://www.data.gv.at. Ok this one was not easy to find!\n",
    "TODO\n",
    "and\n",
    "#### Hundezonen in Wien\n",
    "TODO\n",
    "https://www.wien.gv.at/umwelt/parks/hundezonen.html\n",
    "https://www.wien.gv.at/statistik/lebensraum/tabellen/hundezonen-bez.html"
   ]
  },
  {
   "cell_type": "markdown",
   "metadata": {},
   "source": [
    "#### Income Statistics per District\n",
    "This dataset was relatively easy to find when searching with the keyword 'income' (einkommen) on https://www.data.gv.at portal."
   ]
  },
  {
   "cell_type": "code",
   "execution_count": 334,
   "metadata": {
    "collapsed": false
   },
   "outputs": [
    {
     "data": {
      "text/html": [
       "<div>\n",
       "<table border=\"1\" class=\"dataframe\">\n",
       "  <thead>\n",
       "    <tr style=\"text-align: right;\">\n",
       "      <th></th>\n",
       "      <th>NUTS1</th>\n",
       "      <th>NUTS2</th>\n",
       "      <th>NUTS3</th>\n",
       "      <th>DISTRICT_CODE</th>\n",
       "      <th>SUB_DISTRICT_CODE</th>\n",
       "      <th>INCOME_TOTAL</th>\n",
       "      <th>INCOME_MEN</th>\n",
       "      <th>INCOME_WOMEN</th>\n",
       "      <th>AVERAGE_INCOME_TOTAL</th>\n",
       "      <th>AVERAGE_INCOME_MEN</th>\n",
       "      <th>AVERAGE_INCOME_WOMEN</th>\n",
       "      <th>AVERAGE_INCOME_FULLTIME_TOTAL</th>\n",
       "      <th>AVERAGE_INCOME_FULLTIME_MEN</th>\n",
       "      <th>AVERAGE_INCOME_FULLTIME_WOMEN</th>\n",
       "      <th>REF_DATE</th>\n",
       "    </tr>\n",
       "  </thead>\n",
       "  <tbody>\n",
       "    <tr>\n",
       "      <th>0</th>\n",
       "      <td>AT1</td>\n",
       "      <td>AT13</td>\n",
       "      <td>AT130</td>\n",
       "      <td>90100</td>\n",
       "      <td>.</td>\n",
       "      <td>292.103.000</td>\n",
       "      <td>194.301.000</td>\n",
       "      <td>97.802.000</td>\n",
       "      <td>25.463</td>\n",
       "      <td>31.961</td>\n",
       "      <td>18.536</td>\n",
       "      <td>34.506</td>\n",
       "      <td>42.806</td>\n",
       "      <td>24.963</td>\n",
       "      <td>20021231</td>\n",
       "    </tr>\n",
       "    <tr>\n",
       "      <th>1</th>\n",
       "      <td>AT1</td>\n",
       "      <td>AT13</td>\n",
       "      <td>AT130</td>\n",
       "      <td>90200</td>\n",
       "      <td>.</td>\n",
       "      <td>919.962.000</td>\n",
       "      <td>559.682.000</td>\n",
       "      <td>360.280.000</td>\n",
       "      <td>16.439</td>\n",
       "      <td>18.301</td>\n",
       "      <td>14.282</td>\n",
       "      <td>22.015</td>\n",
       "      <td>24.312</td>\n",
       "      <td>19.067</td>\n",
       "      <td>20021231</td>\n",
       "    </tr>\n",
       "    <tr>\n",
       "      <th>2</th>\n",
       "      <td>AT1</td>\n",
       "      <td>AT13</td>\n",
       "      <td>AT130</td>\n",
       "      <td>90300</td>\n",
       "      <td>.</td>\n",
       "      <td>1.011.882.000</td>\n",
       "      <td>608.994.000</td>\n",
       "      <td>402.888.000</td>\n",
       "      <td>18.701</td>\n",
       "      <td>21.444</td>\n",
       "      <td>15.804</td>\n",
       "      <td>24.617</td>\n",
       "      <td>27.968</td>\n",
       "      <td>20.739</td>\n",
       "      <td>20021231</td>\n",
       "    </tr>\n",
       "    <tr>\n",
       "      <th>3</th>\n",
       "      <td>AT1</td>\n",
       "      <td>AT13</td>\n",
       "      <td>AT130</td>\n",
       "      <td>90400</td>\n",
       "      <td>.</td>\n",
       "      <td>402.479.000</td>\n",
       "      <td>243.807.000</td>\n",
       "      <td>158.672.000</td>\n",
       "      <td>20.325</td>\n",
       "      <td>23.641</td>\n",
       "      <td>16.876</td>\n",
       "      <td>27.348</td>\n",
       "      <td>31.586</td>\n",
       "      <td>22.539</td>\n",
       "      <td>20021231</td>\n",
       "    </tr>\n",
       "    <tr>\n",
       "      <th>4</th>\n",
       "      <td>AT1</td>\n",
       "      <td>AT13</td>\n",
       "      <td>AT130</td>\n",
       "      <td>90500</td>\n",
       "      <td>.</td>\n",
       "      <td>554.361.000</td>\n",
       "      <td>327.128.000</td>\n",
       "      <td>227.233.000</td>\n",
       "      <td>16.258</td>\n",
       "      <td>17.937</td>\n",
       "      <td>14.395</td>\n",
       "      <td>22.059</td>\n",
       "      <td>24.198</td>\n",
       "      <td>19.454</td>\n",
       "      <td>20021231</td>\n",
       "    </tr>\n",
       "  </tbody>\n",
       "</table>\n",
       "</div>"
      ],
      "text/plain": [
       "  NUTS1 NUTS2  NUTS3  DISTRICT_CODE SUB_DISTRICT_CODE   INCOME_TOTAL  \\\n",
       "0   AT1  AT13  AT130          90100                 .    292.103.000   \n",
       "1   AT1  AT13  AT130          90200                 .    919.962.000   \n",
       "2   AT1  AT13  AT130          90300                 .  1.011.882.000   \n",
       "3   AT1  AT13  AT130          90400                 .    402.479.000   \n",
       "4   AT1  AT13  AT130          90500                 .    554.361.000   \n",
       "\n",
       "    INCOME_MEN INCOME_WOMEN  AVERAGE_INCOME_TOTAL  AVERAGE_INCOME_MEN  \\\n",
       "0  194.301.000   97.802.000                25.463              31.961   \n",
       "1  559.682.000  360.280.000                16.439              18.301   \n",
       "2  608.994.000  402.888.000                18.701              21.444   \n",
       "3  243.807.000  158.672.000                20.325              23.641   \n",
       "4  327.128.000  227.233.000                16.258              17.937   \n",
       "\n",
       "   AVERAGE_INCOME_WOMEN  AVERAGE_INCOME_FULLTIME_TOTAL  \\\n",
       "0                18.536                         34.506   \n",
       "1                14.282                         22.015   \n",
       "2                15.804                         24.617   \n",
       "3                16.876                         27.348   \n",
       "4                14.395                         22.059   \n",
       "\n",
       "   AVERAGE_INCOME_FULLTIME_MEN  AVERAGE_INCOME_FULLTIME_WOMEN  REF_DATE  \n",
       "0                       42.806                         24.963  20021231  \n",
       "1                       24.312                         19.067  20021231  \n",
       "2                       27.968                         20.739  20021231  \n",
       "3                       31.586                         22.539  20021231  \n",
       "4                       24.198                         19.454  20021231  "
      ]
     },
     "execution_count": 334,
     "metadata": {},
     "output_type": "execute_result"
    }
   ],
   "source": [
    "# Load the csv file from the open data portal\n",
    "# Dataset description: https://www.data.gv.at/katalog/dataset/stadt-wien_viewirtschaftwienergemeindebezirke1/resource/c1ad52a3-ca5c-44fc-a945-b6459f73ed98\n",
    "data_path = 'https://www.wien.gv.at/statistik/ogd/vie_502.csv'\n",
    "# The data format seems to be consistent for all the datasets from this publisher \n",
    "data_income = pd.read_csv(data_path, delimiter=';', skiprows=1)\n",
    "# Check the top of the table to make sure the dataset is loaded correctly \n",
    "data_income.head()"
   ]
  },
  {
   "cell_type": "code",
   "execution_count": 335,
   "metadata": {
    "collapsed": false
   },
   "outputs": [
    {
     "data": {
      "text/plain": [
       "array([20021231, 20031231, 20041231, 20051231, 20061231, 20071231,\n",
       "       20081231, 20091231, 20101231, 20111231, 20121231, 20131231, 20141231])"
      ]
     },
     "execution_count": 335,
     "metadata": {},
     "output_type": "execute_result"
    }
   ],
   "source": [
    "# Check unique column values\n",
    "data_income['REF_DATE'].unique()"
   ]
  },
  {
   "cell_type": "markdown",
   "metadata": {},
   "source": [
    "The last measurement is from 2014. Let's take it."
   ]
  },
  {
   "cell_type": "code",
   "execution_count": 336,
   "metadata": {
    "collapsed": false
   },
   "outputs": [
    {
     "data": {
      "text/html": [
       "<div>\n",
       "<table border=\"1\" class=\"dataframe\">\n",
       "  <thead>\n",
       "    <tr style=\"text-align: right;\">\n",
       "      <th></th>\n",
       "      <th>DISTRICT_CODE</th>\n",
       "      <th>AVERAGE_INCOME_TOTAL</th>\n",
       "    </tr>\n",
       "  </thead>\n",
       "  <tbody>\n",
       "    <tr>\n",
       "      <th>276</th>\n",
       "      <td>90100</td>\n",
       "      <td>32.493</td>\n",
       "    </tr>\n",
       "    <tr>\n",
       "      <th>288</th>\n",
       "      <td>91300</td>\n",
       "      <td>27.604</td>\n",
       "    </tr>\n",
       "    <tr>\n",
       "      <th>294</th>\n",
       "      <td>91900</td>\n",
       "      <td>25.803</td>\n",
       "    </tr>\n",
       "    <tr>\n",
       "      <th>279</th>\n",
       "      <td>90400</td>\n",
       "      <td>24.199</td>\n",
       "    </tr>\n",
       "    <tr>\n",
       "      <th>293</th>\n",
       "      <td>91800</td>\n",
       "      <td>24.164</td>\n",
       "    </tr>\n",
       "  </tbody>\n",
       "</table>\n",
       "</div>"
      ],
      "text/plain": [
       "     DISTRICT_CODE  AVERAGE_INCOME_TOTAL\n",
       "276          90100                32.493\n",
       "288          91300                27.604\n",
       "294          91900                25.803\n",
       "279          90400                24.199\n",
       "293          91800                24.164"
      ]
     },
     "execution_count": 336,
     "metadata": {},
     "output_type": "execute_result"
    }
   ],
   "source": [
    "# Slice dataset: filter specific rows and columns\n",
    "income_2014 = data_income[(data_income['REF_DATE'] == 20141231)][['DISTRICT_CODE', 'AVERAGE_INCOME_TOTAL']]\n",
    "# Sort column\n",
    "income_2014.sort_values(ascending=False, by='AVERAGE_INCOME_TOTAL').head()\n",
    "# income_2014.sort_values(ascending=True, by='AVERAGE_INCOME_TOTAL').head()"
   ]
  },
  {
   "cell_type": "markdown",
   "metadata": {},
   "source": [
    "All right, this is common knowledge ;)  The wealthiest are 1st and 13th, the poorest are 15th and 20th districts of Vienna. "
   ]
  },
  {
   "cell_type": "code",
   "execution_count": 337,
   "metadata": {
    "collapsed": false
   },
   "outputs": [
    {
     "data": {
      "text/plain": [
       "[<matplotlib.text.Text at 0x11d320850>, <matplotlib.text.Text at 0x126995590>]"
      ]
     },
     "execution_count": 337,
     "metadata": {},
     "output_type": "execute_result"
    },
    {
     "data": {
      "image/png": "[encoded data removed]",
      "text/plain": [
       "<matplotlib.figure.Figure at 0x122b5a250>"
      ]
     },
     "metadata": {},
     "output_type": "display_data"
    }
   ],
   "source": [
    "# Plot pandas data frame\n",
    "ax = sns.barplot(data=income_2014,palette='colorblind', y='DISTRICT_CODE', x='AVERAGE_INCOME_TOTAL', orient='h')\n",
    "ax.set(ylabel='District', xlabel='Average Income (thousands)')"
   ]
  },
  {
   "cell_type": "markdown",
   "metadata": {},
   "source": [
    "Let's join our data sets with district stats."
   ]
  },
  {
   "cell_type": "code",
   "execution_count": 338,
   "metadata": {
    "collapsed": false
   },
   "outputs": [
    {
     "data": {
      "text/html": [
       "<div>\n",
       "<table border=\"1\" class=\"dataframe\">\n",
       "  <thead>\n",
       "    <tr style=\"text-align: right;\">\n",
       "      <th></th>\n",
       "      <th>DISTRICT_CODE</th>\n",
       "      <th>POP_TOTAL</th>\n",
       "      <th>Anzahl</th>\n",
       "      <th>Dogs_per_person</th>\n",
       "      <th>AVERAGE_INCOME_TOTAL</th>\n",
       "    </tr>\n",
       "  </thead>\n",
       "  <tbody>\n",
       "    <tr>\n",
       "      <th>0</th>\n",
       "      <td>90100</td>\n",
       "      <td>16339</td>\n",
       "      <td>465</td>\n",
       "      <td>0.028460</td>\n",
       "      <td>32.493</td>\n",
       "    </tr>\n",
       "    <tr>\n",
       "      <th>12</th>\n",
       "      <td>91300</td>\n",
       "      <td>52115</td>\n",
       "      <td>1990</td>\n",
       "      <td>0.038185</td>\n",
       "      <td>27.604</td>\n",
       "    </tr>\n",
       "    <tr>\n",
       "      <th>18</th>\n",
       "      <td>91900</td>\n",
       "      <td>69999</td>\n",
       "      <td>2745</td>\n",
       "      <td>0.039215</td>\n",
       "      <td>25.803</td>\n",
       "    </tr>\n",
       "    <tr>\n",
       "      <th>3</th>\n",
       "      <td>90400</td>\n",
       "      <td>31691</td>\n",
       "      <td>632</td>\n",
       "      <td>0.019943</td>\n",
       "      <td>24.199</td>\n",
       "    </tr>\n",
       "    <tr>\n",
       "      <th>17</th>\n",
       "      <td>91800</td>\n",
       "      <td>49178</td>\n",
       "      <td>1316</td>\n",
       "      <td>0.026760</td>\n",
       "      <td>24.164</td>\n",
       "    </tr>\n",
       "  </tbody>\n",
       "</table>\n",
       "</div>"
      ],
      "text/plain": [
       "    DISTRICT_CODE  POP_TOTAL  Anzahl  Dogs_per_person  AVERAGE_INCOME_TOTAL\n",
       "0           90100      16339     465         0.028460                32.493\n",
       "12          91300      52115    1990         0.038185                27.604\n",
       "18          91900      69999    2745         0.039215                25.803\n",
       "3           90400      31691     632         0.019943                24.199\n",
       "17          91800      49178    1316         0.026760                24.164"
      ]
     },
     "execution_count": 338,
     "metadata": {},
     "output_type": "execute_result"
    }
   ],
   "source": [
    "# Merge data frames on the key column\n",
    "dog_vs_people_vs_income = dog_vs_people.merge(income_2014, on='DISTRICT_CODE')\n",
    "dog_vs_people_vs_income.sort_values(ascending=False, by='AVERAGE_INCOME_TOTAL').head()"
   ]
  },
  {
   "cell_type": "code",
   "execution_count": 339,
   "metadata": {
    "collapsed": false
   },
   "outputs": [
    {
     "data": {
      "text/html": [
       "<div>\n",
       "<table border=\"1\" class=\"dataframe\">\n",
       "  <thead>\n",
       "    <tr style=\"text-align: right;\">\n",
       "      <th></th>\n",
       "      <th>DISTRICT_CODE</th>\n",
       "      <th>POP_TOTAL</th>\n",
       "      <th>Anzahl</th>\n",
       "      <th>Dogs_per_person</th>\n",
       "      <th>AVERAGE_INCOME_TOTAL</th>\n",
       "    </tr>\n",
       "  </thead>\n",
       "  <tbody>\n",
       "    <tr>\n",
       "      <th>DISTRICT_CODE</th>\n",
       "      <td>1.000000</td>\n",
       "      <td>0.453962</td>\n",
       "      <td>0.563003</td>\n",
       "      <td>0.592619</td>\n",
       "      <td>-0.213271</td>\n",
       "    </tr>\n",
       "    <tr>\n",
       "      <th>POP_TOTAL</th>\n",
       "      <td>0.453962</td>\n",
       "      <td>1.000000</td>\n",
       "      <td>0.903501</td>\n",
       "      <td>0.554129</td>\n",
       "      <td>-0.455340</td>\n",
       "    </tr>\n",
       "    <tr>\n",
       "      <th>Anzahl</th>\n",
       "      <td>0.563003</td>\n",
       "      <td>0.903501</td>\n",
       "      <td>1.000000</td>\n",
       "      <td>0.813967</td>\n",
       "      <td>-0.178365</td>\n",
       "    </tr>\n",
       "    <tr>\n",
       "      <th>Dogs_per_person</th>\n",
       "      <td>0.592619</td>\n",
       "      <td>0.554129</td>\n",
       "      <td>0.813967</td>\n",
       "      <td>1.000000</td>\n",
       "      <td>0.273133</td>\n",
       "    </tr>\n",
       "    <tr>\n",
       "      <th>AVERAGE_INCOME_TOTAL</th>\n",
       "      <td>-0.213271</td>\n",
       "      <td>-0.455340</td>\n",
       "      <td>-0.178365</td>\n",
       "      <td>0.273133</td>\n",
       "      <td>1.000000</td>\n",
       "    </tr>\n",
       "  </tbody>\n",
       "</table>\n",
       "</div>"
      ],
      "text/plain": [
       "                      DISTRICT_CODE  POP_TOTAL    Anzahl  Dogs_per_person  \\\n",
       "DISTRICT_CODE              1.000000   0.453962  0.563003         0.592619   \n",
       "POP_TOTAL                  0.453962   1.000000  0.903501         0.554129   \n",
       "Anzahl                     0.563003   0.903501  1.000000         0.813967   \n",
       "Dogs_per_person            0.592619   0.554129  0.813967         1.000000   \n",
       "AVERAGE_INCOME_TOTAL      -0.213271  -0.455340 -0.178365         0.273133   \n",
       "\n",
       "                      AVERAGE_INCOME_TOTAL  \n",
       "DISTRICT_CODE                    -0.213271  \n",
       "POP_TOTAL                        -0.455340  \n",
       "Anzahl                           -0.178365  \n",
       "Dogs_per_person                   0.273133  \n",
       "AVERAGE_INCOME_TOTAL              1.000000  "
      ]
     },
     "execution_count": 339,
     "metadata": {},
     "output_type": "execute_result"
    }
   ],
   "source": [
    "dog_vs_people_vs_income.corr()"
   ]
  },
  {
   "cell_type": "markdown",
   "metadata": {},
   "source": [
    "There is no strong correlation between the average income and the number of dogs. However, income is negatively correlated with population count (nothing new here).\n",
    "\n",
    "Everyone likes to have a dog. Maybe different kind of dog though...\n",
    "\n",
    "Is there a correlation between specific dog breeds and the income of their owners?\n",
    "\n",
    "Very likely, there is. Some dogs are very expensive... Which dogs are they?"
   ]
  },
  {
   "cell_type": "code",
   "execution_count": 422,
   "metadata": {
    "collapsed": false
   },
   "outputs": [
    {
     "data": {
      "text/html": [
       "<div>\n",
       "<table border=\"1\" class=\"dataframe\">\n",
       "  <thead>\n",
       "    <tr style=\"text-align: right;\">\n",
       "      <th>Breed_1</th>\n",
       "      <th>DISTRICT_CODE</th>\n",
       "      <th>Affenpinscher</th>\n",
       "      <th>Afghanischer Windhund</th>\n",
       "      <th>Ainu-Hund</th>\n",
       "      <th>Airedale-Terrier</th>\n",
       "      <th>Akita Inu</th>\n",
       "      <th>Alaskan Malamute</th>\n",
       "      <th>AlpenlÃ¤ndische Dachsbracke</th>\n",
       "      <th>AlpinschÃ¤fer</th>\n",
       "      <th>AltdÃ¤nischer Vorstehhund</th>\n",
       "      <th>...</th>\n",
       "      <th>Wolfsspitz</th>\n",
       "      <th>WÃ¤ller</th>\n",
       "      <th>Yorkshire Terrier</th>\n",
       "      <th>Zentralasiatischer Owtscharka</th>\n",
       "      <th>Zwergpinscher</th>\n",
       "      <th>Zwergpudel</th>\n",
       "      <th>Zwergschnauzer</th>\n",
       "      <th>ZwergschÃ¤ferhund</th>\n",
       "      <th>Zwergspitz</th>\n",
       "      <th>Ãsterreichischer Pinscher</th>\n",
       "    </tr>\n",
       "  </thead>\n",
       "  <tbody>\n",
       "    <tr>\n",
       "      <th>0</th>\n",
       "      <td>90100</td>\n",
       "      <td>0.0</td>\n",
       "      <td>1.0</td>\n",
       "      <td>0.0</td>\n",
       "      <td>0.0</td>\n",
       "      <td>0.0</td>\n",
       "      <td>0.0</td>\n",
       "      <td>0.0</td>\n",
       "      <td>0.0</td>\n",
       "      <td>0.0</td>\n",
       "      <td>...</td>\n",
       "      <td>0.0</td>\n",
       "      <td>0.0</td>\n",
       "      <td>8.0</td>\n",
       "      <td>0.0</td>\n",
       "      <td>3.0</td>\n",
       "      <td>2.0</td>\n",
       "      <td>3.0</td>\n",
       "      <td>0.0</td>\n",
       "      <td>4.0</td>\n",
       "      <td>1.0</td>\n",
       "    </tr>\n",
       "    <tr>\n",
       "      <th>1</th>\n",
       "      <td>90200</td>\n",
       "      <td>0.0</td>\n",
       "      <td>0.0</td>\n",
       "      <td>0.0</td>\n",
       "      <td>3.0</td>\n",
       "      <td>6.0</td>\n",
       "      <td>0.0</td>\n",
       "      <td>0.0</td>\n",
       "      <td>0.0</td>\n",
       "      <td>1.0</td>\n",
       "      <td>...</td>\n",
       "      <td>1.0</td>\n",
       "      <td>0.0</td>\n",
       "      <td>85.0</td>\n",
       "      <td>0.0</td>\n",
       "      <td>41.0</td>\n",
       "      <td>4.0</td>\n",
       "      <td>7.0</td>\n",
       "      <td>0.0</td>\n",
       "      <td>27.0</td>\n",
       "      <td>6.0</td>\n",
       "    </tr>\n",
       "    <tr>\n",
       "      <th>2</th>\n",
       "      <td>90300</td>\n",
       "      <td>0.0</td>\n",
       "      <td>1.0</td>\n",
       "      <td>0.0</td>\n",
       "      <td>3.0</td>\n",
       "      <td>5.0</td>\n",
       "      <td>0.0</td>\n",
       "      <td>0.0</td>\n",
       "      <td>0.0</td>\n",
       "      <td>0.0</td>\n",
       "      <td>...</td>\n",
       "      <td>0.0</td>\n",
       "      <td>1.0</td>\n",
       "      <td>40.0</td>\n",
       "      <td>0.0</td>\n",
       "      <td>33.0</td>\n",
       "      <td>8.0</td>\n",
       "      <td>5.0</td>\n",
       "      <td>0.0</td>\n",
       "      <td>10.0</td>\n",
       "      <td>4.0</td>\n",
       "    </tr>\n",
       "    <tr>\n",
       "      <th>3</th>\n",
       "      <td>90400</td>\n",
       "      <td>0.0</td>\n",
       "      <td>1.0</td>\n",
       "      <td>0.0</td>\n",
       "      <td>1.0</td>\n",
       "      <td>0.0</td>\n",
       "      <td>0.0</td>\n",
       "      <td>0.0</td>\n",
       "      <td>0.0</td>\n",
       "      <td>0.0</td>\n",
       "      <td>...</td>\n",
       "      <td>0.0</td>\n",
       "      <td>0.0</td>\n",
       "      <td>12.0</td>\n",
       "      <td>0.0</td>\n",
       "      <td>5.0</td>\n",
       "      <td>1.0</td>\n",
       "      <td>4.0</td>\n",
       "      <td>0.0</td>\n",
       "      <td>6.0</td>\n",
       "      <td>1.0</td>\n",
       "    </tr>\n",
       "    <tr>\n",
       "      <th>4</th>\n",
       "      <td>90500</td>\n",
       "      <td>0.0</td>\n",
       "      <td>0.0</td>\n",
       "      <td>0.0</td>\n",
       "      <td>2.0</td>\n",
       "      <td>5.0</td>\n",
       "      <td>0.0</td>\n",
       "      <td>2.0</td>\n",
       "      <td>0.0</td>\n",
       "      <td>0.0</td>\n",
       "      <td>...</td>\n",
       "      <td>0.0</td>\n",
       "      <td>0.0</td>\n",
       "      <td>24.0</td>\n",
       "      <td>0.0</td>\n",
       "      <td>19.0</td>\n",
       "      <td>0.0</td>\n",
       "      <td>2.0</td>\n",
       "      <td>0.0</td>\n",
       "      <td>4.0</td>\n",
       "      <td>1.0</td>\n",
       "    </tr>\n",
       "  </tbody>\n",
       "</table>\n",
       "<p>5 rows × 321 columns</p>\n",
       "</div>"
      ],
      "text/plain": [
       "Breed_1  DISTRICT_CODE  Affenpinscher  Afghanischer Windhund  Ainu-Hund  \\\n",
       "0                90100            0.0                    1.0        0.0   \n",
       "1                90200            0.0                    0.0        0.0   \n",
       "2                90300            0.0                    1.0        0.0   \n",
       "3                90400            0.0                    1.0        0.0   \n",
       "4                90500            0.0                    0.0        0.0   \n",
       "\n",
       "Breed_1  Airedale-Terrier  Akita Inu  Alaskan Malamute  \\\n",
       "0                     0.0        0.0               0.0   \n",
       "1                     3.0        6.0               0.0   \n",
       "2                     3.0        5.0               0.0   \n",
       "3                     1.0        0.0               0.0   \n",
       "4                     2.0        5.0               0.0   \n",
       "\n",
       "Breed_1  AlpenlÃ¤ndische Dachsbracke  AlpinschÃ¤fer  \\\n",
       "0                                0.0            0.0   \n",
       "1                                0.0            0.0   \n",
       "2                                0.0            0.0   \n",
       "3                                0.0            0.0   \n",
       "4                                2.0            0.0   \n",
       "\n",
       "Breed_1  AltdÃ¤nischer Vorstehhund             ...              Wolfsspitz  \\\n",
       "0                              0.0             ...                     0.0   \n",
       "1                              1.0             ...                     1.0   \n",
       "2                              0.0             ...                     0.0   \n",
       "3                              0.0             ...                     0.0   \n",
       "4                              0.0             ...                     0.0   \n",
       "\n",
       "Breed_1  WÃ¤ller  Yorkshire Terrier  Zentralasiatischer Owtscharka  \\\n",
       "0            0.0                8.0                            0.0   \n",
       "1            0.0               85.0                            0.0   \n",
       "2            1.0               40.0                            0.0   \n",
       "3            0.0               12.0                            0.0   \n",
       "4            0.0               24.0                            0.0   \n",
       "\n",
       "Breed_1  Zwergpinscher  Zwergpudel  Zwergschnauzer  ZwergschÃ¤ferhund  \\\n",
       "0                  3.0         2.0             3.0                0.0   \n",
       "1                 41.0         4.0             7.0                0.0   \n",
       "2                 33.0         8.0             5.0                0.0   \n",
       "3                  5.0         1.0             4.0                0.0   \n",
       "4                 19.0         0.0             2.0                0.0   \n",
       "\n",
       "Breed_1  Zwergspitz  Ãsterreichischer Pinscher  \n",
       "0               4.0                         1.0  \n",
       "1              27.0                         6.0  \n",
       "2              10.0                         4.0  \n",
       "3               6.0                         1.0  \n",
       "4               4.0                         1.0  \n",
       "\n",
       "[5 rows x 321 columns]"
      ]
     },
     "execution_count": 422,
     "metadata": {},
     "output_type": "execute_result"
    }
   ],
   "source": [
    "# Create a “pivot” table based on column values\n",
    "unfolded_breeds = filtered_dogs.pivot_table(index='DISTRICT_CODE', columns='Breed_1', values='Anzahl').fillna(0)\n",
    "unfolded_breeds.reset_index(level=0, inplace=True)\n",
    "unfolded_breeds.head()"
   ]
  },
  {
   "cell_type": "code",
   "execution_count": 416,
   "metadata": {
    "collapsed": false
   },
   "outputs": [
    {
     "name": "stderr",
     "output_type": "stream",
     "text": [
      "/anaconda/lib/python2.7/site-packages/ipykernel/__main__.py:6: FutureWarning: order is deprecated, use sort_values(...)\n"
     ]
    },
    {
     "data": {
      "text/plain": [
       "Breed_1\n",
       "AVERAGE_INCOME_TOTAL                                   1.000000\n",
       "Bergamasker Hirtenhund                                 0.550433\n",
       "Lurcher                                                0.489959\n",
       "Australian Terrier                                     0.458564\n",
       "Cockerpoo                                              0.454458\n",
       "Skye Terrier                                           0.343452\n",
       "Glen of Imaal Terrier                                  0.334978\n",
       "Wachtelhund                                            0.334978\n",
       "Tiroler Bracke                                         0.334978\n",
       "Polnische Bracke                                       0.333029\n",
       "Irish Terrier                                          0.322510\n",
       "Norwich-Terrier                                        0.316258\n",
       "American Toy Terrier                                   0.312786\n",
       "Bayerischer Gebirgsschweisshund                        0.312219\n",
       "Leonberger                                             0.308886\n",
       "Weimaraner                                             0.296609\n",
       "Australian Kelpie                                      0.284345\n",
       "Toy-Pudel                                              0.279855\n",
       "Deutscher SchÃ¤ferhund Schwarzer langhaariger Schla    0.262882\n",
       "Gordon Setter                                          0.260191\n",
       "Pharaonenhund                                          0.254468\n",
       "Petit Basset Griffon Vendeen                           0.242951\n",
       "Schwyzer Laufhund                                      0.232030\n",
       "Steirische Rauhhaarige Hochgebirgsbracke               0.228518\n",
       "Entlebucher Sennenhund                                 0.225181\n",
       "Otterhound                                             0.225054\n",
       "Lancashire-Heeler                                      0.225054\n",
       "Korea Jindo Dog                                        0.225054\n",
       "Stabyhond                                              0.225054\n",
       "Cairn-Terrier                                          0.214280\n",
       "                                                         ...   \n",
       "Cocker Spaniel                                        -0.265441\n",
       "Volpino                                               -0.272059\n",
       "Briard                                                -0.274651\n",
       "Schwarzer Russischer Terrier                          -0.276059\n",
       "FranzÃ¶sische Bulldogge                               -0.277047\n",
       "DÃ¤nischer Bauernhund                                 -0.278633\n",
       "Basenji                                               -0.279965\n",
       "Malteser                                              -0.280692\n",
       "Ãsterreichischer Pinscher                            -0.282590\n",
       "Affenpinscher                                         -0.282973\n",
       "Chihuahua kurzhaariger Schlag                         -0.286216\n",
       "Deutscher Pinscher                                    -0.289804\n",
       "Olde English Bulldogge                                -0.290172\n",
       "Yorkshire Terrier                                     -0.294985\n",
       "Staffordshire-Bullterrier                             -0.298359\n",
       "Patterdale-Terrier                                    -0.298871\n",
       "Phalene                                               -0.303990\n",
       "Komondor                                              -0.306545\n",
       "Chihuahua langhaariger Schlag                         -0.308239\n",
       "PyrenÃ¤enberghund                                     -0.316213\n",
       "Fila Brasileiro                                       -0.320100\n",
       "Thai Ridgeback                                        -0.320156\n",
       "Tosa Inu                                              -0.326337\n",
       "Dogo Canario                                          -0.340016\n",
       "American Bulldog                                      -0.346715\n",
       "Amerikanischer Pit-Bullterrier                        -0.360619\n",
       "Amerikanischer Staffordshire-Terrier                  -0.361811\n",
       "Bedlington-Terrier                                    -0.364664\n",
       "Pekinese                                              -0.378614\n",
       "Chien dÂ´Artois                                       -0.401646\n",
       "dtype: float64"
      ]
     },
     "execution_count": 416,
     "metadata": {},
     "output_type": "execute_result"
    }
   ],
   "source": [
    "breeds_vs_income = unfolded_breeds.merge(income_2014, on='DISTRICT_CODE')\n",
    "# breeds_vs_income.head()\n",
    "c = breeds_vs_income.corr()#.abs()\n",
    "\n",
    "s = c.unstack()\n",
    "so = s.order(kind=\"quicksort\")\n",
    "so.sort_values(ascending=False)['AVERAGE_INCOME_TOTAL']#[:20]"
   ]
  },
  {
   "cell_type": "code",
   "execution_count": 465,
   "metadata": {
    "collapsed": false
   },
   "outputs": [
    {
     "data": {
      "text/html": [
       "<div>\n",
       "<table border=\"1\" class=\"dataframe\">\n",
       "  <thead>\n",
       "    <tr style=\"text-align: right;\">\n",
       "      <th></th>\n",
       "      <th>DISTRICT_CODE</th>\n",
       "      <th>Breed_1</th>\n",
       "      <th>Anzahl</th>\n",
       "    </tr>\n",
       "  </thead>\n",
       "  <tbody>\n",
       "    <tr>\n",
       "      <th>1483</th>\n",
       "      <td>91200</td>\n",
       "      <td>Dogo Canario</td>\n",
       "      <td>3</td>\n",
       "    </tr>\n",
       "    <tr>\n",
       "      <th>3130</th>\n",
       "      <td>92200</td>\n",
       "      <td>Dogo Canario</td>\n",
       "      <td>2</td>\n",
       "    </tr>\n",
       "    <tr>\n",
       "      <th>2115</th>\n",
       "      <td>91600</td>\n",
       "      <td>Dogo Canario</td>\n",
       "      <td>2</td>\n",
       "    </tr>\n",
       "    <tr>\n",
       "      <th>3340</th>\n",
       "      <td>92300</td>\n",
       "      <td>Dogo Canario</td>\n",
       "      <td>2</td>\n",
       "    </tr>\n",
       "    <tr>\n",
       "      <th>1325</th>\n",
       "      <td>91100</td>\n",
       "      <td>Dogo Canario</td>\n",
       "      <td>2</td>\n",
       "    </tr>\n",
       "    <tr>\n",
       "      <th>162</th>\n",
       "      <td>90200</td>\n",
       "      <td>Dogo Canario</td>\n",
       "      <td>1</td>\n",
       "    </tr>\n",
       "    <tr>\n",
       "      <th>2920</th>\n",
       "      <td>92100</td>\n",
       "      <td>Dogo Canario</td>\n",
       "      <td>1</td>\n",
       "    </tr>\n",
       "    <tr>\n",
       "      <th>1982</th>\n",
       "      <td>91500</td>\n",
       "      <td>Dogo Canario</td>\n",
       "      <td>1</td>\n",
       "    </tr>\n",
       "    <tr>\n",
       "      <th>2586</th>\n",
       "      <td>91900</td>\n",
       "      <td>Dogo Canario</td>\n",
       "      <td>1</td>\n",
       "    </tr>\n",
       "    <tr>\n",
       "      <th>1130</th>\n",
       "      <td>91000</td>\n",
       "      <td>Dogo Canario</td>\n",
       "      <td>1</td>\n",
       "    </tr>\n",
       "  </tbody>\n",
       "</table>\n",
       "</div>"
      ],
      "text/plain": [
       "      DISTRICT_CODE       Breed_1  Anzahl\n",
       "1483          91200  Dogo Canario       3\n",
       "3130          92200  Dogo Canario       2\n",
       "2115          91600  Dogo Canario       2\n",
       "3340          92300  Dogo Canario       2\n",
       "1325          91100  Dogo Canario       2\n",
       "162           90200  Dogo Canario       1\n",
       "2920          92100  Dogo Canario       1\n",
       "1982          91500  Dogo Canario       1\n",
       "2586          91900  Dogo Canario       1\n",
       "1130          91000  Dogo Canario       1"
      ]
     },
     "execution_count": 465,
     "metadata": {},
     "output_type": "execute_result"
    }
   ],
   "source": [
    "# Select data slice\n",
    "filtered_dogs[(filtered_dogs['Breed_1']=='Dogo Canario')]"
   ]
  },
  {
   "cell_type": "code",
   "execution_count": 470,
   "metadata": {
    "collapsed": false,
    "scrolled": true
   },
   "outputs": [
    {
     "data": {
      "text/plain": [
       "86"
      ]
     },
     "execution_count": 470,
     "metadata": {},
     "output_type": "execute_result"
    }
   ],
   "source": [
    "# Filter out small (unrepresentative) counts\n",
    "common_dogs = filtered_dogs[(filtered_dogs['Anzahl']>10)]\n",
    "top_dogs = common_dogs['Breed_1'].unique()\n",
    "len(top_dogs)"
   ]
  },
  {
   "cell_type": "code",
   "execution_count": 468,
   "metadata": {
    "collapsed": false
   },
   "outputs": [
    {
     "data": {
      "text/plain": [
       "[<matplotlib.text.Text at 0x12cab1cd0>, <matplotlib.text.Text at 0x12cab1290>]"
      ]
     },
     "execution_count": 468,
     "metadata": {},
     "output_type": "execute_result"
    },
    {
     "data": {
      "image/png": "[encoded data removed]",
      "text/plain": [
       "<matplotlib.figure.Figure at 0x12c6f8b10>"
      ]
     },
     "metadata": {},
     "output_type": "display_data"
    }
   ],
   "source": [
    "# Filter column with several values\n",
    "labrador_vs_chihuahua = filtered_dogs[(filtered_dogs['Breed_1'].isin(top_dogs))]\n",
    "ax = sns.barplot(data=labrador_vs_chihuahua,palette='colorblind', x='Anzahl', y='Breed_1')\n",
    "ax.set(ylabel='Breeds', xlabel='Number of  dogs')"
   ]
  },
  {
   "cell_type": "markdown",
   "metadata": {},
   "source": [
    "Chihuahua experiences the highest variation across districts. You either love it or nor."
   ]
  },
  {
   "cell_type": "code",
   "execution_count": 471,
   "metadata": {
    "collapsed": false
   },
   "outputs": [
    {
     "name": "stderr",
     "output_type": "stream",
     "text": [
      "/anaconda/lib/python2.7/site-packages/ipykernel/__main__.py:10: FutureWarning: order is deprecated, use sort_values(...)\n"
     ]
    },
    {
     "data": {
      "text/plain": [
       "Breed_1\n",
       "AVERAGE_INCOME_TOTAL                    1.000000\n",
       "Entlebucher Sennenhund                  0.270323\n",
       "Irish Setter                            0.236472\n",
       "Flat Coated Retriever                   0.209285\n",
       "Weimaraner                              0.194436\n",
       "Collie                                  0.164491\n",
       "WeiÃer Schweizer SchÃ¤ferhund          0.093471\n",
       "Magyar Vizsla                           0.091800\n",
       "Whippet                                 0.065475\n",
       "Akita Inu                               0.054326\n",
       "Berner Sennenhund                       0.051675\n",
       "Hovawart                                0.051256\n",
       "Parson-Russell-Terrier                  0.051103\n",
       "Schnauzer                               0.048778\n",
       "Welsh Terrier                           0.043597\n",
       "Jagdterrier                             0.043597\n",
       "Dalmatiner                              0.043597\n",
       "NeufundlÃ¤nder                          0.043597\n",
       "Border-Terrier                          0.043597\n",
       "Landseer                                0.043597\n",
       "Bernhardiner                            0.043597\n",
       "Cairn-Terrier                           0.043597\n",
       "Toy-Pudel                               0.043597\n",
       "Shiba Inu                               0.043493\n",
       "Rauhhaardackel (Zwergdackel)            0.012767\n",
       "Rhodesian Ridgeback                     0.006893\n",
       "Bracke                                  0.006436\n",
       "Boxer                                   0.004960\n",
       "Cavalier King Charles Spaniel           0.000012\n",
       "Prager Rattler                         -0.001389\n",
       "                                          ...   \n",
       "Cane Corso                             -0.144193\n",
       "Bulldog                                -0.145936\n",
       "Zwergschnauzer                         -0.147369\n",
       "Beagle                                 -0.149606\n",
       "Australian Shepherd Dog                -0.150239\n",
       "Pudel                                  -0.157767\n",
       "Ãsterreichischer Pinscher             -0.171752\n",
       "Bichon FrisÃ©                          -0.172543\n",
       "Deutscher Pinscher                     -0.179547\n",
       "Dackel                                 -0.197418\n",
       "Deutscher SchÃ¤ferhund                 -0.204976\n",
       "Jack-Russell-Terrier                   -0.213172\n",
       "DISTRICT_CODE                          -0.213271\n",
       "Spitz                                  -0.216136\n",
       "Havaneser                              -0.228385\n",
       "Zwergpinscher                          -0.256693\n",
       "Rottweiler                             -0.262774\n",
       "Shih Tzu                               -0.264225\n",
       "Zwergspitz                             -0.265250\n",
       "Cocker Spaniel                         -0.266864\n",
       "Staffordshire-Bullterrier              -0.276044\n",
       "Malteser                               -0.281344\n",
       "Chihuahua kurzhaariger Schlag          -0.286733\n",
       "Mops                                   -0.287646\n",
       "FranzÃ¶sische Bulldogge                -0.291770\n",
       "Yorkshire Terrier                      -0.311107\n",
       "Chihuahua langhaariger Schlag          -0.319073\n",
       "Amerikanischer Pit-Bullterrier         -0.352922\n",
       "Amerikanischer Staffordshire-Terrier   -0.372507\n",
       "Pekinese                               -0.376930\n",
       "dtype: float64"
      ]
     },
     "execution_count": 471,
     "metadata": {},
     "output_type": "execute_result"
    }
   ],
   "source": [
    "# Create a “pivot” table based on column values\n",
    "unfolded_breeds = common_dogs.pivot_table(index='DISTRICT_CODE', columns='Breed_1', values='Anzahl').fillna(0)\n",
    "unfolded_breeds.reset_index(level=0, inplace=True)\n",
    "# unfolded_breeds.head()\n",
    "\n",
    "breeds_vs_income = unfolded_breeds.merge(income_2014, on='DISTRICT_CODE')\n",
    "c = breeds_vs_income.corr()\n",
    "\n",
    "s = c.unstack()\n",
    "so = s.order(kind=\"quicksort\")\n",
    "so.sort_values(ascending=False)['AVERAGE_INCOME_TOTAL']"
   ]
  },
  {
   "cell_type": "markdown",
   "metadata": {},
   "source": [
    "Labradors are positively correlated with higher incomes, Chihuahuas with lower incomes.\n",
    "\n",
    "Lets have a look at the data!"
   ]
  },
  {
   "cell_type": "code",
   "execution_count": 457,
   "metadata": {
    "collapsed": false
   },
   "outputs": [
    {
     "data": {
      "text/plain": [
       "[<matplotlib.text.Text at 0x12c154b90>, <matplotlib.text.Text at 0x12bf1ca50>]"
      ]
     },
     "execution_count": 457,
     "metadata": {},
     "output_type": "execute_result"
    },
    {
     "data": {
      "image/png": "[encoded data removed]",
      "text/plain": [
       "<matplotlib.figure.Figure at 0x12b540e50>"
      ]
     },
     "metadata": {},
     "output_type": "display_data"
    }
   ],
   "source": [
    "# Filter column with several values\n",
    "labrador_vs_chihuahua = filtered_dogs[(filtered_dogs['Breed_1'].isin(['Chihuahua kurzhaariger Schlag', 'Labrador Retriever']))]\n",
    "ax = sns.barplot(data=labrador_vs_chihuahua,palette='colorblind', x='Anzahl', hue='Breed_1', y='DISTRICT_CODE', orient='h')\n",
    "ax.set(xlabel='Breed', ylabel='Number of  dogs')"
   ]
  },
  {
   "cell_type": "code",
   "execution_count": 441,
   "metadata": {
    "collapsed": false
   },
   "outputs": [
    {
     "name": "stderr",
     "output_type": "stream",
     "text": [
      "/anaconda/lib/python2.7/site-packages/ipykernel/__main__.py:6: SettingWithCopyWarning: \n",
      "A value is trying to be set on a copy of a slice from a DataFrame.\n",
      "Try using .loc[row_indexer,col_indexer] = value instead\n",
      "\n",
      "See the caveats in the documentation: http://pandas.pydata.org/pandas-docs/stable/indexing.html#indexing-view-versus-copy\n"
     ]
    },
    {
     "data": {
      "text/html": [
       "<div>\n",
       "<table border=\"1\" class=\"dataframe\">\n",
       "  <thead>\n",
       "    <tr style=\"text-align: right;\">\n",
       "      <th></th>\n",
       "      <th>Breed_1</th>\n",
       "      <th>Percent</th>\n",
       "    </tr>\n",
       "  </thead>\n",
       "  <tbody>\n",
       "    <tr>\n",
       "      <th>51</th>\n",
       "      <td>Labrador Retriever</td>\n",
       "      <td>10.5</td>\n",
       "    </tr>\n",
       "    <tr>\n",
       "      <th>28</th>\n",
       "      <td>Dackel</td>\n",
       "      <td>4.2</td>\n",
       "    </tr>\n",
       "    <tr>\n",
       "      <th>23</th>\n",
       "      <td>Chihuahua kurzhaariger Schlag</td>\n",
       "      <td>3.6</td>\n",
       "    </tr>\n",
       "    <tr>\n",
       "      <th>59</th>\n",
       "      <td>Malteser</td>\n",
       "      <td>3.6</td>\n",
       "    </tr>\n",
       "    <tr>\n",
       "      <th>48</th>\n",
       "      <td>Jack-Russell-Terrier</td>\n",
       "      <td>3.6</td>\n",
       "    </tr>\n",
       "  </tbody>\n",
       "</table>\n",
       "</div>"
      ],
      "text/plain": [
       "                          Breed_1  Percent\n",
       "51             Labrador Retriever     10.5\n",
       "28                         Dackel      4.2\n",
       "23  Chihuahua kurzhaariger Schlag      3.6\n",
       "59                       Malteser      3.6\n",
       "48           Jack-Russell-Terrier      3.6"
      ]
     },
     "execution_count": 441,
     "metadata": {},
     "output_type": "execute_result"
    }
   ],
   "source": [
    "district = 90100\n",
    "dogs_district = filtered_dogs[(filtered_dogs['DISTRICT_CODE']==district)]\n",
    "# dogs_01['Anzahl'].describe()\n",
    "# dogs_01.sort_values(ascending=False, by='Anzahl')[['Dog Breed','Anzahl']].head()\n",
    "total_dogs_district = sum(dogs_district['Anzahl'])\n",
    "dogs_district['Percent'] = dogs_district['Anzahl'] / total_dogs_district * 100 \n",
    "# dogs_01['Percent'].describe()\n",
    "dogs_district[['Breed_1','Percent']].sort_values(ascending=False, by='Percent').round(1).head()"
   ]
  },
  {
   "cell_type": "markdown",
   "metadata": {},
   "source": [
    "Wiener dog bits Chihuahua in the 1st district of Vienna!"
   ]
  },
  {
   "cell_type": "code",
   "execution_count": 405,
   "metadata": {
    "collapsed": false
   },
   "outputs": [
    {
     "name": "stderr",
     "output_type": "stream",
     "text": [
      "/anaconda/lib/python2.7/site-packages/ipykernel/__main__.py:6: SettingWithCopyWarning: \n",
      "A value is trying to be set on a copy of a slice from a DataFrame.\n",
      "Try using .loc[row_indexer,col_indexer] = value instead\n",
      "\n",
      "See the caveats in the documentation: http://pandas.pydata.org/pandas-docs/stable/indexing.html#indexing-view-versus-copy\n"
     ]
    },
    {
     "data": {
      "text/html": [
       "<div>\n",
       "<table border=\"1\" class=\"dataframe\">\n",
       "  <thead>\n",
       "    <tr style=\"text-align: right;\">\n",
       "      <th></th>\n",
       "      <th>Breed_1</th>\n",
       "      <th>Percent</th>\n",
       "    </tr>\n",
       "  </thead>\n",
       "  <tbody>\n",
       "    <tr>\n",
       "      <th>2007</th>\n",
       "      <td>Labrador Retriever</td>\n",
       "      <td>8.2</td>\n",
       "    </tr>\n",
       "    <tr>\n",
       "      <th>1965</th>\n",
       "      <td>Chihuahua kurzhaariger Schlag</td>\n",
       "      <td>7.4</td>\n",
       "    </tr>\n",
       "    <tr>\n",
       "      <th>2013</th>\n",
       "      <td>Malteser</td>\n",
       "      <td>7.0</td>\n",
       "    </tr>\n",
       "    <tr>\n",
       "      <th>2054</th>\n",
       "      <td>Yorkshire Terrier</td>\n",
       "      <td>4.9</td>\n",
       "    </tr>\n",
       "    <tr>\n",
       "      <th>1943</th>\n",
       "      <td>Amerikanischer Staffordshire-Terrier</td>\n",
       "      <td>4.7</td>\n",
       "    </tr>\n",
       "  </tbody>\n",
       "</table>\n",
       "</div>"
      ],
      "text/plain": [
       "                                   Breed_1  Percent\n",
       "2007                    Labrador Retriever      8.2\n",
       "1965         Chihuahua kurzhaariger Schlag      7.4\n",
       "2013                              Malteser      7.0\n",
       "2054                     Yorkshire Terrier      4.9\n",
       "1943  Amerikanischer Staffordshire-Terrier      4.7"
      ]
     },
     "execution_count": 405,
     "metadata": {},
     "output_type": "execute_result"
    }
   ],
   "source": [
    "district = 91500\n",
    "dogs_district = filtered_dogs[(filtered_dogs['DISTRICT_CODE']==district)]\n",
    "# dogs_01['Anzahl'].describe()\n",
    "# dogs_01.sort_values(ascending=False, by='Anzahl')[['Dog Breed','Anzahl']].head()\n",
    "total_dogs_district = sum(dogs_district['Anzahl'])\n",
    "dogs_district['Percent'] = dogs_district['Anzahl'] / total_dogs_district * 100 \n",
    "# dogs_01['Percent'].describe()\n",
    "dogs_district[['Breed_1','Percent']].sort_values(ascending=False, by='Percent').round(1).head()"
   ]
  },
  {
   "cell_type": "markdown",
   "metadata": {},
   "source": [
    "### Open Data for Local Communities"
   ]
  },
  {
   "cell_type": "code",
   "execution_count": 350,
   "metadata": {
    "collapsed": false
   },
   "outputs": [
    {
     "name": "stderr",
     "output_type": "stream",
     "text": [
      "/anaconda/lib/python2.7/site-packages/ipykernel/__main__.py:3: UserWarning: Boolean Series key will be reindexed to match DataFrame index.\n",
      "  app.launch_new_instance()\n"
     ]
    },
    {
     "data": {
      "text/html": [
       "<div>\n",
       "<table border=\"1\" class=\"dataframe\">\n",
       "  <thead>\n",
       "    <tr style=\"text-align: right;\">\n",
       "      <th></th>\n",
       "      <th>Breed_1</th>\n",
       "      <th>Anzahl</th>\n",
       "    </tr>\n",
       "  </thead>\n",
       "  <tbody>\n",
       "    <tr>\n",
       "      <th>4127</th>\n",
       "      <td>Labrador Retriever</td>\n",
       "      <td>102</td>\n",
       "    </tr>\n",
       "    <tr>\n",
       "      <th>4073</th>\n",
       "      <td>Golden Retriever</td>\n",
       "      <td>96</td>\n",
       "    </tr>\n",
       "    <tr>\n",
       "      <th>4118</th>\n",
       "      <td>Labrador Retriever</td>\n",
       "      <td>81</td>\n",
       "    </tr>\n",
       "    <tr>\n",
       "      <th>4023</th>\n",
       "      <td>Chihuahua kurzhaariger Schlag</td>\n",
       "      <td>77</td>\n",
       "    </tr>\n",
       "    <tr>\n",
       "      <th>4142</th>\n",
       "      <td>Malteser</td>\n",
       "      <td>57</td>\n",
       "    </tr>\n",
       "    <tr>\n",
       "      <th>4236</th>\n",
       "      <td>Yorkshire Terrier</td>\n",
       "      <td>46</td>\n",
       "    </tr>\n",
       "    <tr>\n",
       "      <th>4045</th>\n",
       "      <td>Deutscher SchÃ¤ferhund</td>\n",
       "      <td>44</td>\n",
       "    </tr>\n",
       "    <tr>\n",
       "      <th>4039</th>\n",
       "      <td>Dackel</td>\n",
       "      <td>39</td>\n",
       "    </tr>\n",
       "    <tr>\n",
       "      <th>4149</th>\n",
       "      <td>Mops</td>\n",
       "      <td>35</td>\n",
       "    </tr>\n",
       "    <tr>\n",
       "      <th>4104</th>\n",
       "      <td>Jack-Russell-Terrier</td>\n",
       "      <td>35</td>\n",
       "    </tr>\n",
       "  </tbody>\n",
       "</table>\n",
       "</div>"
      ],
      "text/plain": [
       "                            Breed_1  Anzahl\n",
       "4127             Labrador Retriever     102\n",
       "4073               Golden Retriever      96\n",
       "4118             Labrador Retriever      81\n",
       "4023  Chihuahua kurzhaariger Schlag      77\n",
       "4142                       Malteser      57\n",
       "4236              Yorkshire Terrier      46\n",
       "4045         Deutscher SchÃ¤ferhund      44\n",
       "4039                         Dackel      39\n",
       "4149                           Mops      35\n",
       "4104           Jack-Russell-Terrier      35"
      ]
     },
     "execution_count": 350,
     "metadata": {},
     "output_type": "execute_result"
    }
   ],
   "source": [
    "# analyse district stats\n",
    "district = 1190\n",
    "dogs_district = filtered_dogs[(data['Postal_CODE']==district)][['Breed_1', 'Anzahl']]\n",
    "top_dogs_district = dogs_district.sort_values(ascending=False, by='Anzahl')[:10]\n",
    "top_dogs_district"
   ]
  },
  {
   "cell_type": "code",
   "execution_count": 309,
   "metadata": {
    "collapsed": false
   },
   "outputs": [
    {
     "data": {
      "text/plain": [
       "[<matplotlib.text.Text at 0x122678190>, <matplotlib.text.Text at 0x122672f10>]"
      ]
     },
     "execution_count": 309,
     "metadata": {},
     "output_type": "execute_result"
    },
    {
     "data": {
      "image/png": "[encoded data removed]",
      "text/plain": [
       "<matplotlib.figure.Figure at 0x1233a2650>"
      ]
     },
     "metadata": {},
     "output_type": "display_data"
    }
   ],
   "source": [
    "ax = sns.barplot(data=top_dogs_district,palette='colorblind', x='Anzahl', y='Breed_1')\n",
    "ax.set(ylabel='Types of dogs', xlabel='Number of  dogs')"
   ]
  },
  {
   "cell_type": "markdown",
   "metadata": {},
   "source": [
    "## Lessons Learned\n",
    "\n",
    "### Dogs in Vienna\n",
    "\n",
    "Based on the data available we were able to provide comprehensive answers to the set of research questions proposed in the introduction.\n",
    "\n",
    "1. There are about 56 thousand dogs registered in Vienna of 1,060 different breeds.\n",
    "2. Chihuahuas and Labradors are the top choices of Viennese people.\n",
    "3. It is easy to spot the districts with specific dog breeds using open data, but the dog gender data is not available.\n",
    "4. If you do not like dogs you probably want to leave in the 1st or 8th districts, where there are few dogs (everyone wants to live in the 1st or 8th districts anyway!). However, the major reason why there are few dogs there is that these districs are relatively small themselves (yes, they are part of the Old City center).\n",
    "5. After correcting the number of dogs with the size of the population, 5th and 15th districts appear at the top of the dog-haters list. Why? Do people who do not like dogs tend to flock together or there are other factors influencing their decision not to have a dog? Maybe these numbers indicate that there are no proper facilities for having a dog in these districts (such as dog playgrounds)? You might want to reconsider your decision to move there if you prefer to have a dog.\n",
    "\n",
    "### Open Data Quality\n",
    "    1. Descriptions\n",
    "    2. Formatting\n",
    "    \n",
    "### Process\n",
    "    1. Find datasets, e.g. CSV files from open data portals\n",
    "    2. Refine: \n",
    "        2.1. Process CSVs, i.e. identify column separator, thousands separator, rows to skip, string encoding, etc.\n",
    "        2.2. Identify numeric data, e.g. sums or counts, that can be compared and aggregated.\n",
    "        2.3. Split strings into several columns.\n",
    "        2.4. Correct some data values manually.\n",
    "    3. Slice: filter out rows, e.g. by district or type.\n",
    "    4. Sort data by count (visualize ranking as a barplot).\n",
    "    5. Aggregate: group by different attributes, e.g. district or type, and sum up the counts.\n",
    "    6. Join datasets on the common key, e.g. district code identifier.\n",
    "    7. Check correlations between columns.\n",
    "\n",
    "## Inspired by\n",
    "1. [Detail Analysis of various Hospital factors](https://www.kaggle.com/nirajvermafcb/d/cms/hospital-general-information/detail-analysis-of-various-hospital-factors)\n",
    "2. Wheelan, Charles J. Naked Statistics. 2013"
   ]
  }
 ],
 "metadata": {
  "anaconda-cloud": {},
  "kernelspec": {
   "display_name": "Python [default]",
   "language": "python",
   "name": "python2"
  },
  "language_info": {
   "codemirror_mode": {
    "name": "ipython",
    "version": 2
   },
   "file_extension": ".py",
   "mimetype": "text/x-python",
   "name": "python",
   "nbconvert_exporter": "python",
   "pygments_lexer": "ipython2",
   "version": "2.7.12"
  }
 },
 "nbformat": 4,
 "nbformat_minor": 1
}
