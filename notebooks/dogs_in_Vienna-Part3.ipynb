{
 "cells": [
  {
   "cell_type": "markdown",
   "metadata": {
    "extensions": {
     "jupyter_dashboards": {
      "version": 1,
      "views": {
       "grid_default": {
        "col": 0,
        "height": 4,
        "hidden": false,
        "row": 0,
        "width": 12
       },
       "report_default": {}
      }
     }
    }
   },
   "source": [
    "# Wiener dog in Vienna: Open Data Dashboard Tutorial\n",
    "This is a sample script showing how an open data datasets can be analysed and demonstrated using [Jupiter Notebooks](http://jupyter.org) and [Declarative Widgets](https://github.com/jupyter/declarativewidgets). We take the dog statistics data in Vienna as a sample use case to demonstrate common approaches to analyse open data. Similar examples can be found on http://jupyter.cloudet.xyz."
   ]
  },
  {
   "cell_type": "markdown",
   "metadata": {
    "extensions": {
     "jupyter_dashboards": {
      "version": 1,
      "views": {
       "grid_default": {
        "col": 0,
        "height": 9,
        "hidden": true,
        "row": 4,
        "width": 12
       },
       "report_default": {}
      }
     }
    }
   },
   "source": [
    "## Open Data Story\n",
    "It is useful to define a set of possible research questions that define the goal of the data study and refine them along the way since the availablity of data suggests possible ways to combine and explore it.\n",
    "\n",
    "### Research Questions\n",
    "1. Which Vienna districts are most fond of Wiener dogs?\n",
    "2. How many Wiener dogs are there in my district?\n",
    "\n",
    "This time we do not only find answers to our questions, but also create a web dashboard with interactive visualization to share our findings with others."
   ]
  },
  {
   "cell_type": "markdown",
   "metadata": {
    "extensions": {
     "jupyter_dashboards": {
      "version": 1,
      "views": {
       "grid_default": {
        "col": 0,
        "height": 5,
        "hidden": true,
        "row": 13,
        "width": 12
       },
       "report_default": {}
      }
     }
    }
   },
   "source": [
    "## Get the Data\n",
    "We described how to load and preprocess the dataset in the [previous post](). It is often not that trivial as it may seem and involves a lot of data wrangling and debugging in order to find and eliminate possible errors or inconsistences in the dataset. \n",
    "\n",
    "This step should not be underestimated since it defines the final result of our data analysis.\n",
    "Remember: \"Garbage in,  garbage out!\""
   ]
  },
  {
   "cell_type": "code",
   "execution_count": 198,
   "metadata": {
    "collapsed": false,
    "extensions": {
     "jupyter_dashboards": {
      "version": 1,
      "views": {
       "grid_default": {
        "col": 0,
        "height": 8,
        "hidden": true,
        "row": 13,
        "width": 4
       },
       "report_default": {}
      }
     }
    }
   },
   "outputs": [
    {
     "data": {
      "text/html": [
       "<div>\n",
       "<table border=\"1\" class=\"dataframe\">\n",
       "  <thead>\n",
       "    <tr style=\"text-align: right;\">\n",
       "      <th></th>\n",
       "      <th>District</th>\n",
       "      <th>Dog_Breed</th>\n",
       "      <th>Dog_Count</th>\n",
       "    </tr>\n",
       "  </thead>\n",
       "  <tbody>\n",
       "    <tr>\n",
       "      <th>0</th>\n",
       "      <td>90100</td>\n",
       "      <td>Afghanischer Windhund</td>\n",
       "      <td>1</td>\n",
       "    </tr>\n",
       "    <tr>\n",
       "      <th>1</th>\n",
       "      <td>90100</td>\n",
       "      <td>Amerikanischer Pit-Bullterrier</td>\n",
       "      <td>1</td>\n",
       "    </tr>\n",
       "    <tr>\n",
       "      <th>2</th>\n",
       "      <td>90100</td>\n",
       "      <td>Amerikanischer Staffordshire-Terrier</td>\n",
       "      <td>5</td>\n",
       "    </tr>\n",
       "    <tr>\n",
       "      <th>3</th>\n",
       "      <td>90100</td>\n",
       "      <td>Australian Shepherd Dog</td>\n",
       "      <td>3</td>\n",
       "    </tr>\n",
       "    <tr>\n",
       "      <th>4</th>\n",
       "      <td>90100</td>\n",
       "      <td>Australian Terrier</td>\n",
       "      <td>1</td>\n",
       "    </tr>\n",
       "  </tbody>\n",
       "</table>\n",
       "</div>"
      ],
      "text/plain": [
       "   District                             Dog_Breed  Dog_Count\n",
       "0     90100                 Afghanischer Windhund          1\n",
       "1     90100        Amerikanischer Pit-Bullterrier          1\n",
       "2     90100  Amerikanischer Staffordshire-Terrier          5\n",
       "3     90100               Australian Shepherd Dog          3\n",
       "4     90100                    Australian Terrier          1"
      ]
     },
     "execution_count": 198,
     "metadata": {},
     "output_type": "execute_result"
    }
   ],
   "source": [
    "# Load libraries\n",
    "import pandas as pd # CSV file processing\n",
    "import numpy as np # vector and matrix manipulation\n",
    "\n",
    "# Load the csv file from the open data portal\n",
    "# dataset description: https://www.data.gv.at/katalog/dataset/stadt-wien_anzahlderhundeprobezirkderstadtwien/resource/b8d97349-c993-486d-b273-362e0524f98c\n",
    "data_path = 'https://www.wien.gv.at/finanzen/ogd/hunde-wien.csv'\n",
    "# Look up the row file and specify the dataset format, e.g. delimiters\n",
    "data = pd.read_csv(data_path, delimiter=';', skiprows=1, thousands=',', encoding='latin-1')\n",
    "\n",
    "# Correct individual values in the dataset\n",
    "data.loc[1914, 'Anzahl'] = 1510\n",
    "data.loc[5347, 'Anzahl'] = 2460\n",
    "\n",
    "# Carefully select the string separator, including spaces!\n",
    "separate_breeds = data['Dog Breed'].str.split(' / ', expand=True)\n",
    "separate_breeds.columns = [\"Breed_1\", \"Breed_2\"]\n",
    "data = pd.concat([data, separate_breeds], axis=1)\n",
    "\n",
    "# Correct encoding for special characters in german alphabet\n",
    "def to_utf(x):\n",
    "    return x.encode('latin-1').decode('utf8') if isinstance(x, str) else x   \n",
    "data = data.applymap(to_utf)\n",
    "\n",
    "# Aggregate\n",
    "data = data.groupby(['DISTRICT_CODE', 'Breed_1'])['Anzahl'].aggregate(np.sum).reset_index()\n",
    "data.columns = [\"District\", \"Dog_Breed\", \"Dog_Count\"]\n",
    "\n",
    "# Check the top of the table to make sure the dataset is loaded correctly \n",
    "data.head()"
   ]
  },
  {
   "cell_type": "markdown",
   "metadata": {
    "extensions": {
     "jupyter_dashboards": {
      "version": 1,
      "views": {
       "grid_default": {
        "col": 0,
        "height": 4,
        "hidden": true,
        "row": 21,
        "width": 4
       },
       "report_default": {}
      }
     }
    }
   },
   "source": [
    "## Show the Data\n",
    "### Interactive Table"
   ]
  },
  {
   "cell_type": "code",
   "execution_count": 199,
   "metadata": {
    "collapsed": false,
    "extensions": {
     "jupyter_dashboards": {
      "version": 1,
      "views": {
       "grid_default": {
        "hidden": true
       },
       "report_default": {}
      }
     }
    }
   },
   "outputs": [
    {
     "data": {
      "application/javascript": [
       "\n",
       "        window.Urth = window.Urth || {};\n",
       "        Urth._initialized = Urth._initialized || $.Deferred();\n",
       "        Urth.whenReady = Urth.whenReady || function(cb) {\n",
       "            Urth._initialized.then(function() {\n",
       "                Urth.whenReady(cb);\n",
       "            });\n",
       "        };\n",
       "        Urth.whenReady(function() { console.log(\"Declarative widgets connected.\") });\n",
       "        "
      ],
      "text/plain": [
       "<IPython.core.display.Javascript object>"
      ]
     },
     "metadata": {},
     "output_type": "display_data"
    }
   ],
   "source": [
    "# Load library for the interactive visualizations\n",
    "import declarativewidgets\n",
    "declarativewidgets.init()"
   ]
  },
  {
   "cell_type": "markdown",
   "metadata": {
    "extensions": {
     "jupyter_dashboards": {
      "version": 1,
      "views": {
       "grid_default": {
        "col": 8,
        "height": 4,
        "hidden": true,
        "row": 13,
        "width": 4
       },
       "report_default": {}
      }
     }
    }
   },
   "source": [
    "Import widgets"
   ]
  },
  {
   "cell_type": "code",
   "execution_count": 200,
   "metadata": {
    "collapsed": false,
    "extensions": {
     "jupyter_dashboards": {
      "version": 1,
      "views": {
       "grid_default": {
        "col": 0,
        "height": 4,
        "hidden": true,
        "row": 13,
        "width": 4
       },
       "report_default": {}
      }
     }
    }
   },
   "outputs": [
    {
     "data": {
      "text/html": [
       "<link rel=\"import\" href=\"urth_components/urth-viz-table/urth-viz-table.html\" is='urth-core-import'>\n",
       "<link rel=\"import\" href=\"urth_components/paper-input/paper-input.html\" is='urth-core-import' package='PolymerElements/paper-input'>"
      ],
      "text/plain": [
       "<IPython.core.display.HTML object>"
      ]
     },
     "metadata": {},
     "output_type": "display_data"
    }
   ],
   "source": [
    "%%html\n",
    "<link rel=\"import\" href=\"urth_components/urth-viz-table/urth-viz-table.html\" is='urth-core-import'>\n",
    "<link rel=\"import\" href=\"urth_components/paper-input/paper-input.html\" is='urth-core-import' package='PolymerElements/paper-input'>"
   ]
  },
  {
   "cell_type": "markdown",
   "metadata": {
    "extensions": {
     "jupyter_dashboards": {
      "version": 1,
      "views": {
       "grid_default": {
        "col": 4,
        "height": 4,
        "hidden": true,
        "row": 13,
        "width": 4
       },
       "report_default": {}
      }
     }
    }
   },
   "source": [
    "Write functions to load and process data in the table"
   ]
  },
  {
   "cell_type": "code",
   "execution_count": 202,
   "metadata": {
    "collapsed": true,
    "extensions": {
     "jupyter_dashboards": {
      "version": 1,
      "views": {
       "grid_default": {
        "hidden": true
       },
       "report_default": {}
      }
     }
    }
   },
   "outputs": [],
   "source": [
    "# Match pattern\n",
    "def filter_by_pattern(df, pattern):\n",
    "    \"\"\"Filter a DataFrame so that it only includes rows where the Dog Breed\n",
    "    column contains pattern, case-insensitive.\n",
    "    \"\"\"\n",
    "    return df[df['Dog_Breed'].str.contains(pattern, case=False)]\n",
    "\n",
    "# Load data\n",
    "def dogs_table(pattern=''):\n",
    "    \"\"\"Build a DataFrame.   \n",
    "    \"\"\"\n",
    "    # Use match pattern\n",
    "    df = data.pipe(filter_by_pattern, pattern)     \n",
    "    return df"
   ]
  },
  {
   "cell_type": "code",
   "execution_count": 218,
   "metadata": {
    "collapsed": false,
    "extensions": {
     "jupyter_dashboards": {
      "version": 1,
      "views": {
       "grid_default": {
        "col": 0,
        "height": 8,
        "hidden": false,
        "row": 4,
        "width": 8
       },
       "report_default": {}
      }
     }
    }
   },
   "outputs": [
    {
     "data": {
      "text/html": [
       "<template is=\"urth-core-bind\">\n",
       "    <paper-input value=\"{{pattern}}\" label=\"Filter by dog breed\" ></paper-input>\n",
       "</template>\n",
       "\n",
       "<template is=\"urth-core-bind\">\n",
       "\n",
       "    <urth-core-function ref=\"dogs_table\"  \n",
       "                        arg-pattern=\"{{pattern}}\" \n",
       "                        result=\"{{dogs_table}}\" \n",
       "                        limit=\"1600 \"\n",
       "                        delay=\"500\" \n",
       "                        auto>\n",
       "    </urth-core-function>\n",
       "    \n",
       "    <urth-viz-table datarows=\"{{ dogs_table.data }}\" \n",
       "                    rows-visible=\"5\" \n",
       "                    selection=\"{{dog_selection}}\" \n",
       "                    columns=\"{{ dogs_table.columns }}\" \n",
       "                    selection-as-object>\n",
       "    </urth-viz-table>\n",
       "    \n",
       "</template>"
      ],
      "text/plain": [
       "<IPython.core.display.HTML object>"
      ]
     },
     "metadata": {},
     "output_type": "display_data"
    }
   ],
   "source": [
    "%%html\n",
    "<template is=\"urth-core-bind\">\n",
    "    <paper-input value=\"{{pattern}}\" label=\"Filter by dog breed\" ></paper-input>\n",
    "</template>\n",
    "\n",
    "<template is=\"urth-core-bind\">\n",
    "\n",
    "    <urth-core-function ref=\"dogs_table\"  \n",
    "                        arg-pattern=\"{{pattern}}\" \n",
    "                        result=\"{{dogs_table}}\" \n",
    "                        limit=\"1600 \"\n",
    "                        delay=\"500\" \n",
    "                        auto>\n",
    "    </urth-core-function>\n",
    "    \n",
    "    <urth-viz-table datarows=\"{{ dogs_table.data }}\" \n",
    "                    rows-visible=\"5\" \n",
    "                    selection=\"{{dog_selection}}\" \n",
    "                    columns=\"{{ dogs_table.columns }}\" \n",
    "                    selection-as-object>\n",
    "    </urth-viz-table>\n",
    "    \n",
    "</template>"
   ]
  },
  {
   "cell_type": "markdown",
   "metadata": {
    "extensions": {
     "jupyter_dashboards": {
      "version": 1,
      "views": {
       "grid_default": {
        "col": 4,
        "height": 4,
        "hidden": true,
        "row": 13,
        "width": 4
       },
       "report_default": {}
      }
     }
    }
   },
   "source": [
    "### Interactive Bar Chart"
   ]
  },
  {
   "cell_type": "code",
   "execution_count": 204,
   "metadata": {
    "collapsed": false,
    "extensions": {
     "jupyter_dashboards": {
      "version": 1,
      "views": {
       "grid_default": {
        "col": 0,
        "height": 8,
        "hidden": true,
        "row": 31,
        "width": 4
       },
       "report_default": {}
      }
     }
    }
   },
   "outputs": [
    {
     "data": {
      "text/html": [
       "<div>\n",
       "<table border=\"1\" class=\"dataframe\">\n",
       "  <thead>\n",
       "    <tr style=\"text-align: right;\">\n",
       "      <th></th>\n",
       "      <th>District</th>\n",
       "      <th>Dog_Breed</th>\n",
       "      <th>Dog_Percent</th>\n",
       "    </tr>\n",
       "  </thead>\n",
       "  <tbody>\n",
       "    <tr>\n",
       "      <th>0</th>\n",
       "      <td>90100</td>\n",
       "      <td>Afghanischer Windhund</td>\n",
       "      <td>0.2</td>\n",
       "    </tr>\n",
       "    <tr>\n",
       "      <th>1</th>\n",
       "      <td>90100</td>\n",
       "      <td>Amerikanischer Pit-Bullterrier</td>\n",
       "      <td>0.2</td>\n",
       "    </tr>\n",
       "    <tr>\n",
       "      <th>2</th>\n",
       "      <td>90100</td>\n",
       "      <td>Amerikanischer Staffordshire-Terrier</td>\n",
       "      <td>1.1</td>\n",
       "    </tr>\n",
       "    <tr>\n",
       "      <th>3</th>\n",
       "      <td>90100</td>\n",
       "      <td>Australian Shepherd Dog</td>\n",
       "      <td>0.6</td>\n",
       "    </tr>\n",
       "    <tr>\n",
       "      <th>4</th>\n",
       "      <td>90100</td>\n",
       "      <td>Australian Terrier</td>\n",
       "      <td>0.2</td>\n",
       "    </tr>\n",
       "  </tbody>\n",
       "</table>\n",
       "</div>"
      ],
      "text/plain": [
       "   District                             Dog_Breed  Dog_Percent\n",
       "0     90100                 Afghanischer Windhund          0.2\n",
       "1     90100        Amerikanischer Pit-Bullterrier          0.2\n",
       "2     90100  Amerikanischer Staffordshire-Terrier          1.1\n",
       "3     90100               Australian Shepherd Dog          0.6\n",
       "4     90100                    Australian Terrier          0.2"
      ]
     },
     "execution_count": 204,
     "metadata": {},
     "output_type": "execute_result"
    }
   ],
   "source": [
    "# Create Multi-index\n",
    "district_stats = data.set_index(['District', 'Dog_Breed'])\n",
    "# Calculate percentages\n",
    "breed_percents = (district_stats.div(district_stats.sum(axis=0, level=0), level=0) * 100).round(1).reset_index()\n",
    "# Rename column\n",
    "breed_percents = breed_percents.rename(columns = {'Dog_Count':'Dog_Percent'})\n",
    "# Preview\n",
    "breed_percents.head()"
   ]
  },
  {
   "cell_type": "code",
   "execution_count": 206,
   "metadata": {
    "collapsed": false,
    "extensions": {
     "jupyter_dashboards": {
      "version": 1,
      "views": {
       "grid_default": {
        "col": 4,
        "height": 7,
        "hidden": true,
        "row": 13,
        "width": 4
       },
       "report_default": {}
      }
     }
    }
   },
   "outputs": [
    {
     "data": {
      "text/html": [
       "<div>\n",
       "<table border=\"1\" class=\"dataframe\">\n",
       "  <thead>\n",
       "    <tr style=\"text-align: right;\">\n",
       "      <th></th>\n",
       "      <th>District</th>\n",
       "      <th>Percent_of_Dackel</th>\n",
       "    </tr>\n",
       "  </thead>\n",
       "  <tbody>\n",
       "    <tr>\n",
       "      <th>454</th>\n",
       "      <td>90400</td>\n",
       "      <td>3.6</td>\n",
       "    </tr>\n",
       "    <tr>\n",
       "      <th>1971</th>\n",
       "      <td>91500</td>\n",
       "      <td>3.3</td>\n",
       "    </tr>\n",
       "    <tr>\n",
       "      <th>777</th>\n",
       "      <td>90700</td>\n",
       "      <td>3.2</td>\n",
       "    </tr>\n",
       "    <tr>\n",
       "      <th>2266</th>\n",
       "      <td>91700</td>\n",
       "      <td>3.2</td>\n",
       "    </tr>\n",
       "    <tr>\n",
       "      <th>573</th>\n",
       "      <td>90500</td>\n",
       "      <td>3.1</td>\n",
       "    </tr>\n",
       "  </tbody>\n",
       "</table>\n",
       "</div>"
      ],
      "text/plain": [
       "      District  Percent_of_Dackel\n",
       "454      90400                3.6\n",
       "1971     91500                3.3\n",
       "777      90700                3.2\n",
       "2266     91700                3.2\n",
       "573      90500                3.1"
      ]
     },
     "execution_count": 206,
     "metadata": {},
     "output_type": "execute_result"
    }
   ],
   "source": [
    "breed = 'Dackel'\n",
    "# Filter\n",
    "breed_districts = breed_percents[(breed_percents['Dog_Breed'] == breed)]\n",
    "# Remove column\n",
    "breed_districts = breed_districts.drop('Dog_Breed', axis=1)\n",
    "# Sort\n",
    "breed_districts = breed_districts.sort_values(ascending=False, by='Dog_Percent')\n",
    "# Rename column\n",
    "breed_districts = breed_districts.rename(columns = {'Dog_Percent':'Percent_of_' + breed})\n",
    "breed_districts.head()"
   ]
  },
  {
   "cell_type": "markdown",
   "metadata": {
    "extensions": {
     "jupyter_dashboards": {
      "version": 1,
      "views": {
       "grid_default": {
        "hidden": true
       },
       "report_default": {}
      }
     }
    }
   },
   "source": [
    "Create function to load percents per district given the breed"
   ]
  },
  {
   "cell_type": "code",
   "execution_count": 215,
   "metadata": {
    "collapsed": true,
    "extensions": {
     "jupyter_dashboards": {
      "version": 1,
      "views": {
       "grid_default": {
        "hidden": true
       },
       "report_default": {}
      }
     }
    }
   },
   "outputs": [],
   "source": [
    "# Filter data\n",
    "def dogs_bar_chart(breed='Dackel'):\n",
    "    \"\"\"Build a DataFrame.   \n",
    "    \"\"\"\n",
    "    # Filter\n",
    "    df = breed_percents[(breed_percents['Dog_Breed'] == breed)]\n",
    "    # Use match pattern\n",
    "#     df = breed_percents.pipe(filter_by_pattern, breed)\n",
    "    # Remove column\n",
    "    df = df.drop('Dog_Breed', axis=1)\n",
    "    # Sort\n",
    "    df = df.sort_values(ascending=False, by='Dog_Percent')\n",
    "    # Rename column\n",
    "    df = df.rename(columns = {'Dog_Percent':'Percent_of_' + breed})  \n",
    "    return df"
   ]
  },
  {
   "cell_type": "markdown",
   "metadata": {
    "extensions": {
     "jupyter_dashboards": {
      "version": 1,
      "views": {
       "grid_default": {
        "col": 5,
        "height": 4,
        "hidden": true,
        "row": 4,
        "width": 4
       },
       "report_default": {}
      }
     }
    }
   },
   "source": [
    "Import bar chart widget"
   ]
  },
  {
   "cell_type": "code",
   "execution_count": 216,
   "metadata": {
    "collapsed": false,
    "extensions": {
     "jupyter_dashboards": {
      "version": 1,
      "views": {
       "grid_default": {
        "col": 8,
        "height": 4,
        "hidden": true,
        "row": 13,
        "width": 4
       },
       "report_default": {}
      }
     }
    }
   },
   "outputs": [
    {
     "data": {
      "text/html": [
       "<link rel=\"import\" href=\"urth_components/urth-viz-bar/urth-viz-bar.html\" is='urth-core-import'>"
      ],
      "text/plain": [
       "<IPython.core.display.HTML object>"
      ]
     },
     "metadata": {},
     "output_type": "display_data"
    }
   ],
   "source": [
    "%%html\n",
    "<link rel=\"import\" href=\"urth_components/urth-viz-bar/urth-viz-bar.html\" is='urth-core-import'>"
   ]
  },
  {
   "cell_type": "code",
   "execution_count": 217,
   "metadata": {
    "collapsed": false,
    "extensions": {
     "jupyter_dashboards": {
      "version": 1,
      "views": {
       "grid_default": {
        "col": 0,
        "height": 18,
        "hidden": false,
        "row": 12,
        "width": 12
       },
       "report_default": {}
      }
     }
    }
   },
   "outputs": [
    {
     "data": {
      "text/html": [
       "<template is=\"urth-core-bind\">\n",
       "    <urth-core-function ref=\"dogs_bar_chart\"  \n",
       "                        arg-breed=\"{{dog_selection.Dog_Breed}}\" \n",
       "                        result=\"{{df}}\" \n",
       "                        limit=\"1600 \"\n",
       "                        delay=\"500\" \n",
       "                        auto>\n",
       "    </urth-core-function>\n",
       "    <urth-viz-bar xlabel=\"Districts\" ylabel=\"% to the total number of dogs in the district\" datarows=\"{{df.data}}\" columns=\"{{df.columns}}\"></urth-viz-bar>\n",
       "</template>"
      ],
      "text/plain": [
       "<IPython.core.display.HTML object>"
      ]
     },
     "metadata": {},
     "output_type": "display_data"
    }
   ],
   "source": [
    "%%html\n",
    "<template is=\"urth-core-bind\">\n",
    "    <urth-core-function ref=\"dogs_bar_chart\"  \n",
    "                        arg-breed=\"{{dog_selection.Dog_Breed}}\" \n",
    "                        result=\"{{df}}\" \n",
    "                        limit=\"1600 \"\n",
    "                        delay=\"500\" \n",
    "                        auto>\n",
    "    </urth-core-function>\n",
    "    <urth-viz-bar xlabel=\"Districts\" ylabel=\"% to the total number of dogs in the district\" datarows=\"{{df.data}}\" columns=\"{{df.columns}}\"></urth-viz-bar>\n",
    "</template>"
   ]
  },
  {
   "cell_type": "markdown",
   "metadata": {
    "extensions": {
     "jupyter_dashboards": {
      "version": 1,
      "views": {
       "grid_default": {
        "col": 0,
        "height": 4,
        "hidden": true,
        "row": 30,
        "width": 12
       },
       "report_default": {}
      }
     }
    }
   },
   "source": [
    "## Lessons Learned\n",
    "\n",
    "### Dogs in Vienna\n",
    "\n",
    "Based on the data available we were able to provide comprehensive answers to the set of research questions proposed in the introduction.\n",
    "\n",
    "1. The true fans of Wiener dogs live in the 4th district of Vienna.\n",
    "2. Wiener dogs are underreprestented in Leoplodstadt (2nd district). They constitute only 2% of the dog population.\n",
    "\n",
    "    \n",
    "### Steps\n",
    "    1. Find datasets, e.g. CSV files from open data portals\n",
    "    2. Refine: identify column separator, thousands separator, rows to skip, string encoding, etc.\n",
    "    3. Aggregate: group by different attributes, e.g. district or type, and sum up the counts.\n",
    "    + 4. Show the row data table for the user to be able to interact with the data.\n",
    "    5. Calculate proportions to the total sum in the group.\n",
    "    6. Slice: filter out rows, e.g. by district or type.\n",
    "    + 7. Show sorted stats as a bar chart.\n",
    "    \n",
    " \n",
    "    \n",
    "## Prerequisites\n",
    "\n",
    "To run this script on a local machine you need: \n",
    "\n",
    "* Python 3.4.\n",
    "* pandas\n",
    "* numpy\n",
    "* jupyter_declarativewidgets\n",
    "\n",
    "\n",
    "## Inspired by\n",
    "1. [Health Inspections Dashboard](https://github.com/jupyter-resources/tutorial-dashboards-declarativewidgets)\n",
    "2. Wheelan, Charles J. Naked Statistics. 2013"
   ]
  }
 ],
 "metadata": {
  "anaconda-cloud": {},
  "extensions": {
   "jupyter_dashboards": {
    "activeView": "grid_default",
    "version": 1,
    "views": {
     "grid_default": {
      "cellMargin": 10,
      "defaultCellHeight": 20,
      "maxColumns": 12,
      "name": "grid",
      "type": "grid"
     },
     "report_default": {
      "name": "report",
      "type": "report"
     }
    }
   }
  },
  "kernelspec": {
   "display_name": "Python [conda env:py3]",
   "language": "python",
   "name": "conda-env-py3-py"
  },
  "language_info": {
   "codemirror_mode": {
    "name": "ipython",
    "version": 3
   },
   "file_extension": ".py",
   "mimetype": "text/x-python",
   "name": "python",
   "nbconvert_exporter": "python",
   "pygments_lexer": "ipython3",
   "version": "3.4.5"
  }
 },
 "nbformat": 4,
 "nbformat_minor": 1
}
