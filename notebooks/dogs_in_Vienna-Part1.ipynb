{
 "cells": [
  {
   "cell_type": "markdown",
   "metadata": {},
   "source": [
    "# Dogs in Vienna. Part 1: Open Data Analysis Tutorial\n",
    "This is a sample script showing how an open data datasets can be analysed and demonstrated using [Jupiter Notebooks](http://jupyter.org). We take the dog statistics data in Vienna as a sample use case to demonstrate common approaches to analysing open data. Similar examples can be found on [Kaggle web-site](https://www.kaggle.com/kernels)."
   ]
  },
  {
   "cell_type": "markdown",
   "metadata": {},
   "source": [
    "## Open Data Story\n",
    "It is useful to define a set of possible research questions that define the goal of the data study and refine them along the way since the availablity of data suggests possible ways to combine and explore it.\n",
    "\n",
    "### Research Questions\n",
    "1. How many dogs are there in Vienna?\n",
    "2. Which dogs do Viennese people like the most?\n",
    "3. Where should I live if I do not like dogs?\n",
    "4. What is the dog situation in my district?"
   ]
  },
  {
   "cell_type": "markdown",
   "metadata": {},
   "source": [
    "## Get the Data\n",
    "We described how to load and preprocess the dataset in the [previous post](). It is often not that trivial as it may seem and involves a lot of data wrangling and debugging in order to find and eliminate possible errors or inconsistences in the dataset. \n",
    "\n",
    "This step should not be underestimated since it defines the final result of our data analysis.\n",
    "Remember: \"Garbage in,  garbage out!\""
   ]
  },
  {
   "cell_type": "code",
   "execution_count": 10,
   "metadata": {
    "collapsed": false
   },
   "outputs": [
    {
     "data": {
      "text/html": [
       "<div>\n",
       "<table border=\"1\" class=\"dataframe\">\n",
       "  <thead>\n",
       "    <tr style=\"text-align: right;\">\n",
       "      <th></th>\n",
       "      <th>District</th>\n",
       "      <th>Dog Breed</th>\n",
       "      <th>Dog Count</th>\n",
       "    </tr>\n",
       "  </thead>\n",
       "  <tbody>\n",
       "    <tr>\n",
       "      <th>0</th>\n",
       "      <td>90100</td>\n",
       "      <td>Afghanischer Windhund</td>\n",
       "      <td>1</td>\n",
       "    </tr>\n",
       "    <tr>\n",
       "      <th>1</th>\n",
       "      <td>90100</td>\n",
       "      <td>Amerikanischer Pit-Bullterrier</td>\n",
       "      <td>1</td>\n",
       "    </tr>\n",
       "    <tr>\n",
       "      <th>2</th>\n",
       "      <td>90100</td>\n",
       "      <td>Amerikanischer Staffordshire-Terrier</td>\n",
       "      <td>5</td>\n",
       "    </tr>\n",
       "    <tr>\n",
       "      <th>3</th>\n",
       "      <td>90100</td>\n",
       "      <td>Australian Shepherd Dog</td>\n",
       "      <td>3</td>\n",
       "    </tr>\n",
       "    <tr>\n",
       "      <th>4</th>\n",
       "      <td>90100</td>\n",
       "      <td>Australian Terrier</td>\n",
       "      <td>1</td>\n",
       "    </tr>\n",
       "  </tbody>\n",
       "</table>\n",
       "</div>"
      ],
      "text/plain": [
       "   District                             Dog Breed  Dog Count\n",
       "0     90100                 Afghanischer Windhund          1\n",
       "1     90100        Amerikanischer Pit-Bullterrier          1\n",
       "2     90100  Amerikanischer Staffordshire-Terrier          5\n",
       "3     90100               Australian Shepherd Dog          3\n",
       "4     90100                    Australian Terrier          1"
      ]
     },
     "execution_count": 10,
     "metadata": {},
     "output_type": "execute_result"
    }
   ],
   "source": [
    "# Load libraries\n",
    "import pandas as pd # CSV file processing\n",
    "import numpy as np # vector and matrix manipulation\n",
    "\n",
    "# Load the csv file from the open data portal\n",
    "# dataset description: https://www.data.gv.at/katalog/dataset/stadt-wien_anzahlderhundeprobezirkderstadtwien/resource/b8d97349-c993-486d-b273-362e0524f98c\n",
    "data_path = 'https://www.wien.gv.at/finanzen/ogd/hunde-wien.csv'\n",
    "# Look up the row file and specify the dataset format, e.g. delimiters\n",
    "data = pd.read_csv(data_path, delimiter=';', skiprows=1, thousands=',', encoding='latin-1')\n",
    "\n",
    "# Correct individual values in the dataset\n",
    "data.loc[1914, 'Anzahl'] = 1510\n",
    "data.loc[5347, 'Anzahl'] = 2460\n",
    "\n",
    "# Carefully select the string separator, including spaces!\n",
    "separate_breeds = data['Dog Breed'].str.split(' / ', expand=True)\n",
    "separate_breeds.columns = [\"Breed_1\", \"Breed_2\"]\n",
    "data = pd.concat([data, separate_breeds], axis=1)\n",
    "\n",
    "# Correct encoding for special characters in german alphabet\n",
    "def to_utf(x):\n",
    "    return x.encode('latin-1').decode('utf8') if isinstance(x, str) else x   \n",
    "data = data.applymap(to_utf)\n",
    "\n",
    "# Aggregate\n",
    "data = data.groupby(['DISTRICT_CODE', 'Breed_1'])['Anzahl'].aggregate(np.sum).reset_index()\n",
    "data.columns = [\"District\", \"Dog Breed\", \"Dog Count\"]\n",
    "\n",
    "# Check the top of the table to make sure the dataset is loaded correctly \n",
    "data.head()"
   ]
  },
  {
   "cell_type": "code",
   "execution_count": 11,
   "metadata": {
    "collapsed": false
   },
   "outputs": [
    {
     "data": {
      "text/plain": [
       "(3463, 3)"
      ]
     },
     "execution_count": 11,
     "metadata": {},
     "output_type": "execute_result"
    }
   ],
   "source": [
    "data.shape"
   ]
  },
  {
   "cell_type": "markdown",
   "metadata": {},
   "source": [
    "Our dataset contains 3463 rows and 3 columns."
   ]
  },
  {
   "cell_type": "markdown",
   "metadata": {},
   "source": [
    "The district codes range from 90100 to 92300 indicating the 23 districts of Vienna (Wiener Bezirke)."
   ]
  },
  {
   "cell_type": "markdown",
   "metadata": {},
   "source": [
    "Now the data is ready to be analysed!"
   ]
  },
  {
   "cell_type": "markdown",
   "metadata": {},
   "source": [
    "## Analyse the Data\n",
    "### 1. How many dogs live in Vienna?\n",
    "\n",
    "This question is easy to answer using simple column statistics."
   ]
  },
  {
   "cell_type": "code",
   "execution_count": 12,
   "metadata": {
    "collapsed": false
   },
   "outputs": [
    {
     "data": {
      "text/plain": [
       "55929"
      ]
     },
     "execution_count": 12,
     "metadata": {},
     "output_type": "execute_result"
    }
   ],
   "source": [
    "sum(data['Dog Count'])"
   ]
  },
  {
   "cell_type": "markdown",
   "metadata": {},
   "source": [
    "Almost 56 thousand dogs are registered in Vienna."
   ]
  },
  {
   "cell_type": "markdown",
   "metadata": {},
   "source": [
    "### 2. Which dog breeds are the most popular in Vienna?\n",
    "\n",
    "Lets have a look at our dataset closer."
   ]
  },
  {
   "cell_type": "code",
   "execution_count": 13,
   "metadata": {
    "collapsed": false
   },
   "outputs": [
    {
     "data": {
      "text/html": [
       "<div>\n",
       "<table border=\"1\" class=\"dataframe\">\n",
       "  <thead>\n",
       "    <tr style=\"text-align: right;\">\n",
       "      <th></th>\n",
       "      <th>District</th>\n",
       "      <th>Dog Breed</th>\n",
       "      <th>Dog Count</th>\n",
       "    </tr>\n",
       "  </thead>\n",
       "  <tbody>\n",
       "    <tr>\n",
       "      <th>3251</th>\n",
       "      <td>92200</td>\n",
       "      <td>Unbekannt</td>\n",
       "      <td>2460</td>\n",
       "    </tr>\n",
       "    <tr>\n",
       "      <th>3025</th>\n",
       "      <td>92100</td>\n",
       "      <td>Unbekannt</td>\n",
       "      <td>2066</td>\n",
       "    </tr>\n",
       "    <tr>\n",
       "      <th>1244</th>\n",
       "      <td>91000</td>\n",
       "      <td>Unbekannt</td>\n",
       "      <td>1510</td>\n",
       "    </tr>\n",
       "    <tr>\n",
       "      <th>3447</th>\n",
       "      <td>92300</td>\n",
       "      <td>Unbekannt</td>\n",
       "      <td>1215</td>\n",
       "    </tr>\n",
       "    <tr>\n",
       "      <th>1412</th>\n",
       "      <td>91100</td>\n",
       "      <td>Unbekannt</td>\n",
       "      <td>1029</td>\n",
       "    </tr>\n",
       "  </tbody>\n",
       "</table>\n",
       "</div>"
      ],
      "text/plain": [
       "      District  Dog Breed  Dog Count\n",
       "3251     92200  Unbekannt       2460\n",
       "3025     92100  Unbekannt       2066\n",
       "1244     91000  Unbekannt       1510\n",
       "3447     92300  Unbekannt       1215\n",
       "1412     91100  Unbekannt       1029"
      ]
     },
     "execution_count": 13,
     "metadata": {},
     "output_type": "execute_result"
    }
   ],
   "source": [
    "# Check the top counts\n",
    "sorted_count = data.sort_values(['Dog Count'], ascending=False)\n",
    "sorted_count.head()"
   ]
  },
  {
   "cell_type": "markdown",
   "metadata": {},
   "source": [
    "Most of the dog breeds is unfortunately unknown (Unbekannt). It is not clear though, whether we do not know the breed of a dog or they do not know their breed themselves.\n",
    "\n",
    "Let's exclude the unknown and check how many different breeds we have in total."
   ]
  },
  {
   "cell_type": "code",
   "execution_count": 14,
   "metadata": {
    "collapsed": false
   },
   "outputs": [
    {
     "data": {
      "text/plain": [
       "320"
      ]
     },
     "execution_count": 14,
     "metadata": {},
     "output_type": "execute_result"
    }
   ],
   "source": [
    "# Filter out specific rows\n",
    "filtered_dogs = sorted_count.loc[data['Dog Breed']!='Unbekannt']\n",
    "# Check unique values in one of the columns\n",
    "unique_breeds = filtered_dogs['Dog Breed'].unique()\n",
    "len(unique_breeds)"
   ]
  },
  {
   "cell_type": "markdown",
   "metadata": {},
   "source": [
    "We have 320 different dog breeds in Vienna. How cool is that!"
   ]
  },
  {
   "cell_type": "markdown",
   "metadata": {},
   "source": [
    "By aggregating over districts we obtain a rating for the most popular dog breeds in whole Vienna:"
   ]
  },
  {
   "cell_type": "code",
   "execution_count": 20,
   "metadata": {
    "collapsed": false
   },
   "outputs": [
    {
     "data": {
      "text/plain": [
       "[<matplotlib.text.Text at 0x1148c9048>, <matplotlib.text.Text at 0x114da7630>]"
      ]
     },
     "execution_count": 20,
     "metadata": {},
     "output_type": "execute_result"
    },
    {
     "data": {
      "image/png": "[encoded data removed]",
      "text/plain": [
       "<matplotlib.figure.Figure at 0x114d05780>"
      ]
     },
     "metadata": {},
     "output_type": "display_data"
    }
   ],
   "source": [
    "breeds = filtered_dogs.groupby('Dog Breed')['Dog Count'].aggregate(np.sum)\n",
    "# Filter, sort and trim pandas Series\n",
    "top_dogs = breeds.sort_values(ascending=False)[:10]\n",
    "# Load library for visualisation\n",
    "import seaborn as sns\n",
    "# Command to show plots in notebook\n",
    "%matplotlib inline\n",
    "# Plot pandas Series\n",
    "ax = sns.barplot(palette='colorblind', x=top_dogs.values, y=list(top_dogs.index))\n",
    "ax.set(ylabel='Breed', xlabel='Number of dogs')"
   ]
  },
  {
   "cell_type": "markdown",
   "metadata": {},
   "source": [
    "Labradors and Chihuahuas are the top dog-pets among Viennese people. \n",
    "\n",
    "Wiener dog (Dackel) landed at position #8 in our Viennese dogs ranking. Sad... :("
   ]
  },
  {
   "cell_type": "markdown",
   "metadata": {},
   "source": [
    "### 3. Where should I live if I do not like dogs?\n",
    "Now let's do the same trick but on the level of districts instead of breeds. Instead we want to aggregate dogs of all breeds for each of the districts of Vienna separately to obtain dogs per district counts."
   ]
  },
  {
   "cell_type": "code",
   "execution_count": 21,
   "metadata": {
    "collapsed": false
   },
   "outputs": [
    {
     "data": {
      "text/plain": [
       "[<matplotlib.text.Text at 0x114d10828>, <matplotlib.text.Text at 0x114ffc908>]"
      ]
     },
     "execution_count": 21,
     "metadata": {},
     "output_type": "execute_result"
    },
    {
     "data": {
      "image/png": "[encoded data removed]",
      "text/plain": [
       "<matplotlib.figure.Figure at 0x1148cdda0>"
      ]
     },
     "metadata": {},
     "output_type": "display_data"
    }
   ],
   "source": [
    "district_dogs = data.groupby('District')['Dog Count'].aggregate(np.sum)\n",
    "# Filter, sort and trim pandas Series\n",
    "top_dogs = district_dogs.sort_values(ascending=False)\n",
    "# Plot pandas Series\n",
    "ax = sns.barplot(palette='colorblind', y=list(top_dogs.index), x=top_dogs.values, orient='h', order=list(top_dogs.index))\n",
    "ax.set(ylabel='District', xlabel='Number of  dogs')"
   ]
  },
  {
   "cell_type": "markdown",
   "metadata": {},
   "source": [
    "OK. 22nd and 21st district of Vienna are the most rich in dogs (8,5 and 7 thousands respectively). 10th, 23rd and 11th districts follow in the dog ranking. \n",
    "\n",
    "There are fewer dogs in 1st and 8th districts of Vienna (also, 4th, 6th and 7th).\n",
    "\n",
    "What could be the possible reasons for such variation in the number of dogs in different districts of Vienna (500-8,500 dogs per district)? We shall need more data to understand this..."
   ]
  },
  {
   "cell_type": "markdown",
   "metadata": {},
   "source": [
    "### 4. Open Data for Local Communities"
   ]
  },
  {
   "cell_type": "markdown",
   "metadata": {},
   "source": [
    "Let us analyse district statistics on the example of the 2nd district (Leopoldstadt). \n",
    "\n",
    "You can replace the district code in the variable below to see the stats for your own district."
   ]
  },
  {
   "cell_type": "code",
   "execution_count": 22,
   "metadata": {
    "collapsed": false
   },
   "outputs": [
    {
     "data": {
      "text/plain": [
       "2545"
      ]
     },
     "execution_count": 22,
     "metadata": {},
     "output_type": "execute_result"
    }
   ],
   "source": [
    "district = 90200\n",
    "district_dogs[district]\n"
   ]
  },
  {
   "cell_type": "markdown",
   "metadata": {},
   "source": [
    "2545 dogs live in Leopoldstadt. \n",
    "\n",
    "Is it many or not? Let us compare it with the average number of dogs across all districts of Vienna."
   ]
  },
  {
   "cell_type": "code",
   "execution_count": 23,
   "metadata": {
    "collapsed": false
   },
   "outputs": [
    {
     "data": {
      "text/plain": [
       "count      23.000000\n",
       "mean     2431.695652\n",
       "std      2111.114019\n",
       "min       459.000000\n",
       "25%       922.000000\n",
       "50%      1990.000000\n",
       "75%      2787.000000\n",
       "max      8504.000000\n",
       "Name: Dog Count, dtype: float64"
      ]
     },
     "execution_count": 23,
     "metadata": {},
     "output_type": "execute_result"
    }
   ],
   "source": [
    "district_dogs.describe()"
   ]
  },
  {
   "cell_type": "markdown",
   "metadata": {},
   "source": [
    "It is indeed very close to the average number of dogs per Vienna district. Let us see what are the most common breeds in Leopoldstadt."
   ]
  },
  {
   "cell_type": "code",
   "execution_count": 24,
   "metadata": {
    "collapsed": false
   },
   "outputs": [
    {
     "data": {
      "text/plain": [
       "[<matplotlib.text.Text at 0x115426160>, <matplotlib.text.Text at 0x115473630>]"
      ]
     },
     "execution_count": 24,
     "metadata": {},
     "output_type": "execute_result"
    },
    {
     "data": {
      "image/png": "[encoded data removed]",
      "text/plain": [
       "<matplotlib.figure.Figure at 0x11541d1d0>"
      ]
     },
     "metadata": {},
     "output_type": "display_data"
    }
   ],
   "source": [
    "dogs_district = filtered_dogs.loc[(data['District']==district)][['Dog Breed', 'Dog Count']]\n",
    "top_dogs_district = dogs_district.sort_values(ascending=False, by='Dog Count')[:10]\n",
    "ax = sns.barplot(data=top_dogs_district,palette='colorblind', x='Dog Count', y='Dog Breed')\n",
    "ax.set(ylabel='Breed', xlabel='Number of  dogs')"
   ]
  },
  {
   "cell_type": "markdown",
   "metadata": {},
   "source": [
    "## Lessons Learned\n",
    "\n",
    "### Dogs in Vienna\n",
    "\n",
    "Based on the data available we were able to provide comprehensive answers to the set of research questions proposed in the introduction.\n",
    "\n",
    "1. There are almost 56 thousand dogs in Vienna of 320 different breeds.\n",
    "2. Labradors and Chihuahuas are the top choices of Viennese people.\n",
    "3. If you do not like dogs you might want to live in the 1st or 8th districts, where there are fewer dogs (everyone wants to live in the 1st or 8th districts anyway!)\n",
    "4. Leopoldstadt has an average number of dogs (2,545).\n",
    "    \n",
    "### Steps\n",
    "    1. Find datasets, e.g. CSV files from open data portals\n",
    "    2. Refine: identify column separator, thousands separator, rows to skip, string encoding, etc.\n",
    "    3. Slice: filter out rows, e.g. by district or type.\n",
    "    4. Sort data by count (visualize ranking as a barplot).\n",
    "    5. Aggregate: group by different attributes, e.g. district or type, and sum up the counts.\n",
    " \n",
    "    \n",
    "## Prerequisites\n",
    "\n",
    "To run this script on a local machine you need: \n",
    "\n",
    "* Python 3.4.\n",
    "* pandas\n",
    "* numpy\n",
    "* seaborn (pip install)\n",
    "\n",
    "\n",
    "## Inspired by\n",
    "1. [Detail Analysis of various Hospital factors](https://www.kaggle.com/nirajvermafcb/d/cms/hospital-general-information/detail-analysis-of-various-hospital-factors)\n",
    "2. Wheelan, Charles J. Naked Statistics. 2013"
   ]
  }
 ],
 "metadata": {
  "anaconda-cloud": {},
  "kernelspec": {
   "display_name": "Python [conda env:py3]",
   "language": "python",
   "name": "conda-env-py3-py"
  },
  "language_info": {
   "codemirror_mode": {
    "name": "ipython",
    "version": 3
   },
   "file_extension": ".py",
   "mimetype": "text/x-python",
   "name": "python",
   "nbconvert_exporter": "python",
   "pygments_lexer": "ipython3",
   "version": "3.4.5"
  }
 },
 "nbformat": 4,
 "nbformat_minor": 1
}
