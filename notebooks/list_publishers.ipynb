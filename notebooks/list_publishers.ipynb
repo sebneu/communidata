{
 "cells": [
  {
   "cell_type": "code",
   "execution_count": null,
   "metadata": {
    "collapsed": false
   },
   "outputs": [],
   "source": [
    "import pandas as pd\n",
    "import json\n",
    "from urllib.request import urlopen\n",
    "\n",
    "url = 'https://www.data.gv.at/katalog/api/action/organization_list?sort=package_count%20desc&all_fields=True'\n",
    "\n",
    "#url = 'http://data.opendataportal.at/api/action/organization_list?sort=packages%20desc&all_fields=True'\n",
    "\n",
    "#  data.europa.eu requires POST request:\n",
    "#url = urllib.request.Request('http://data.europa.eu/euodp/data/api/3/action/organization_list', \n",
    "#                             json.dumps({\"sort\":\"packages desc\", \"all_fields\":\"True\"}).encode('UTF-8'))\n",
    "\n",
    "#url = 'https://www.govdata.de/ckan/api/3/action/organization_list?sort=package_count%20desc&all_fields=True'\n",
    "\n",
    "#--------------------------\n",
    "\n",
    "response = urlopen(url)\n",
    "\n",
    "d = json.loads(response.read().decode(\"utf-8\"))\n",
    "data = pd.io.json.json_normalize(d[\"result\"])\n",
    "\n",
    "data.head(20)\n",
    "\n"
   ]
  }
 ],
 "metadata": {
  "kernelspec": {
   "display_name": "Python 3",
   "language": "python",
   "name": "python3"
  },
  "language_info": {
   "codemirror_mode": {
    "name": "ipython",
    "version": 3
   },
   "file_extension": ".py",
   "mimetype": "text/x-python",
   "name": "python",
   "nbconvert_exporter": "python",
   "pygments_lexer": "ipython3",
   "version": "3.5.4"
  }
 },
 "nbformat": 4,
 "nbformat_minor": 0
}
