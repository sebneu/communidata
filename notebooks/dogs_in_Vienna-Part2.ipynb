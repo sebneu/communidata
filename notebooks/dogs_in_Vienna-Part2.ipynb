{
 "cells": [
  {
   "cell_type": "markdown",
   "metadata": {},
   "source": [
    "# Dogs in Vienna. Part 2: Open Data Integration Tutorial\n",
    "This is a sample script showing how an open data datasets can be analysed and demonstrated using [Jupiter Notebooks](http://jupyter.org). We take the dog statistics data in Vienna as a sample use case to demonstrate common approaches to analysing open data. Similar examples can be found on [Kaggle web-site](https://www.kaggle.com/kernels)."
   ]
  },
  {
   "cell_type": "markdown",
   "metadata": {},
   "source": [
    "## Open Data Story\n",
    "In the previous tutorial we set out to explore the dog statistics in Vienna and discovered that there is a significant variation in the number of dogs across different districts. In this tutorial we explore additional data sets trying to explain the differences between Vienna districts that may influence the dog statistics. Here is a set of questions we have in mind:\n",
    "\n",
    "### Research Questions\n",
    "1. Why some districts have more/less dogs than others? \n",
    "2. Where should I live if I want to have a dog in Vienna?\n",
    "3. Which dogs are in trend in the rich neighborhoods of Vienna?\n",
    "4. What is the dog situation in my district (revisited)?"
   ]
  },
  {
   "cell_type": "markdown",
   "metadata": {},
   "source": [
    "### Get the Data\n",
    "Let's repeat the same step we did in the previous tutorials to load the dog stats dataset."
   ]
  },
  {
   "cell_type": "code",
   "execution_count": 45,
   "metadata": {
    "collapsed": false
   },
   "outputs": [
    {
     "data": {
      "text/html": [
       "<div>\n",
       "<table border=\"1\" class=\"dataframe\">\n",
       "  <thead>\n",
       "    <tr style=\"text-align: right;\">\n",
       "      <th></th>\n",
       "      <th>DISTRICT_CODE</th>\n",
       "      <th>Dog Breed</th>\n",
       "      <th>Dog Count</th>\n",
       "    </tr>\n",
       "  </thead>\n",
       "  <tbody>\n",
       "    <tr>\n",
       "      <th>0</th>\n",
       "      <td>90100</td>\n",
       "      <td>Afghanischer Windhund</td>\n",
       "      <td>1</td>\n",
       "    </tr>\n",
       "    <tr>\n",
       "      <th>1</th>\n",
       "      <td>90100</td>\n",
       "      <td>Amerikanischer Pit-Bullterrier</td>\n",
       "      <td>1</td>\n",
       "    </tr>\n",
       "    <tr>\n",
       "      <th>2</th>\n",
       "      <td>90100</td>\n",
       "      <td>Amerikanischer Staffordshire-Terrier</td>\n",
       "      <td>5</td>\n",
       "    </tr>\n",
       "    <tr>\n",
       "      <th>3</th>\n",
       "      <td>90100</td>\n",
       "      <td>Australian Shepherd Dog</td>\n",
       "      <td>3</td>\n",
       "    </tr>\n",
       "    <tr>\n",
       "      <th>4</th>\n",
       "      <td>90100</td>\n",
       "      <td>Australian Terrier</td>\n",
       "      <td>1</td>\n",
       "    </tr>\n",
       "  </tbody>\n",
       "</table>\n",
       "</div>"
      ],
      "text/plain": [
       "   DISTRICT_CODE                             Dog Breed  Dog Count\n",
       "0          90100                 Afghanischer Windhund          1\n",
       "1          90100        Amerikanischer Pit-Bullterrier          1\n",
       "2          90100  Amerikanischer Staffordshire-Terrier          5\n",
       "3          90100               Australian Shepherd Dog          3\n",
       "4          90100                    Australian Terrier          1"
      ]
     },
     "execution_count": 45,
     "metadata": {},
     "output_type": "execute_result"
    }
   ],
   "source": [
    "# Load libraries\n",
    "import pandas as pd # CSV file processing\n",
    "import numpy as np # vector and matrix manipulation\n",
    "\n",
    "# Load the csv file from the open data portal\n",
    "# dataset description: https://www.data.gv.at/katalog/dataset/stadt-wien_anzahlderhundeprobezirkderstadtwien/resource/b8d97349-c993-486d-b273-362e0524f98c\n",
    "data_path = 'https://www.wien.gv.at/finanzen/ogd/hunde-wien.csv'\n",
    "# Look up the row file and specify the dataset format, e.g. delimiters\n",
    "data = pd.read_csv(data_path, delimiter=';', skiprows=1, thousands=',', encoding='latin-1')\n",
    "\n",
    "# Correct individual values in the dataset\n",
    "data.loc[1914, 'Anzahl'] = 1510\n",
    "data.loc[5347, 'Anzahl'] = 2460\n",
    "\n",
    "# Carefully select the string separator, including spaces!\n",
    "separate_breeds = data['Dog Breed'].str.split(' / ', expand=True)\n",
    "separate_breeds.columns = [\"Breed_1\", \"Breed_2\"]\n",
    "data = pd.concat([data, separate_breeds], axis=1)\n",
    "\n",
    "# Correct encoding for special characters in german alphabet\n",
    "def to_utf(x):\n",
    "    return x.encode('latin-1').decode('utf8') if isinstance(x, str) else x   \n",
    "data = data.applymap(to_utf)\n",
    "\n",
    "# Aggregate\n",
    "data = data.groupby(['DISTRICT_CODE', 'Breed_1'])['Anzahl'].aggregate(np.sum).reset_index()\n",
    "data.columns = [\"DISTRICT_CODE\", \"Dog Breed\", \"Dog Count\"]\n",
    "\n",
    "# Check the top of the table to make sure the dataset is loaded correctly \n",
    "data.head()"
   ]
  },
  {
   "cell_type": "markdown",
   "metadata": {},
   "source": [
    "### Get More Data\n",
    "\n",
    "Districts of any city (town) are not homogeneous in terms of area and population. Also in Vienna some districts are bigger in terms of territory, more densely populated or wealthier than other district. These factors shall also have an effect on the dog population within the specified regions. \n",
    "\n",
    "Now we need to fetch this kind of data (population, area and average income per district in Vienna) in order to check its correlation with our dog stats data. https://www.data.gv.at is the biggest Austrian open data portal. Let's have a look there! "
   ]
  },
  {
   "cell_type": "markdown",
   "metadata": {},
   "source": [
    "#### Population Statistics per District\n",
    "Population (Bevölkerung) seems just right for the general category, filtering on Vienna, CSV data format and community districts (Gemeindebezirke) boils down the search results to a single dataset!\n",
    "\n",
    "Next, we just repeat the same steps we used previously to obtain the dog stats dataset:"
   ]
  },
  {
   "cell_type": "code",
   "execution_count": 46,
   "metadata": {
    "collapsed": false
   },
   "outputs": [
    {
     "data": {
      "text/html": [
       "<div>\n",
       "<table border=\"1\" class=\"dataframe\">\n",
       "  <thead>\n",
       "    <tr style=\"text-align: right;\">\n",
       "      <th></th>\n",
       "      <th>NUTS1</th>\n",
       "      <th>NUTS2</th>\n",
       "      <th>NUTS3</th>\n",
       "      <th>DISTRICT_CODE</th>\n",
       "      <th>SUB_DISTRICT_CODE</th>\n",
       "      <th>POP_TOTAL</th>\n",
       "      <th>POP_MEN</th>\n",
       "      <th>POP_WOMEN</th>\n",
       "      <th>REF_DATE</th>\n",
       "    </tr>\n",
       "  </thead>\n",
       "  <tbody>\n",
       "    <tr>\n",
       "      <th>0</th>\n",
       "      <td>AT1</td>\n",
       "      <td>AT13</td>\n",
       "      <td>AT130</td>\n",
       "      <td>90100</td>\n",
       "      <td>.</td>\n",
       "      <td>68079</td>\n",
       "      <td>.</td>\n",
       "      <td>.</td>\n",
       "      <td>18691231</td>\n",
       "    </tr>\n",
       "    <tr>\n",
       "      <th>1</th>\n",
       "      <td>AT1</td>\n",
       "      <td>AT13</td>\n",
       "      <td>AT130</td>\n",
       "      <td>90200</td>\n",
       "      <td>.</td>\n",
       "      <td>68442</td>\n",
       "      <td>.</td>\n",
       "      <td>.</td>\n",
       "      <td>18691231</td>\n",
       "    </tr>\n",
       "    <tr>\n",
       "      <th>2</th>\n",
       "      <td>AT1</td>\n",
       "      <td>AT13</td>\n",
       "      <td>AT130</td>\n",
       "      <td>90300</td>\n",
       "      <td>.</td>\n",
       "      <td>88678</td>\n",
       "      <td>.</td>\n",
       "      <td>.</td>\n",
       "      <td>18691231</td>\n",
       "    </tr>\n",
       "    <tr>\n",
       "      <th>3</th>\n",
       "      <td>AT1</td>\n",
       "      <td>AT13</td>\n",
       "      <td>AT130</td>\n",
       "      <td>90400</td>\n",
       "      <td>.</td>\n",
       "      <td>55682</td>\n",
       "      <td>.</td>\n",
       "      <td>.</td>\n",
       "      <td>18691231</td>\n",
       "    </tr>\n",
       "    <tr>\n",
       "      <th>4</th>\n",
       "      <td>AT1</td>\n",
       "      <td>AT13</td>\n",
       "      <td>AT130</td>\n",
       "      <td>90500</td>\n",
       "      <td>.</td>\n",
       "      <td>54010</td>\n",
       "      <td>.</td>\n",
       "      <td>.</td>\n",
       "      <td>18691231</td>\n",
       "    </tr>\n",
       "  </tbody>\n",
       "</table>\n",
       "</div>"
      ],
      "text/plain": [
       "  NUTS1 NUTS2  NUTS3  DISTRICT_CODE SUB_DISTRICT_CODE  POP_TOTAL POP_MEN  \\\n",
       "0   AT1  AT13  AT130          90100                 .      68079       .   \n",
       "1   AT1  AT13  AT130          90200                 .      68442       .   \n",
       "2   AT1  AT13  AT130          90300                 .      88678       .   \n",
       "3   AT1  AT13  AT130          90400                 .      55682       .   \n",
       "4   AT1  AT13  AT130          90500                 .      54010       .   \n",
       "\n",
       "  POP_WOMEN  REF_DATE  \n",
       "0         .  18691231  \n",
       "1         .  18691231  \n",
       "2         .  18691231  \n",
       "3         .  18691231  \n",
       "4         .  18691231  "
      ]
     },
     "execution_count": 46,
     "metadata": {},
     "output_type": "execute_result"
    }
   ],
   "source": [
    "# Load the csv file from the open data portal\n",
    "# Dataset description: https://www.data.gv.at/katalog/dataset/stadt-wien_viebevlkerungseit1869wien/resource/c9e9d0cc-8f71-4521-b598-17d71fab2f59\n",
    "data_path = 'https://www.wien.gv.at/statistik/ogd/vie_101.csv'\n",
    "# Look up the row file and specify the dataset format, e.g. delimiters\n",
    "data_population = pd.read_csv(data_path, delimiter=';', skiprows=1)\n",
    "# Check the top of the table to make sure the dataset is loaded correctly \n",
    "data_population.head()"
   ]
  },
  {
   "cell_type": "markdown",
   "metadata": {},
   "source": [
    "The dataset title informs us that the dataset contains data dating from 1869 year. We would prefer more fresh population statistics to be able to compare with the dog stats that we have dating from 2016 12 01. \n",
    "\n",
    "Unfortunately it is not clear from the dataset description which time periods it contains:\n",
    "\"VIE-Bevölkerung in den 23 Wiener Gemeindebezirken nach Geschlecht seit 1869\n",
    "    Zuletzt aktualisiert\t31. März 2016\n",
    "    Erstellt\t31. März 2016\"\n",
    "\n",
    "Let us examine the REF_DATE column, which seems to contain the reference date here."
   ]
  },
  {
   "cell_type": "code",
   "execution_count": 47,
   "metadata": {
    "collapsed": false
   },
   "outputs": [
    {
     "data": {
      "text/plain": [
       "array([18691231, 18801231, 19001231, 19101231, 19230307, 19340322,\n",
       "       19390517, 19510601, 19610321, 19710512, 19810512, 19910515,\n",
       "       20010515, 20020101, 20030101, 20040101, 20050101, 20060101,\n",
       "       20070101, 20080101, 20090101, 20100101, 20110101, 20120101,\n",
       "       20130101, 20140101, 20150101])"
      ]
     },
     "execution_count": 47,
     "metadata": {},
     "output_type": "execute_result"
    }
   ],
   "source": [
    "# Check unique column values\n",
    "data_population['REF_DATE'].unique()"
   ]
  },
  {
   "cell_type": "markdown",
   "metadata": {},
   "source": [
    "The last measurement is from 2015 (same as on Wikipedia: https://de.wikipedia.org/wiki/Wiener_Gemeindebezirke#cite_note-11). Let's take it."
   ]
  },
  {
   "cell_type": "code",
   "execution_count": 48,
   "metadata": {
    "collapsed": false
   },
   "outputs": [
    {
     "data": {
      "text/html": [
       "<div>\n",
       "<table border=\"1\" class=\"dataframe\">\n",
       "  <thead>\n",
       "    <tr style=\"text-align: right;\">\n",
       "      <th></th>\n",
       "      <th>DISTRICT_CODE</th>\n",
       "      <th>POP_TOTAL</th>\n",
       "    </tr>\n",
       "  </thead>\n",
       "  <tbody>\n",
       "    <tr>\n",
       "      <th>630</th>\n",
       "      <td>91000</td>\n",
       "      <td>189713</td>\n",
       "    </tr>\n",
       "    <tr>\n",
       "      <th>642</th>\n",
       "      <td>92200</td>\n",
       "      <td>172978</td>\n",
       "    </tr>\n",
       "    <tr>\n",
       "      <th>641</th>\n",
       "      <td>92100</td>\n",
       "      <td>151844</td>\n",
       "    </tr>\n",
       "    <tr>\n",
       "      <th>622</th>\n",
       "      <td>90200</td>\n",
       "      <td>101702</td>\n",
       "    </tr>\n",
       "    <tr>\n",
       "      <th>636</th>\n",
       "      <td>91600</td>\n",
       "      <td>100738</td>\n",
       "    </tr>\n",
       "  </tbody>\n",
       "</table>\n",
       "</div>"
      ],
      "text/plain": [
       "     DISTRICT_CODE  POP_TOTAL\n",
       "630          91000     189713\n",
       "642          92200     172978\n",
       "641          92100     151844\n",
       "622          90200     101702\n",
       "636          91600     100738"
      ]
     },
     "execution_count": 48,
     "metadata": {},
     "output_type": "execute_result"
    }
   ],
   "source": [
    "# Slice dataset: filter specific rows and columns\n",
    "population_2015 = data_population[(data_population['REF_DATE'] == 20150101)][['DISTRICT_CODE', 'POP_TOTAL']]\n",
    "# Sort column\n",
    "population_2015.sort_values(ascending=False, by='POP_TOTAL').head()"
   ]
  },
  {
   "cell_type": "markdown",
   "metadata": {
    "collapsed": true
   },
   "source": [
    "## Analyse the Data\n",
    "### 1. Why some districts have more/less dogs than others?\n",
    "Very good we have the population count per district. Let's compare it with the dog counts. For this we need to aggregate the dog counts by district and join on the common column, which is the DISTRICT_CODE."
   ]
  },
  {
   "cell_type": "code",
   "execution_count": 50,
   "metadata": {
    "collapsed": false
   },
   "outputs": [
    {
     "data": {
      "text/html": [
       "<div>\n",
       "<table border=\"1\" class=\"dataframe\">\n",
       "  <thead>\n",
       "    <tr style=\"text-align: right;\">\n",
       "      <th></th>\n",
       "      <th>DISTRICT_CODE</th>\n",
       "      <th>POP_TOTAL</th>\n",
       "      <th>Dog Count</th>\n",
       "    </tr>\n",
       "  </thead>\n",
       "  <tbody>\n",
       "    <tr>\n",
       "      <th>630</th>\n",
       "      <td>91000</td>\n",
       "      <td>189713</td>\n",
       "      <td>5333</td>\n",
       "    </tr>\n",
       "    <tr>\n",
       "      <th>642</th>\n",
       "      <td>92200</td>\n",
       "      <td>172978</td>\n",
       "      <td>8504</td>\n",
       "    </tr>\n",
       "    <tr>\n",
       "      <th>641</th>\n",
       "      <td>92100</td>\n",
       "      <td>151844</td>\n",
       "      <td>7143</td>\n",
       "    </tr>\n",
       "    <tr>\n",
       "      <th>622</th>\n",
       "      <td>90200</td>\n",
       "      <td>101702</td>\n",
       "      <td>2545</td>\n",
       "    </tr>\n",
       "    <tr>\n",
       "      <th>636</th>\n",
       "      <td>91600</td>\n",
       "      <td>100738</td>\n",
       "      <td>2077</td>\n",
       "    </tr>\n",
       "  </tbody>\n",
       "</table>\n",
       "</div>"
      ],
      "text/plain": [
       "     DISTRICT_CODE  POP_TOTAL  Dog Count\n",
       "630          91000     189713       5333\n",
       "642          92200     172978       8504\n",
       "641          92100     151844       7143\n",
       "622          90200     101702       2545\n",
       "636          91600     100738       2077"
      ]
     },
     "execution_count": 50,
     "metadata": {},
     "output_type": "execute_result"
    }
   ],
   "source": [
    "# Aggregate counts\n",
    "district_dogs = data.groupby('DISTRICT_CODE')['Dog Count'].aggregate(np.sum)\n",
    "# Join Data Frame and Series objects on the key column\n",
    "dog_vs_people = population_2015.join(district_dogs, on='DISTRICT_CODE')\n",
    "dog_vs_people.sort_values(ascending=False, by='POP_TOTAL').head()"
   ]
  },
  {
   "cell_type": "code",
   "execution_count": 51,
   "metadata": {
    "collapsed": false
   },
   "outputs": [
    {
     "data": {
      "text/html": [
       "<div>\n",
       "<table border=\"1\" class=\"dataframe\">\n",
       "  <thead>\n",
       "    <tr style=\"text-align: right;\">\n",
       "      <th></th>\n",
       "      <th>POP_TOTAL</th>\n",
       "      <th>Dog Count</th>\n",
       "    </tr>\n",
       "  </thead>\n",
       "  <tbody>\n",
       "    <tr>\n",
       "      <th>POP_TOTAL</th>\n",
       "      <td>1.000000</td>\n",
       "      <td>0.903501</td>\n",
       "    </tr>\n",
       "    <tr>\n",
       "      <th>Dog Count</th>\n",
       "      <td>0.903501</td>\n",
       "      <td>1.000000</td>\n",
       "    </tr>\n",
       "  </tbody>\n",
       "</table>\n",
       "</div>"
      ],
      "text/plain": [
       "           POP_TOTAL  Dog Count\n",
       "POP_TOTAL   1.000000   0.903501\n",
       "Dog Count   0.903501   1.000000"
      ]
     },
     "execution_count": 51,
     "metadata": {},
     "output_type": "execute_result"
    }
   ],
   "source": [
    "dog_vs_people[['POP_TOTAL', 'Dog Count']].corr()"
   ]
  },
  {
   "cell_type": "markdown",
   "metadata": {},
   "source": [
    "As expected, dog population is positively correlated with human population (dogs usually live together with people in Vienna).\n",
    "\n",
    "Therefore, we need to consider the district population when comparing the number of dogs across districts.\n",
    "\n",
    "### 2. Where should I live if I want to have a dog in Vienna?"
   ]
  },
  {
   "cell_type": "code",
   "execution_count": 52,
   "metadata": {
    "collapsed": false
   },
   "outputs": [
    {
     "data": {
      "text/html": [
       "<div>\n",
       "<table border=\"1\" class=\"dataframe\">\n",
       "  <thead>\n",
       "    <tr style=\"text-align: right;\">\n",
       "      <th></th>\n",
       "      <th>DISTRICT_CODE</th>\n",
       "      <th>POP_TOTAL</th>\n",
       "      <th>Dog Count</th>\n",
       "      <th>Dogs_per_person</th>\n",
       "    </tr>\n",
       "  </thead>\n",
       "  <tbody>\n",
       "    <tr>\n",
       "      <th>635</th>\n",
       "      <td>91500</td>\n",
       "      <td>76320</td>\n",
       "      <td>1352</td>\n",
       "      <td>0.018</td>\n",
       "    </tr>\n",
       "    <tr>\n",
       "      <th>625</th>\n",
       "      <td>90500</td>\n",
       "      <td>54246</td>\n",
       "      <td>982</td>\n",
       "      <td>0.018</td>\n",
       "    </tr>\n",
       "    <tr>\n",
       "      <th>628</th>\n",
       "      <td>90800</td>\n",
       "      <td>24518</td>\n",
       "      <td>459</td>\n",
       "      <td>0.019</td>\n",
       "    </tr>\n",
       "    <tr>\n",
       "      <th>627</th>\n",
       "      <td>90700</td>\n",
       "      <td>31291</td>\n",
       "      <td>619</td>\n",
       "      <td>0.020</td>\n",
       "    </tr>\n",
       "    <tr>\n",
       "      <th>624</th>\n",
       "      <td>90400</td>\n",
       "      <td>31691</td>\n",
       "      <td>632</td>\n",
       "      <td>0.020</td>\n",
       "    </tr>\n",
       "  </tbody>\n",
       "</table>\n",
       "</div>"
      ],
      "text/plain": [
       "     DISTRICT_CODE  POP_TOTAL  Dog Count  Dogs_per_person\n",
       "635          91500      76320       1352            0.018\n",
       "625          90500      54246        982            0.018\n",
       "628          90800      24518        459            0.019\n",
       "627          90700      31291        619            0.020\n",
       "624          90400      31691        632            0.020"
      ]
     },
     "execution_count": 52,
     "metadata": {},
     "output_type": "execute_result"
    }
   ],
   "source": [
    "dog_vs_people['Dogs_per_person'] = dog_vs_people['Dog Count'] / dog_vs_people['POP_TOTAL']\n",
    "# Sort by column\n",
    "dog_vs_people.sort_values(ascending=True, by='Dogs_per_person').round(3).head()"
   ]
  },
  {
   "cell_type": "markdown",
   "metadata": {},
   "source": [
    "5th and 15th districts have the smalles propotion of dogs with respect to the number of inhabitants (18 dogs per 1000 people). We do not yet know why but it is not likely that dog-haters would agree to live closer to each other. There must be some other factors, such as necessary conditions required to have a dog, e.g. dog playgrounds, that influence the decision to have or not to have a dog."
   ]
  },
  {
   "cell_type": "code",
   "execution_count": 53,
   "metadata": {
    "collapsed": false
   },
   "outputs": [
    {
     "data": {
      "text/html": [
       "<div>\n",
       "<table border=\"1\" class=\"dataframe\">\n",
       "  <thead>\n",
       "    <tr style=\"text-align: right;\">\n",
       "      <th></th>\n",
       "      <th>DISTRICT_CODE</th>\n",
       "      <th>POP_TOTAL</th>\n",
       "      <th>Dog Count</th>\n",
       "      <th>Dogs_per_person</th>\n",
       "    </tr>\n",
       "  </thead>\n",
       "  <tbody>\n",
       "    <tr>\n",
       "      <th>642</th>\n",
       "      <td>92200</td>\n",
       "      <td>172978</td>\n",
       "      <td>8504</td>\n",
       "      <td>0.049</td>\n",
       "    </tr>\n",
       "    <tr>\n",
       "      <th>641</th>\n",
       "      <td>92100</td>\n",
       "      <td>151844</td>\n",
       "      <td>7143</td>\n",
       "      <td>0.047</td>\n",
       "    </tr>\n",
       "    <tr>\n",
       "      <th>643</th>\n",
       "      <td>92300</td>\n",
       "      <td>96775</td>\n",
       "      <td>4136</td>\n",
       "      <td>0.043</td>\n",
       "    </tr>\n",
       "    <tr>\n",
       "      <th>639</th>\n",
       "      <td>91900</td>\n",
       "      <td>69999</td>\n",
       "      <td>2745</td>\n",
       "      <td>0.039</td>\n",
       "    </tr>\n",
       "    <tr>\n",
       "      <th>633</th>\n",
       "      <td>91300</td>\n",
       "      <td>52115</td>\n",
       "      <td>1990</td>\n",
       "      <td>0.038</td>\n",
       "    </tr>\n",
       "  </tbody>\n",
       "</table>\n",
       "</div>"
      ],
      "text/plain": [
       "     DISTRICT_CODE  POP_TOTAL  Dog Count  Dogs_per_person\n",
       "642          92200     172978       8504            0.049\n",
       "641          92100     151844       7143            0.047\n",
       "643          92300      96775       4136            0.043\n",
       "639          91900      69999       2745            0.039\n",
       "633          91300      52115       1990            0.038"
      ]
     },
     "execution_count": 53,
     "metadata": {},
     "output_type": "execute_result"
    }
   ],
   "source": [
    "# Sort by column\n",
    "dog_vs_people.sort_values(ascending=False, by='Dogs_per_person').round(3).head()"
   ]
  },
  {
   "cell_type": "code",
   "execution_count": 57,
   "metadata": {
    "collapsed": false
   },
   "outputs": [
    {
     "data": {
      "text/plain": [
       "[<matplotlib.text.Text at 0x11428c978>, <matplotlib.text.Text at 0x1142692b0>]"
      ]
     },
     "execution_count": 57,
     "metadata": {},
     "output_type": "execute_result"
    },
    {
     "data": {
      "image/png": "[encoded data removed]",
      "text/plain": [
       "<matplotlib.figure.Figure at 0x10d37fa90>"
      ]
     },
     "metadata": {},
     "output_type": "display_data"
    }
   ],
   "source": [
    "# Load library for visualisation\n",
    "import seaborn as sns\n",
    "# Command to show plots in notebook\n",
    "%matplotlib inline\n",
    "ax = sns.barplot(palette='colorblind', data=dog_vs_people, y=dog_vs_people.DISTRICT_CODE, x=dog_vs_people.Dogs_per_person, orient='h')\n",
    "ax.set(ylabel='District', xlabel='Dogs_per_person')"
   ]
  },
  {
   "cell_type": "markdown",
   "metadata": {},
   "source": [
    "22nd and 21st districts have the biggest dog populations relative to the number of inhabitants in the district: 49 and 47 dogs per 1000 people respectively. Meaning that if you live in one of this districts you are more likely to have a dog. \n",
    "\n",
    "Do these districts provide more favorable conditions for the dog owners? Or is it the kind of people that prefer to live in these areas also like to have dogs?\n",
    "\n",
    "Let us explore the average income per district and whether it has an influence on the dog stats."
   ]
  },
  {
   "cell_type": "markdown",
   "metadata": {},
   "source": [
    "### Get More Data\n",
    "#### Income Statistics per District\n",
    "We integrate another dataset for our dog statistics analysis, which luckily follows the same logic (data format) as the previous two datasets, since it is from the same publisher (wien.gv.at). \n",
    "\n",
    "This dataset was relatively easy to find when searching with the keyword 'income' (einkommen) on https://www.data.gv.at portal."
   ]
  },
  {
   "cell_type": "code",
   "execution_count": 58,
   "metadata": {
    "collapsed": false
   },
   "outputs": [
    {
     "data": {
      "text/html": [
       "<div>\n",
       "<table border=\"1\" class=\"dataframe\">\n",
       "  <thead>\n",
       "    <tr style=\"text-align: right;\">\n",
       "      <th></th>\n",
       "      <th>NUTS1</th>\n",
       "      <th>NUTS2</th>\n",
       "      <th>NUTS3</th>\n",
       "      <th>DISTRICT_CODE</th>\n",
       "      <th>SUB_DISTRICT_CODE</th>\n",
       "      <th>INCOME_TOTAL</th>\n",
       "      <th>INCOME_MEN</th>\n",
       "      <th>INCOME_WOMEN</th>\n",
       "      <th>AVERAGE_INCOME_TOTAL</th>\n",
       "      <th>AVERAGE_INCOME_MEN</th>\n",
       "      <th>AVERAGE_INCOME_WOMEN</th>\n",
       "      <th>AVERAGE_INCOME_FULLTIME_TOTAL</th>\n",
       "      <th>AVERAGE_INCOME_FULLTIME_MEN</th>\n",
       "      <th>AVERAGE_INCOME_FULLTIME_WOMEN</th>\n",
       "      <th>REF_DATE</th>\n",
       "    </tr>\n",
       "  </thead>\n",
       "  <tbody>\n",
       "    <tr>\n",
       "      <th>0</th>\n",
       "      <td>AT1</td>\n",
       "      <td>AT13</td>\n",
       "      <td>AT130</td>\n",
       "      <td>90100</td>\n",
       "      <td>.</td>\n",
       "      <td>292.103.000</td>\n",
       "      <td>194.301.000</td>\n",
       "      <td>97.802.000</td>\n",
       "      <td>25.463</td>\n",
       "      <td>31.961</td>\n",
       "      <td>18.536</td>\n",
       "      <td>34.506</td>\n",
       "      <td>42.806</td>\n",
       "      <td>24.963</td>\n",
       "      <td>20021231</td>\n",
       "    </tr>\n",
       "    <tr>\n",
       "      <th>1</th>\n",
       "      <td>AT1</td>\n",
       "      <td>AT13</td>\n",
       "      <td>AT130</td>\n",
       "      <td>90200</td>\n",
       "      <td>.</td>\n",
       "      <td>919.962.000</td>\n",
       "      <td>559.682.000</td>\n",
       "      <td>360.280.000</td>\n",
       "      <td>16.439</td>\n",
       "      <td>18.301</td>\n",
       "      <td>14.282</td>\n",
       "      <td>22.015</td>\n",
       "      <td>24.312</td>\n",
       "      <td>19.067</td>\n",
       "      <td>20021231</td>\n",
       "    </tr>\n",
       "    <tr>\n",
       "      <th>2</th>\n",
       "      <td>AT1</td>\n",
       "      <td>AT13</td>\n",
       "      <td>AT130</td>\n",
       "      <td>90300</td>\n",
       "      <td>.</td>\n",
       "      <td>1.011.882.000</td>\n",
       "      <td>608.994.000</td>\n",
       "      <td>402.888.000</td>\n",
       "      <td>18.701</td>\n",
       "      <td>21.444</td>\n",
       "      <td>15.804</td>\n",
       "      <td>24.617</td>\n",
       "      <td>27.968</td>\n",
       "      <td>20.739</td>\n",
       "      <td>20021231</td>\n",
       "    </tr>\n",
       "    <tr>\n",
       "      <th>3</th>\n",
       "      <td>AT1</td>\n",
       "      <td>AT13</td>\n",
       "      <td>AT130</td>\n",
       "      <td>90400</td>\n",
       "      <td>.</td>\n",
       "      <td>402.479.000</td>\n",
       "      <td>243.807.000</td>\n",
       "      <td>158.672.000</td>\n",
       "      <td>20.325</td>\n",
       "      <td>23.641</td>\n",
       "      <td>16.876</td>\n",
       "      <td>27.348</td>\n",
       "      <td>31.586</td>\n",
       "      <td>22.539</td>\n",
       "      <td>20021231</td>\n",
       "    </tr>\n",
       "    <tr>\n",
       "      <th>4</th>\n",
       "      <td>AT1</td>\n",
       "      <td>AT13</td>\n",
       "      <td>AT130</td>\n",
       "      <td>90500</td>\n",
       "      <td>.</td>\n",
       "      <td>554.361.000</td>\n",
       "      <td>327.128.000</td>\n",
       "      <td>227.233.000</td>\n",
       "      <td>16.258</td>\n",
       "      <td>17.937</td>\n",
       "      <td>14.395</td>\n",
       "      <td>22.059</td>\n",
       "      <td>24.198</td>\n",
       "      <td>19.454</td>\n",
       "      <td>20021231</td>\n",
       "    </tr>\n",
       "  </tbody>\n",
       "</table>\n",
       "</div>"
      ],
      "text/plain": [
       "  NUTS1 NUTS2  NUTS3  DISTRICT_CODE SUB_DISTRICT_CODE   INCOME_TOTAL  \\\n",
       "0   AT1  AT13  AT130          90100                 .    292.103.000   \n",
       "1   AT1  AT13  AT130          90200                 .    919.962.000   \n",
       "2   AT1  AT13  AT130          90300                 .  1.011.882.000   \n",
       "3   AT1  AT13  AT130          90400                 .    402.479.000   \n",
       "4   AT1  AT13  AT130          90500                 .    554.361.000   \n",
       "\n",
       "    INCOME_MEN INCOME_WOMEN  AVERAGE_INCOME_TOTAL  AVERAGE_INCOME_MEN  \\\n",
       "0  194.301.000   97.802.000                25.463              31.961   \n",
       "1  559.682.000  360.280.000                16.439              18.301   \n",
       "2  608.994.000  402.888.000                18.701              21.444   \n",
       "3  243.807.000  158.672.000                20.325              23.641   \n",
       "4  327.128.000  227.233.000                16.258              17.937   \n",
       "\n",
       "   AVERAGE_INCOME_WOMEN  AVERAGE_INCOME_FULLTIME_TOTAL  \\\n",
       "0                18.536                         34.506   \n",
       "1                14.282                         22.015   \n",
       "2                15.804                         24.617   \n",
       "3                16.876                         27.348   \n",
       "4                14.395                         22.059   \n",
       "\n",
       "   AVERAGE_INCOME_FULLTIME_MEN  AVERAGE_INCOME_FULLTIME_WOMEN  REF_DATE  \n",
       "0                       42.806                         24.963  20021231  \n",
       "1                       24.312                         19.067  20021231  \n",
       "2                       27.968                         20.739  20021231  \n",
       "3                       31.586                         22.539  20021231  \n",
       "4                       24.198                         19.454  20021231  "
      ]
     },
     "execution_count": 58,
     "metadata": {},
     "output_type": "execute_result"
    }
   ],
   "source": [
    "# Load the csv file from the open data portal\n",
    "# Dataset description: https://www.data.gv.at/katalog/dataset/stadt-wien_viewirtschaftwienergemeindebezirke1/resource/c1ad52a3-ca5c-44fc-a945-b6459f73ed98\n",
    "data_path = 'https://www.wien.gv.at/statistik/ogd/vie_502.csv'\n",
    "# The data format seems to be consistent for all the datasets from this publisher \n",
    "data_income = pd.read_csv(data_path, delimiter=';', skiprows=1)\n",
    "# Check the top of the table to make sure the dataset is loaded correctly \n",
    "data_income.head()"
   ]
  },
  {
   "cell_type": "code",
   "execution_count": 59,
   "metadata": {
    "collapsed": false
   },
   "outputs": [
    {
     "data": {
      "text/plain": [
       "array([20021231, 20031231, 20041231, 20051231, 20061231, 20071231,\n",
       "       20081231, 20091231, 20101231, 20111231, 20121231, 20131231, 20141231])"
      ]
     },
     "execution_count": 59,
     "metadata": {},
     "output_type": "execute_result"
    }
   ],
   "source": [
    "# Check unique column values\n",
    "data_income['REF_DATE'].unique()"
   ]
  },
  {
   "cell_type": "markdown",
   "metadata": {},
   "source": [
    "The last measurement is from 2014. Let's take it."
   ]
  },
  {
   "cell_type": "code",
   "execution_count": 60,
   "metadata": {
    "collapsed": false
   },
   "outputs": [
    {
     "data": {
      "text/html": [
       "<div>\n",
       "<table border=\"1\" class=\"dataframe\">\n",
       "  <thead>\n",
       "    <tr style=\"text-align: right;\">\n",
       "      <th></th>\n",
       "      <th>DISTRICT_CODE</th>\n",
       "      <th>AVERAGE_INCOME_TOTAL</th>\n",
       "    </tr>\n",
       "  </thead>\n",
       "  <tbody>\n",
       "    <tr>\n",
       "      <th>276</th>\n",
       "      <td>90100</td>\n",
       "      <td>32.493</td>\n",
       "    </tr>\n",
       "    <tr>\n",
       "      <th>288</th>\n",
       "      <td>91300</td>\n",
       "      <td>27.604</td>\n",
       "    </tr>\n",
       "    <tr>\n",
       "      <th>294</th>\n",
       "      <td>91900</td>\n",
       "      <td>25.803</td>\n",
       "    </tr>\n",
       "    <tr>\n",
       "      <th>279</th>\n",
       "      <td>90400</td>\n",
       "      <td>24.199</td>\n",
       "    </tr>\n",
       "    <tr>\n",
       "      <th>293</th>\n",
       "      <td>91800</td>\n",
       "      <td>24.164</td>\n",
       "    </tr>\n",
       "  </tbody>\n",
       "</table>\n",
       "</div>"
      ],
      "text/plain": [
       "     DISTRICT_CODE  AVERAGE_INCOME_TOTAL\n",
       "276          90100                32.493\n",
       "288          91300                27.604\n",
       "294          91900                25.803\n",
       "279          90400                24.199\n",
       "293          91800                24.164"
      ]
     },
     "execution_count": 60,
     "metadata": {},
     "output_type": "execute_result"
    }
   ],
   "source": [
    "# Slice dataset: filter specific rows and columns\n",
    "income_2014 = data_income[(data_income['REF_DATE'] == 20141231)][['DISTRICT_CODE', 'AVERAGE_INCOME_TOTAL']]\n",
    "# Sort column\n",
    "income_2014.sort_values(ascending=False, by='AVERAGE_INCOME_TOTAL').head()"
   ]
  },
  {
   "cell_type": "markdown",
   "metadata": {},
   "source": [
    "All right, this is common knowledge ;)  The wealthiest are 1st and 13th districts of Vienna. "
   ]
  },
  {
   "cell_type": "code",
   "execution_count": 61,
   "metadata": {
    "collapsed": false
   },
   "outputs": [
    {
     "data": {
      "text/html": [
       "<div>\n",
       "<table border=\"1\" class=\"dataframe\">\n",
       "  <thead>\n",
       "    <tr style=\"text-align: right;\">\n",
       "      <th></th>\n",
       "      <th>DISTRICT_CODE</th>\n",
       "      <th>AVERAGE_INCOME_TOTAL</th>\n",
       "    </tr>\n",
       "  </thead>\n",
       "  <tbody>\n",
       "    <tr>\n",
       "      <th>290</th>\n",
       "      <td>91500</td>\n",
       "      <td>16.799</td>\n",
       "    </tr>\n",
       "    <tr>\n",
       "      <th>295</th>\n",
       "      <td>92000</td>\n",
       "      <td>17.861</td>\n",
       "    </tr>\n",
       "    <tr>\n",
       "      <th>285</th>\n",
       "      <td>91000</td>\n",
       "      <td>18.340</td>\n",
       "    </tr>\n",
       "    <tr>\n",
       "      <th>291</th>\n",
       "      <td>91600</td>\n",
       "      <td>18.733</td>\n",
       "    </tr>\n",
       "    <tr>\n",
       "      <th>280</th>\n",
       "      <td>90500</td>\n",
       "      <td>18.952</td>\n",
       "    </tr>\n",
       "  </tbody>\n",
       "</table>\n",
       "</div>"
      ],
      "text/plain": [
       "     DISTRICT_CODE  AVERAGE_INCOME_TOTAL\n",
       "290          91500                16.799\n",
       "295          92000                17.861\n",
       "285          91000                18.340\n",
       "291          91600                18.733\n",
       "280          90500                18.952"
      ]
     },
     "execution_count": 61,
     "metadata": {},
     "output_type": "execute_result"
    }
   ],
   "source": [
    "income_2014.sort_values(ascending=True, by='AVERAGE_INCOME_TOTAL').head()"
   ]
  },
  {
   "cell_type": "markdown",
   "metadata": {},
   "source": [
    "The poorest are the 15th and 20th districts. "
   ]
  },
  {
   "cell_type": "code",
   "execution_count": 62,
   "metadata": {
    "collapsed": false
   },
   "outputs": [
    {
     "data": {
      "text/plain": [
       "[<matplotlib.text.Text at 0x114464048>, <matplotlib.text.Text at 0x1144c10f0>]"
      ]
     },
     "execution_count": 62,
     "metadata": {},
     "output_type": "execute_result"
    },
    {
     "data": {
      "image/png": "[encoded data removed]",
      "text/plain": [
       "<matplotlib.figure.Figure at 0x11079fd30>"
      ]
     },
     "metadata": {},
     "output_type": "display_data"
    }
   ],
   "source": [
    "# Plot pandas data frame\n",
    "ax = sns.barplot(data=income_2014,palette='colorblind', y='DISTRICT_CODE', x='AVERAGE_INCOME_TOTAL', orient='h')\n",
    "ax.set(ylabel='District', xlabel='Average Income (thousands)')"
   ]
  },
  {
   "cell_type": "markdown",
   "metadata": {},
   "source": [
    "Now let's join all our datasets with district stats."
   ]
  },
  {
   "cell_type": "code",
   "execution_count": 63,
   "metadata": {
    "collapsed": false
   },
   "outputs": [
    {
     "data": {
      "text/html": [
       "<div>\n",
       "<table border=\"1\" class=\"dataframe\">\n",
       "  <thead>\n",
       "    <tr style=\"text-align: right;\">\n",
       "      <th></th>\n",
       "      <th>DISTRICT_CODE</th>\n",
       "      <th>POP_TOTAL</th>\n",
       "      <th>Dog Count</th>\n",
       "      <th>Dogs_per_person</th>\n",
       "      <th>AVERAGE_INCOME_TOTAL</th>\n",
       "    </tr>\n",
       "  </thead>\n",
       "  <tbody>\n",
       "    <tr>\n",
       "      <th>0</th>\n",
       "      <td>90100</td>\n",
       "      <td>16339</td>\n",
       "      <td>465</td>\n",
       "      <td>0.028460</td>\n",
       "      <td>32.493</td>\n",
       "    </tr>\n",
       "    <tr>\n",
       "      <th>12</th>\n",
       "      <td>91300</td>\n",
       "      <td>52115</td>\n",
       "      <td>1990</td>\n",
       "      <td>0.038185</td>\n",
       "      <td>27.604</td>\n",
       "    </tr>\n",
       "    <tr>\n",
       "      <th>18</th>\n",
       "      <td>91900</td>\n",
       "      <td>69999</td>\n",
       "      <td>2745</td>\n",
       "      <td>0.039215</td>\n",
       "      <td>25.803</td>\n",
       "    </tr>\n",
       "    <tr>\n",
       "      <th>3</th>\n",
       "      <td>90400</td>\n",
       "      <td>31691</td>\n",
       "      <td>632</td>\n",
       "      <td>0.019943</td>\n",
       "      <td>24.199</td>\n",
       "    </tr>\n",
       "    <tr>\n",
       "      <th>17</th>\n",
       "      <td>91800</td>\n",
       "      <td>49178</td>\n",
       "      <td>1316</td>\n",
       "      <td>0.026760</td>\n",
       "      <td>24.164</td>\n",
       "    </tr>\n",
       "  </tbody>\n",
       "</table>\n",
       "</div>"
      ],
      "text/plain": [
       "    DISTRICT_CODE  POP_TOTAL  Dog Count  Dogs_per_person  AVERAGE_INCOME_TOTAL\n",
       "0           90100      16339        465         0.028460                32.493\n",
       "12          91300      52115       1990         0.038185                27.604\n",
       "18          91900      69999       2745         0.039215                25.803\n",
       "3           90400      31691        632         0.019943                24.199\n",
       "17          91800      49178       1316         0.026760                24.164"
      ]
     },
     "execution_count": 63,
     "metadata": {},
     "output_type": "execute_result"
    }
   ],
   "source": [
    "# Merge data frames on the key column\n",
    "dog_vs_people_vs_income = dog_vs_people.merge(income_2014, on='DISTRICT_CODE')\n",
    "dog_vs_people_vs_income.sort_values(ascending=False, by='AVERAGE_INCOME_TOTAL').head()"
   ]
  },
  {
   "cell_type": "code",
   "execution_count": 64,
   "metadata": {
    "collapsed": false
   },
   "outputs": [
    {
     "data": {
      "text/html": [
       "<div>\n",
       "<table border=\"1\" class=\"dataframe\">\n",
       "  <thead>\n",
       "    <tr style=\"text-align: right;\">\n",
       "      <th></th>\n",
       "      <th>DISTRICT_CODE</th>\n",
       "      <th>POP_TOTAL</th>\n",
       "      <th>Dog Count</th>\n",
       "      <th>Dogs_per_person</th>\n",
       "      <th>AVERAGE_INCOME_TOTAL</th>\n",
       "    </tr>\n",
       "  </thead>\n",
       "  <tbody>\n",
       "    <tr>\n",
       "      <th>DISTRICT_CODE</th>\n",
       "      <td>1.000000</td>\n",
       "      <td>0.453962</td>\n",
       "      <td>0.563003</td>\n",
       "      <td>0.592619</td>\n",
       "      <td>-0.213271</td>\n",
       "    </tr>\n",
       "    <tr>\n",
       "      <th>POP_TOTAL</th>\n",
       "      <td>0.453962</td>\n",
       "      <td>1.000000</td>\n",
       "      <td>0.903501</td>\n",
       "      <td>0.554129</td>\n",
       "      <td>-0.455340</td>\n",
       "    </tr>\n",
       "    <tr>\n",
       "      <th>Dog Count</th>\n",
       "      <td>0.563003</td>\n",
       "      <td>0.903501</td>\n",
       "      <td>1.000000</td>\n",
       "      <td>0.813967</td>\n",
       "      <td>-0.178365</td>\n",
       "    </tr>\n",
       "    <tr>\n",
       "      <th>Dogs_per_person</th>\n",
       "      <td>0.592619</td>\n",
       "      <td>0.554129</td>\n",
       "      <td>0.813967</td>\n",
       "      <td>1.000000</td>\n",
       "      <td>0.273133</td>\n",
       "    </tr>\n",
       "    <tr>\n",
       "      <th>AVERAGE_INCOME_TOTAL</th>\n",
       "      <td>-0.213271</td>\n",
       "      <td>-0.455340</td>\n",
       "      <td>-0.178365</td>\n",
       "      <td>0.273133</td>\n",
       "      <td>1.000000</td>\n",
       "    </tr>\n",
       "  </tbody>\n",
       "</table>\n",
       "</div>"
      ],
      "text/plain": [
       "                      DISTRICT_CODE  POP_TOTAL  Dog Count  Dogs_per_person  \\\n",
       "DISTRICT_CODE              1.000000   0.453962   0.563003         0.592619   \n",
       "POP_TOTAL                  0.453962   1.000000   0.903501         0.554129   \n",
       "Dog Count                  0.563003   0.903501   1.000000         0.813967   \n",
       "Dogs_per_person            0.592619   0.554129   0.813967         1.000000   \n",
       "AVERAGE_INCOME_TOTAL      -0.213271  -0.455340  -0.178365         0.273133   \n",
       "\n",
       "                      AVERAGE_INCOME_TOTAL  \n",
       "DISTRICT_CODE                    -0.213271  \n",
       "POP_TOTAL                        -0.455340  \n",
       "Dog Count                        -0.178365  \n",
       "Dogs_per_person                   0.273133  \n",
       "AVERAGE_INCOME_TOTAL              1.000000  "
      ]
     },
     "execution_count": 64,
     "metadata": {},
     "output_type": "execute_result"
    }
   ],
   "source": [
    "dog_vs_people_vs_income.corr()"
   ]
  },
  {
   "cell_type": "markdown",
   "metadata": {},
   "source": [
    "There is no strong correlation between the average income and the number of dogs. Everyone likes to have a dog. Maybe a different kind of dog though...\n",
    "\n",
    "Is there a correlation between a dog breed and the income of its owners?"
   ]
  },
  {
   "cell_type": "markdown",
   "metadata": {},
   "source": [
    "### 3. Which dogs are in trend in the rich neighborhoods of Vienna?\n",
    "We need to go back to the breed-level district statistics to answer this question."
   ]
  },
  {
   "cell_type": "code",
   "execution_count": 198,
   "metadata": {
    "collapsed": false
   },
   "outputs": [
    {
     "data": {
      "text/html": [
       "<div>\n",
       "<table border=\"1\" class=\"dataframe\">\n",
       "  <thead>\n",
       "    <tr style=\"text-align: right;\">\n",
       "      <th></th>\n",
       "      <th>DISTRICT_CODE</th>\n",
       "      <th>Dog Breed</th>\n",
       "      <th>Dog Count</th>\n",
       "    </tr>\n",
       "  </thead>\n",
       "  <tbody>\n",
       "    <tr>\n",
       "      <th>0</th>\n",
       "      <td>90100</td>\n",
       "      <td>Afghanischer Windhund</td>\n",
       "      <td>1</td>\n",
       "    </tr>\n",
       "    <tr>\n",
       "      <th>1</th>\n",
       "      <td>90100</td>\n",
       "      <td>Amerikanischer Pit-Bullterrier</td>\n",
       "      <td>1</td>\n",
       "    </tr>\n",
       "    <tr>\n",
       "      <th>2</th>\n",
       "      <td>90100</td>\n",
       "      <td>Amerikanischer Staffordshire-Terrier</td>\n",
       "      <td>5</td>\n",
       "    </tr>\n",
       "    <tr>\n",
       "      <th>3</th>\n",
       "      <td>90100</td>\n",
       "      <td>Australian Shepherd Dog</td>\n",
       "      <td>3</td>\n",
       "    </tr>\n",
       "    <tr>\n",
       "      <th>4</th>\n",
       "      <td>90100</td>\n",
       "      <td>Australian Terrier</td>\n",
       "      <td>1</td>\n",
       "    </tr>\n",
       "  </tbody>\n",
       "</table>\n",
       "</div>"
      ],
      "text/plain": [
       "   DISTRICT_CODE                             Dog Breed  Dog Count\n",
       "0          90100                 Afghanischer Windhund          1\n",
       "1          90100        Amerikanischer Pit-Bullterrier          1\n",
       "2          90100  Amerikanischer Staffordshire-Terrier          5\n",
       "3          90100               Australian Shepherd Dog          3\n",
       "4          90100                    Australian Terrier          1"
      ]
     },
     "execution_count": 198,
     "metadata": {},
     "output_type": "execute_result"
    }
   ],
   "source": [
    "# Filter out specific rows\n",
    "filtered_dogs = data.loc[data['Dog Breed']!='Unbekannt']\n",
    "filtered_dogs.head()"
   ]
  },
  {
   "cell_type": "markdown",
   "metadata": {},
   "source": [
    "Next, we need the relative counts instead of the absolute counts for the breeds to be able to compare across districts."
   ]
  },
  {
   "cell_type": "code",
   "execution_count": 218,
   "metadata": {
    "collapsed": false
   },
   "outputs": [
    {
     "data": {
      "text/html": [
       "<div>\n",
       "<table border=\"1\" class=\"dataframe\">\n",
       "  <thead>\n",
       "    <tr style=\"text-align: right;\">\n",
       "      <th></th>\n",
       "      <th>DISTRICT_CODE</th>\n",
       "      <th>Dog Breed</th>\n",
       "      <th>Dog Count_x</th>\n",
       "      <th>POP_TOTAL</th>\n",
       "      <th>Dog Count_y</th>\n",
       "      <th>Dogs_per_person</th>\n",
       "      <th>Breed_Percent</th>\n",
       "    </tr>\n",
       "  </thead>\n",
       "  <tbody>\n",
       "    <tr>\n",
       "      <th>2610</th>\n",
       "      <td>91900</td>\n",
       "      <td>Labrador Retriever</td>\n",
       "      <td>193</td>\n",
       "      <td>69999</td>\n",
       "      <td>2745</td>\n",
       "      <td>0.039215</td>\n",
       "      <td>7</td>\n",
       "    </tr>\n",
       "    <tr>\n",
       "      <th>1672</th>\n",
       "      <td>91300</td>\n",
       "      <td>Labrador Retriever</td>\n",
       "      <td>148</td>\n",
       "      <td>52115</td>\n",
       "      <td>1990</td>\n",
       "      <td>0.038185</td>\n",
       "      <td>7</td>\n",
       "    </tr>\n",
       "    <tr>\n",
       "      <th>2432</th>\n",
       "      <td>91800</td>\n",
       "      <td>Labrador Retriever</td>\n",
       "      <td>94</td>\n",
       "      <td>49178</td>\n",
       "      <td>1316</td>\n",
       "      <td>0.026760</td>\n",
       "      <td>7</td>\n",
       "    </tr>\n",
       "    <tr>\n",
       "      <th>51</th>\n",
       "      <td>90100</td>\n",
       "      <td>Labrador Retriever</td>\n",
       "      <td>35</td>\n",
       "      <td>16339</td>\n",
       "      <td>465</td>\n",
       "      <td>0.028460</td>\n",
       "      <td>7</td>\n",
       "    </tr>\n",
       "    <tr>\n",
       "      <th>1295</th>\n",
       "      <td>91100</td>\n",
       "      <td>Chihuahua kurzhaariger Schlag</td>\n",
       "      <td>271</td>\n",
       "      <td>95198</td>\n",
       "      <td>3539</td>\n",
       "      <td>0.037175</td>\n",
       "      <td>7</td>\n",
       "    </tr>\n",
       "  </tbody>\n",
       "</table>\n",
       "</div>"
      ],
      "text/plain": [
       "      DISTRICT_CODE                      Dog Breed  Dog Count_x  POP_TOTAL  \\\n",
       "2610          91900             Labrador Retriever          193      69999   \n",
       "1672          91300             Labrador Retriever          148      52115   \n",
       "2432          91800             Labrador Retriever           94      49178   \n",
       "51            90100             Labrador Retriever           35      16339   \n",
       "1295          91100  Chihuahua kurzhaariger Schlag          271      95198   \n",
       "\n",
       "      Dog Count_y  Dogs_per_person  Breed_Percent  \n",
       "2610         2745         0.039215              7  \n",
       "1672         1990         0.038185              7  \n",
       "2432         1316         0.026760              7  \n",
       "51            465         0.028460              7  \n",
       "1295         3539         0.037175              7  "
      ]
     },
     "execution_count": 218,
     "metadata": {},
     "output_type": "execute_result"
    }
   ],
   "source": [
    "district_stats = filtered_dogs.merge(dog_vs_people, on='DISTRICT_CODE')\n",
    "district_stats['Breed_Percent'] = ((district_stats['Dog Count_x'] / district_stats['Dog Count_y']) * 100).astype(int)\n",
    "# Drop 0 values\n",
    "district_stats = district_stats[(district_stats['Breed_Percent']>0)]\n",
    "district_stats.sort_values(ascending=False, by='Breed_Percent').head()"
   ]
  },
  {
   "cell_type": "code",
   "execution_count": 219,
   "metadata": {
    "collapsed": false
   },
   "outputs": [
    {
     "data": {
      "text/html": [
       "<div>\n",
       "<table border=\"1\" class=\"dataframe\">\n",
       "  <thead>\n",
       "    <tr style=\"text-align: right;\">\n",
       "      <th>Dog Breed</th>\n",
       "      <th>DISTRICT_CODE</th>\n",
       "      <th>Amerikanischer Pit-Bullterrier</th>\n",
       "      <th>Amerikanischer Staffordshire-Terrier</th>\n",
       "      <th>Australian Shepherd Dog</th>\n",
       "      <th>Beagle</th>\n",
       "      <th>Border-Collie</th>\n",
       "      <th>Boxer</th>\n",
       "      <th>Cavalier King Charles Spaniel</th>\n",
       "      <th>Chihuahua kurzhaariger Schlag</th>\n",
       "      <th>Chihuahua langhaariger Schlag</th>\n",
       "      <th>...</th>\n",
       "      <th>Shih Tzu</th>\n",
       "      <th>Siberian Husky</th>\n",
       "      <th>Spitz</th>\n",
       "      <th>Toy-Pudel</th>\n",
       "      <th>Weimaraner</th>\n",
       "      <th>West Highland White Terrier</th>\n",
       "      <th>Yorkshire Terrier</th>\n",
       "      <th>Zwergpinscher</th>\n",
       "      <th>Zwergschnauzer</th>\n",
       "      <th>Zwergspitz</th>\n",
       "    </tr>\n",
       "  </thead>\n",
       "  <tbody>\n",
       "    <tr>\n",
       "      <th>0</th>\n",
       "      <td>90100</td>\n",
       "      <td>0</td>\n",
       "      <td>1</td>\n",
       "      <td>0</td>\n",
       "      <td>1</td>\n",
       "      <td>1</td>\n",
       "      <td>1</td>\n",
       "      <td>0</td>\n",
       "      <td>2</td>\n",
       "      <td>0</td>\n",
       "      <td>...</td>\n",
       "      <td>1</td>\n",
       "      <td>0</td>\n",
       "      <td>0</td>\n",
       "      <td>1</td>\n",
       "      <td>1</td>\n",
       "      <td>1</td>\n",
       "      <td>1</td>\n",
       "      <td>0</td>\n",
       "      <td>0</td>\n",
       "      <td>0</td>\n",
       "    </tr>\n",
       "    <tr>\n",
       "      <th>1</th>\n",
       "      <td>90200</td>\n",
       "      <td>0</td>\n",
       "      <td>2</td>\n",
       "      <td>0</td>\n",
       "      <td>1</td>\n",
       "      <td>1</td>\n",
       "      <td>0</td>\n",
       "      <td>0</td>\n",
       "      <td>5</td>\n",
       "      <td>1</td>\n",
       "      <td>...</td>\n",
       "      <td>1</td>\n",
       "      <td>0</td>\n",
       "      <td>0</td>\n",
       "      <td>0</td>\n",
       "      <td>0</td>\n",
       "      <td>0</td>\n",
       "      <td>3</td>\n",
       "      <td>1</td>\n",
       "      <td>0</td>\n",
       "      <td>1</td>\n",
       "    </tr>\n",
       "    <tr>\n",
       "      <th>2</th>\n",
       "      <td>90300</td>\n",
       "      <td>0</td>\n",
       "      <td>2</td>\n",
       "      <td>0</td>\n",
       "      <td>0</td>\n",
       "      <td>1</td>\n",
       "      <td>0</td>\n",
       "      <td>0</td>\n",
       "      <td>5</td>\n",
       "      <td>0</td>\n",
       "      <td>...</td>\n",
       "      <td>0</td>\n",
       "      <td>1</td>\n",
       "      <td>0</td>\n",
       "      <td>0</td>\n",
       "      <td>0</td>\n",
       "      <td>1</td>\n",
       "      <td>1</td>\n",
       "      <td>1</td>\n",
       "      <td>0</td>\n",
       "      <td>0</td>\n",
       "    </tr>\n",
       "    <tr>\n",
       "      <th>3</th>\n",
       "      <td>90400</td>\n",
       "      <td>0</td>\n",
       "      <td>1</td>\n",
       "      <td>0</td>\n",
       "      <td>2</td>\n",
       "      <td>0</td>\n",
       "      <td>0</td>\n",
       "      <td>0</td>\n",
       "      <td>2</td>\n",
       "      <td>1</td>\n",
       "      <td>...</td>\n",
       "      <td>0</td>\n",
       "      <td>0</td>\n",
       "      <td>0</td>\n",
       "      <td>0</td>\n",
       "      <td>0</td>\n",
       "      <td>1</td>\n",
       "      <td>1</td>\n",
       "      <td>0</td>\n",
       "      <td>0</td>\n",
       "      <td>0</td>\n",
       "    </tr>\n",
       "    <tr>\n",
       "      <th>4</th>\n",
       "      <td>90500</td>\n",
       "      <td>1</td>\n",
       "      <td>3</td>\n",
       "      <td>0</td>\n",
       "      <td>1</td>\n",
       "      <td>0</td>\n",
       "      <td>0</td>\n",
       "      <td>0</td>\n",
       "      <td>4</td>\n",
       "      <td>1</td>\n",
       "      <td>...</td>\n",
       "      <td>0</td>\n",
       "      <td>0</td>\n",
       "      <td>0</td>\n",
       "      <td>0</td>\n",
       "      <td>0</td>\n",
       "      <td>0</td>\n",
       "      <td>2</td>\n",
       "      <td>1</td>\n",
       "      <td>0</td>\n",
       "      <td>0</td>\n",
       "    </tr>\n",
       "  </tbody>\n",
       "</table>\n",
       "<p>5 rows × 40 columns</p>\n",
       "</div>"
      ],
      "text/plain": [
       "Dog Breed  DISTRICT_CODE  Amerikanischer Pit-Bullterrier  \\\n",
       "0                  90100                               0   \n",
       "1                  90200                               0   \n",
       "2                  90300                               0   \n",
       "3                  90400                               0   \n",
       "4                  90500                               1   \n",
       "\n",
       "Dog Breed  Amerikanischer Staffordshire-Terrier  Australian Shepherd Dog  \\\n",
       "0                                             1                        0   \n",
       "1                                             2                        0   \n",
       "2                                             2                        0   \n",
       "3                                             1                        0   \n",
       "4                                             3                        0   \n",
       "\n",
       "Dog Breed  Beagle  Border-Collie  Boxer  Cavalier King Charles Spaniel  \\\n",
       "0               1              1      1                              0   \n",
       "1               1              1      0                              0   \n",
       "2               0              1      0                              0   \n",
       "3               2              0      0                              0   \n",
       "4               1              0      0                              0   \n",
       "\n",
       "Dog Breed  Chihuahua kurzhaariger Schlag  Chihuahua langhaariger Schlag  \\\n",
       "0                                      2                              0   \n",
       "1                                      5                              1   \n",
       "2                                      5                              0   \n",
       "3                                      2                              1   \n",
       "4                                      4                              1   \n",
       "\n",
       "Dog Breed     ...      Shih Tzu  Siberian Husky  Spitz  Toy-Pudel  Weimaraner  \\\n",
       "0             ...             1               0      0          1           1   \n",
       "1             ...             1               0      0          0           0   \n",
       "2             ...             0               1      0          0           0   \n",
       "3             ...             0               0      0          0           0   \n",
       "4             ...             0               0      0          0           0   \n",
       "\n",
       "Dog Breed  West Highland White Terrier  Yorkshire Terrier  Zwergpinscher  \\\n",
       "0                                    1                  1              0   \n",
       "1                                    0                  3              1   \n",
       "2                                    1                  1              1   \n",
       "3                                    1                  1              0   \n",
       "4                                    0                  2              1   \n",
       "\n",
       "Dog Breed  Zwergschnauzer  Zwergspitz  \n",
       "0                       0           0  \n",
       "1                       0           1  \n",
       "2                       0           0  \n",
       "3                       0           0  \n",
       "4                       0           0  \n",
       "\n",
       "[5 rows x 40 columns]"
      ]
     },
     "execution_count": 219,
     "metadata": {},
     "output_type": "execute_result"
    }
   ],
   "source": [
    "# Create a “pivot” table based on column values unfolding the original table stats\n",
    "unfolded_breeds = district_stats.pivot_table(index='DISTRICT_CODE', columns='Dog Breed', values='Breed_Percent').fillna(0).astype(int)\n",
    "unfolded_breeds.reset_index(level=0, inplace=True)\n",
    "unfolded_breeds.head()"
   ]
  },
  {
   "cell_type": "code",
   "execution_count": 221,
   "metadata": {
    "collapsed": false
   },
   "outputs": [
    {
     "data": {
      "text/plain": [
       "AVERAGE_INCOME_TOTAL                    1.000000\n",
       "Labrador Retriever                      0.741681\n",
       "Toy-Pudel                               0.633378\n",
       "Schnauzer                               0.633378\n",
       "Parson-Russell-Terrier                  0.633378\n",
       "Weimaraner                              0.633378\n",
       "Flat Coated Retriever                   0.633378\n",
       "Magyar Vizsla                           0.549162\n",
       "West Highland White Terrier             0.434112\n",
       "Pudel                                   0.418268\n",
       "Rauhhaardackel (Zwergdackel)            0.418139\n",
       "Border-Collie                           0.388188\n",
       "Boxer                                   0.349132\n",
       "Englischer Cockerspaniel                0.223980\n",
       "Beagle                                  0.223901\n",
       "Golden Retriever                        0.211484\n",
       "Dackel                                  0.178157\n",
       "Zwergschnauzer                          0.089984\n",
       "Drahthaar-Foxterrier                    0.084796\n",
       "Spitz                                   0.084796\n",
       "Cavalier King Charles Spaniel           0.082323\n",
       "Australian Shepherd Dog                 0.043597\n",
       "Siberian Husky                          0.030186\n",
       "Collie                                  0.023761\n",
       "Mops                                   -0.082396\n",
       "Jack-Russell-Terrier                   -0.117556\n",
       "Rottweiler                             -0.160320\n",
       "Shih Tzu                               -0.174853\n",
       "Havaneser                              -0.204154\n",
       "DISTRICT_CODE                          -0.213271\n",
       "Französische Bulldogge                 -0.296468\n",
       "Deutscher Schäferhund                  -0.302884\n",
       "Zwergspitz                             -0.333309\n",
       "Pekinese                               -0.499141\n",
       "Zwergpinscher                          -0.499712\n",
       "Malteser                               -0.538629\n",
       "Yorkshire Terrier                      -0.561689\n",
       "Chihuahua langhaariger Schlag          -0.591629\n",
       "Chihuahua kurzhaariger Schlag          -0.688575\n",
       "Amerikanischer Pit-Bullterrier         -0.696840\n",
       "Amerikanischer Staffordshire-Terrier   -0.801987\n",
       "dtype: float64"
      ]
     },
     "execution_count": 221,
     "metadata": {},
     "output_type": "execute_result"
    }
   ],
   "source": [
    "breeds_vs_income = unfolded_breeds.merge(income_2014, on='DISTRICT_CODE')\n",
    "c = breeds_vs_income.corr()\n",
    "s = c.unstack()\n",
    "s.sort_values(ascending=False)['AVERAGE_INCOME_TOTAL']"
   ]
  },
  {
   "cell_type": "markdown",
   "metadata": {},
   "source": [
    "That is it! Labradors and Toy-Pudels are positively correlated with higher incomes. Staff, Pit-Bull and Chihuahuas with lower."
   ]
  },
  {
   "cell_type": "markdown",
   "metadata": {},
   "source": [
    "### 4. Open Data for Local Communities\n",
    "Let us analyse district statistics on the example of the 2nd district (Leopoldstadt). \n",
    "\n",
    "You can replace the district code in the variable below to see the stats for your own district."
   ]
  },
  {
   "cell_type": "code",
   "execution_count": 138,
   "metadata": {
    "collapsed": false
   },
   "outputs": [
    {
     "data": {
      "text/html": [
       "<div>\n",
       "<table border=\"1\" class=\"dataframe\">\n",
       "  <thead>\n",
       "    <tr style=\"text-align: right;\">\n",
       "      <th></th>\n",
       "      <th>DISTRICT_CODE</th>\n",
       "      <th>POP_TOTAL</th>\n",
       "      <th>Dog Count</th>\n",
       "      <th>Dogs_per_person</th>\n",
       "      <th>AVERAGE_INCOME_TOTAL</th>\n",
       "    </tr>\n",
       "  </thead>\n",
       "  <tbody>\n",
       "    <tr>\n",
       "      <th>1</th>\n",
       "      <td>90200</td>\n",
       "      <td>101702</td>\n",
       "      <td>2545</td>\n",
       "      <td>0.025024</td>\n",
       "      <td>19.887</td>\n",
       "    </tr>\n",
       "  </tbody>\n",
       "</table>\n",
       "</div>"
      ],
      "text/plain": [
       "   DISTRICT_CODE  POP_TOTAL  Dog Count  Dogs_per_person  AVERAGE_INCOME_TOTAL\n",
       "1          90200     101702       2545         0.025024                19.887"
      ]
     },
     "execution_count": 138,
     "metadata": {},
     "output_type": "execute_result"
    }
   ],
   "source": [
    "district = 90200\n",
    "# Get the slice of the joint dataset according to the search query\n",
    "dog_vs_people_vs_income.head()\n",
    "district_dogs = dog_vs_people_vs_income.loc[dog_vs_people_vs_income.DISTRICT_CODE==district]\n",
    "district_dogs"
   ]
  },
  {
   "cell_type": "markdown",
   "metadata": {},
   "source": [
    "Let us compare this stats with the averages across all Vienna districts."
   ]
  },
  {
   "cell_type": "code",
   "execution_count": 139,
   "metadata": {
    "collapsed": false
   },
   "outputs": [
    {
     "data": {
      "text/html": [
       "<div>\n",
       "<table border=\"1\" class=\"dataframe\">\n",
       "  <thead>\n",
       "    <tr style=\"text-align: right;\">\n",
       "      <th></th>\n",
       "      <th>DISTRICT_CODE</th>\n",
       "      <th>POP_TOTAL</th>\n",
       "      <th>Dog Count</th>\n",
       "      <th>Dogs_per_person</th>\n",
       "      <th>AVERAGE_INCOME_TOTAL</th>\n",
       "    </tr>\n",
       "  </thead>\n",
       "  <tbody>\n",
       "    <tr>\n",
       "      <th>count</th>\n",
       "      <td>23.000000</td>\n",
       "      <td>23.000000</td>\n",
       "      <td>23.000000</td>\n",
       "      <td>23.000000</td>\n",
       "      <td>23.000000</td>\n",
       "    </tr>\n",
       "    <tr>\n",
       "      <th>mean</th>\n",
       "      <td>91200.000000</td>\n",
       "      <td>78145.086957</td>\n",
       "      <td>2431.695652</td>\n",
       "      <td>0.028148</td>\n",
       "      <td>22.115696</td>\n",
       "    </tr>\n",
       "    <tr>\n",
       "      <th>std</th>\n",
       "      <td>678.232998</td>\n",
       "      <td>45913.577588</td>\n",
       "      <td>2111.114019</td>\n",
       "      <td>0.009538</td>\n",
       "      <td>3.571603</td>\n",
       "    </tr>\n",
       "    <tr>\n",
       "      <th>min</th>\n",
       "      <td>90100.000000</td>\n",
       "      <td>16339.000000</td>\n",
       "      <td>459.000000</td>\n",
       "      <td>0.017715</td>\n",
       "      <td>16.799000</td>\n",
       "    </tr>\n",
       "    <tr>\n",
       "      <th>25%</th>\n",
       "      <td>90650.000000</td>\n",
       "      <td>45030.000000</td>\n",
       "      <td>922.000000</td>\n",
       "      <td>0.020841</td>\n",
       "      <td>19.236000</td>\n",
       "    </tr>\n",
       "    <tr>\n",
       "      <th>50%</th>\n",
       "      <td>91200.000000</td>\n",
       "      <td>76320.000000</td>\n",
       "      <td>1990.000000</td>\n",
       "      <td>0.025111</td>\n",
       "      <td>22.505000</td>\n",
       "    </tr>\n",
       "    <tr>\n",
       "      <th>75%</th>\n",
       "      <td>91750.000000</td>\n",
       "      <td>95986.500000</td>\n",
       "      <td>2787.000000</td>\n",
       "      <td>0.034427</td>\n",
       "      <td>23.825500</td>\n",
       "    </tr>\n",
       "    <tr>\n",
       "      <th>max</th>\n",
       "      <td>92300.000000</td>\n",
       "      <td>189713.000000</td>\n",
       "      <td>8504.000000</td>\n",
       "      <td>0.049162</td>\n",
       "      <td>32.493000</td>\n",
       "    </tr>\n",
       "  </tbody>\n",
       "</table>\n",
       "</div>"
      ],
      "text/plain": [
       "       DISTRICT_CODE      POP_TOTAL    Dog Count  Dogs_per_person  \\\n",
       "count      23.000000      23.000000    23.000000        23.000000   \n",
       "mean    91200.000000   78145.086957  2431.695652         0.028148   \n",
       "std       678.232998   45913.577588  2111.114019         0.009538   \n",
       "min     90100.000000   16339.000000   459.000000         0.017715   \n",
       "25%     90650.000000   45030.000000   922.000000         0.020841   \n",
       "50%     91200.000000   76320.000000  1990.000000         0.025111   \n",
       "75%     91750.000000   95986.500000  2787.000000         0.034427   \n",
       "max     92300.000000  189713.000000  8504.000000         0.049162   \n",
       "\n",
       "       AVERAGE_INCOME_TOTAL  \n",
       "count             23.000000  \n",
       "mean              22.115696  \n",
       "std                3.571603  \n",
       "min               16.799000  \n",
       "25%               19.236000  \n",
       "50%               22.505000  \n",
       "75%               23.825500  \n",
       "max               32.493000  "
      ]
     },
     "execution_count": 139,
     "metadata": {},
     "output_type": "execute_result"
    }
   ],
   "source": [
    "dog_vs_people_vs_income.describe()"
   ]
  },
  {
   "cell_type": "markdown",
   "metadata": {},
   "source": [
    "2nd district is among the largest districts in Vienna in terms of population (in the 4th quantile: 95,986 < 101,702 < 189,713). \n",
    "\n",
    "It is below average with respect to the official income statistics (in the 2nd quantile: 19,236 < 19,887 < 22,505).\n",
    "\n",
    "There is a single dog per 40 inhabitants (25 dogs/1,000 people) which is the average in Vienna."
   ]
  },
  {
   "cell_type": "markdown",
   "metadata": {},
   "source": [
    "## Lessons Learned\n",
    "\n",
    "### Dogs in Vienna\n",
    "\n",
    "Based on the data available we were able to provide comprehensive answers to the set of research questions proposed in the introduction.\n",
    "\n",
    "1. The dogs are distributed propotional to the number of people across the districts.\n",
    "2. However, some districts seem to have fewer dogs than expected (5th and 15th) and some more (21th and 22th), which points to other factors that may influence the decision to acquire a dog pet, such as availability of dog playgrounds in the area or ability to sustain the dog, i.e. income of the owner.\n",
    "3. Labradors, Toy-Pudels, Schnauzer, Parson-Russell Terriers, Weimaraner, Flat Coated Retrievers, Magyar Vizsla and West Highland White Terriers are the favorites of the upscale districts in Vienna. This may correlate with the dog prices as well.\n",
    "4. Leopoldstadt is a big relatively poor district with an adequate proportion of dogs. Statistics on population and average income provides us additional insights into the situation in our neighborhouds, which may be useful for other types of analysis as well.\n",
    "\n",
    "\n",
    "### Open Data Quality\n",
    "    1. Descriptions do not provide enough information on what kind of data the dataset contains, e.g. the date span in our example.\n",
    "    2. Formatting is consistent for the same publisher, which is the good news. Especially if it is a big publisher with many datasets, such as governmental agency.  \n",
    "    \n",
    "### Process\n",
    "    1. Find datasets, e.g. CSV files from open data portals\n",
    "    2. Refine: identify column separator, thousands separator, rows to skip, string encoding, etc.\n",
    "    3. Aggregate: group by different attributes, e.g. district or type, and sum up the counts.\n",
    "    4. Join datasets on the common key, e.g. district code identifier.\n",
    "    5. Check correlation between the columns.\n",
    "\n",
    "## Inspired by\n",
    "1. [Detail Analysis of various Hospital factors](https://www.kaggle.com/nirajvermafcb/d/cms/hospital-general-information/detail-analysis-of-various-hospital-factors)\n",
    "2. Wheelan, Charles J. Naked Statistics. 2013\n",
    "\n",
    "## More Vienna Dog Data\n",
    "1. [Hundezonen in Wien](https://www.wien.gv.at/umwelt/parks/hundezonen.html)\n",
    "2. [Hunde, Hundezonen und Hundekotsackerlspender nach Bezirken 2015](https://www.wien.gv.at/statistik/lebensraum/tabellen/hundezonen-bez.html)"
   ]
  }
 ],
 "metadata": {
  "anaconda-cloud": {},
  "kernelspec": {
   "display_name": "Python [conda env:py3]",
   "language": "python",
   "name": "conda-env-py3-py"
  },
  "language_info": {
   "codemirror_mode": {
    "name": "ipython",
    "version": 3
   },
   "file_extension": ".py",
   "mimetype": "text/x-python",
   "name": "python",
   "nbconvert_exporter": "python",
   "pygments_lexer": "ipython3",
   "version": "3.4.5"
  }
 },
 "nbformat": 4,
 "nbformat_minor": 1
}
